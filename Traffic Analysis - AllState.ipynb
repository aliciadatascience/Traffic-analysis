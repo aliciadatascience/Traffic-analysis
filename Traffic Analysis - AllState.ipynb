{
 "cells": [
  {
   "cell_type": "markdown",
   "metadata": {},
   "source": [
    "# Traffic Analysis"
   ]
  },
  {
   "cell_type": "markdown",
   "metadata": {},
   "source": [
    "&nbsp; &nbsp; &nbsp; &nbsp; Average Daily Traffic counts are analogous to a census count of vehicles on city streets. There counts provide a close approximation to the actual number of vehicles passing through a given location on an average weekday. Since it is not possible to count every vehicle on every city street, sample counts are taken along streets to get an estimate of traffic on half-mile or one-mile street segments.<br /> \n",
    "\n",
    "&nbsp; &nbsp; &nbsp; &nbsp; Herein, I will performed data cleaning and feature engineering, analyze the traffic data to answer the required questions and try to explore more."
   ]
  },
  {
   "cell_type": "code",
   "execution_count": 125,
   "metadata": {},
   "outputs": [],
   "source": [
    "# import the necessary libraries\n",
    "import pandas as pd\n",
    "import numpy as np\n",
    "import matplotlib.pyplot as plt\n",
    "import seaborn as sns\n",
    "\n",
    "%matplotlib inline"
   ]
  },
  {
   "cell_type": "markdown",
   "metadata": {},
   "source": [
    "## Table of Contents\n",
    "1. [Load Data](#load)\n",
    "2. [Data Cleaning and Feature Engineering](#cleaning)\n",
    "3. [Q1: What's the busiest street?](#street)\n",
    "4. [Q2: What's the busiest month?](#month)\n",
    "5. [Q3: Is there a busiest direction?](#direction)\n",
    "6. [Q4: What data cleaning and feature engineering steps did you take?](#feature)\n",
    "7. [Q5: What else can you find out from this data?](#else)\n",
    "8. [Summary of Preprocessing Data](#summary)\n",
    "9. [Results and Insights](#result)\n"
   ]
  },
  {
   "cell_type": "markdown",
   "metadata": {},
   "source": [
    "<a id='load'></a>\n",
    "### 1. Load Data"
   ]
  },
  {
   "cell_type": "code",
   "execution_count": 921,
   "metadata": {},
   "outputs": [
    {
     "data": {
      "text/html": [
       "<div>\n",
       "<style scoped>\n",
       "    .dataframe tbody tr th:only-of-type {\n",
       "        vertical-align: middle;\n",
       "    }\n",
       "\n",
       "    .dataframe tbody tr th {\n",
       "        vertical-align: top;\n",
       "    }\n",
       "\n",
       "    .dataframe thead th {\n",
       "        text-align: right;\n",
       "    }\n",
       "</style>\n",
       "<table border=\"1\" class=\"dataframe\">\n",
       "  <thead>\n",
       "    <tr style=\"text-align: right;\">\n",
       "      <th></th>\n",
       "      <th>ID</th>\n",
       "      <th>Traffic Volume Count Location  Address</th>\n",
       "      <th>Street</th>\n",
       "      <th>Date of Count</th>\n",
       "      <th>Total Passing Vehicle Volume</th>\n",
       "      <th>Vehicle Volume By Each Direction of Traffic</th>\n",
       "      <th>Latitude</th>\n",
       "      <th>Longitude</th>\n",
       "      <th>Location</th>\n",
       "    </tr>\n",
       "  </thead>\n",
       "  <tbody>\n",
       "    <tr>\n",
       "      <th>0</th>\n",
       "      <td>2</td>\n",
       "      <td>1708 West</td>\n",
       "      <td>71st Street</td>\n",
       "      <td>3/9/2006</td>\n",
       "      <td>14600</td>\n",
       "      <td>East Bound: 6900 / West Bound: 7700</td>\n",
       "      <td>41.764877</td>\n",
       "      <td>-87.666635</td>\n",
       "      <td>(41.764877, -87.666635)</td>\n",
       "    </tr>\n",
       "    <tr>\n",
       "      <th>1</th>\n",
       "      <td>3</td>\n",
       "      <td>1275 West</td>\n",
       "      <td>71st Street</td>\n",
       "      <td>2/28/2006</td>\n",
       "      <td>16500</td>\n",
       "      <td>East Bound: 7800 / West Bound: 8700</td>\n",
       "      <td>41.765008</td>\n",
       "      <td>-87.657067</td>\n",
       "      <td>(41.765008, -87.657067)</td>\n",
       "    </tr>\n",
       "    <tr>\n",
       "      <th>2</th>\n",
       "      <td>5</td>\n",
       "      <td>920 West</td>\n",
       "      <td>71st Street</td>\n",
       "      <td>2/28/2006</td>\n",
       "      <td>18200</td>\n",
       "      <td>East Bound: 8800 / West Bound: 9400</td>\n",
       "      <td>41.765153</td>\n",
       "      <td>-87.647751</td>\n",
       "      <td>(41.765153, -87.647751)</td>\n",
       "    </tr>\n",
       "    <tr>\n",
       "      <th>3</th>\n",
       "      <td>6</td>\n",
       "      <td>758 West</td>\n",
       "      <td>71st Street</td>\n",
       "      <td>2/28/2006</td>\n",
       "      <td>21600</td>\n",
       "      <td>East Bound: 10400 / West Bound: 11200</td>\n",
       "      <td>41.765204</td>\n",
       "      <td>-87.644371</td>\n",
       "      <td>(41.765204, -87.644371)</td>\n",
       "    </tr>\n",
       "    <tr>\n",
       "      <th>4</th>\n",
       "      <td>7</td>\n",
       "      <td>240 East</td>\n",
       "      <td>71st St</td>\n",
       "      <td>2/28/2006</td>\n",
       "      <td>18300</td>\n",
       "      <td>East Bound: 9000 / West Bound: 9300</td>\n",
       "      <td>41.765644</td>\n",
       "      <td>-87.618476</td>\n",
       "      <td>(41.765644, -87.618476)</td>\n",
       "    </tr>\n",
       "  </tbody>\n",
       "</table>\n",
       "</div>"
      ],
      "text/plain": [
       "   ID  Traffic Volume Count Location  Address       Street Date of Count  \\\n",
       "0    2                              1708 West  71st Street      3/9/2006   \n",
       "1    3                              1275 West  71st Street     2/28/2006   \n",
       "2    5                               920 West  71st Street     2/28/2006   \n",
       "3    6                               758 West  71st Street     2/28/2006   \n",
       "4    7                               240 East      71st St     2/28/2006   \n",
       "\n",
       "   Total Passing Vehicle Volume Vehicle Volume By Each Direction of Traffic  \\\n",
       "0                         14600         East Bound: 6900 / West Bound: 7700   \n",
       "1                         16500         East Bound: 7800 / West Bound: 8700   \n",
       "2                         18200         East Bound: 8800 / West Bound: 9400   \n",
       "3                         21600       East Bound: 10400 / West Bound: 11200   \n",
       "4                         18300         East Bound: 9000 / West Bound: 9300   \n",
       "\n",
       "    Latitude  Longitude                 Location  \n",
       "0  41.764877 -87.666635  (41.764877, -87.666635)  \n",
       "1  41.765008 -87.657067  (41.765008, -87.657067)  \n",
       "2  41.765153 -87.647751  (41.765153, -87.647751)  \n",
       "3  41.765204 -87.644371  (41.765204, -87.644371)  \n",
       "4  41.765644 -87.618476  (41.765644, -87.618476)  "
      ]
     },
     "execution_count": 921,
     "metadata": {},
     "output_type": "execute_result"
    }
   ],
   "source": [
    "# load data\n",
    "data = pd.read_csv('C:/Users/xiaoj/Downloads/Average_Daily_Traffic_Counts.csv')\n",
    "data.head()"
   ]
  },
  {
   "cell_type": "code",
   "execution_count": 922,
   "metadata": {},
   "outputs": [
    {
     "name": "stdout",
     "output_type": "stream",
     "text": [
      "<class 'pandas.core.frame.DataFrame'>\n",
      "RangeIndex: 1279 entries, 0 to 1278\n",
      "Data columns (total 9 columns):\n",
      " #   Column                                       Non-Null Count  Dtype  \n",
      "---  ------                                       --------------  -----  \n",
      " 0   ID                                           1279 non-null   int64  \n",
      " 1   Traffic Volume Count Location  Address       1279 non-null   object \n",
      " 2   Street                                       1279 non-null   object \n",
      " 3   Date of Count                                1279 non-null   object \n",
      " 4   Total Passing Vehicle Volume                 1279 non-null   int64  \n",
      " 5   Vehicle Volume By Each Direction of Traffic  1279 non-null   object \n",
      " 6   Latitude                                     1279 non-null   float64\n",
      " 7   Longitude                                    1279 non-null   float64\n",
      " 8   Location                                     1279 non-null   object \n",
      "dtypes: float64(2), int64(2), object(5)\n",
      "memory usage: 90.1+ KB\n"
     ]
    }
   ],
   "source": [
    "# check the null values and total data\n",
    "data.info()"
   ]
  },
  {
   "cell_type": "markdown",
   "metadata": {},
   "source": [
    "It can be seen that the data is not big (only 1279) and also there are non-null values. However, there are several obvious problems:\n",
    "- The features' names are too long to take easily;\n",
    "- The type of \"Date of Count\" is object instead of date;\n",
    "- Vehicle volumes in the opposite directions are recorded in the same column;\n",
    "- Some of the streets' names are inconsistent, such as Street vs. St;\n",
    "\n",
    "I will firstly deal with these problems and explore more."
   ]
  },
  {
   "cell_type": "markdown",
   "metadata": {},
   "source": [
    "<a id='cleaning'></a>\n",
    "## 2. Data Cleaning and Feature Engineering"
   ]
  },
  {
   "cell_type": "code",
   "execution_count": 924,
   "metadata": {},
   "outputs": [
    {
     "data": {
      "text/plain": [
       "Index(['ID ', 'Traffic Volume Count Location  Address', 'Street',\n",
       "       'Date of Count', 'Total Passing Vehicle Volume',\n",
       "       'Vehicle Volume By Each Direction of Traffic', 'Latitude', 'Longitude',\n",
       "       'Location'],\n",
       "      dtype='object')"
      ]
     },
     "execution_count": 924,
     "metadata": {},
     "output_type": "execute_result"
    }
   ],
   "source": [
    "# check all the columns\n",
    "data.columns"
   ]
  },
  {
   "cell_type": "code",
   "execution_count": 925,
   "metadata": {},
   "outputs": [
    {
     "data": {
      "text/html": [
       "<div>\n",
       "<style scoped>\n",
       "    .dataframe tbody tr th:only-of-type {\n",
       "        vertical-align: middle;\n",
       "    }\n",
       "\n",
       "    .dataframe tbody tr th {\n",
       "        vertical-align: top;\n",
       "    }\n",
       "\n",
       "    .dataframe thead th {\n",
       "        text-align: right;\n",
       "    }\n",
       "</style>\n",
       "<table border=\"1\" class=\"dataframe\">\n",
       "  <thead>\n",
       "    <tr style=\"text-align: right;\">\n",
       "      <th></th>\n",
       "      <th>ID</th>\n",
       "      <th>Address</th>\n",
       "      <th>Street</th>\n",
       "      <th>Date</th>\n",
       "      <th>Total</th>\n",
       "      <th>Direction</th>\n",
       "      <th>Latitude</th>\n",
       "      <th>Longitude</th>\n",
       "      <th>Location</th>\n",
       "    </tr>\n",
       "  </thead>\n",
       "  <tbody>\n",
       "    <tr>\n",
       "      <th>0</th>\n",
       "      <td>2</td>\n",
       "      <td>1708 West</td>\n",
       "      <td>71st Street</td>\n",
       "      <td>3/9/2006</td>\n",
       "      <td>14600</td>\n",
       "      <td>East Bound: 6900 / West Bound: 7700</td>\n",
       "      <td>41.764877</td>\n",
       "      <td>-87.666635</td>\n",
       "      <td>(41.764877, -87.666635)</td>\n",
       "    </tr>\n",
       "    <tr>\n",
       "      <th>1</th>\n",
       "      <td>3</td>\n",
       "      <td>1275 West</td>\n",
       "      <td>71st Street</td>\n",
       "      <td>2/28/2006</td>\n",
       "      <td>16500</td>\n",
       "      <td>East Bound: 7800 / West Bound: 8700</td>\n",
       "      <td>41.765008</td>\n",
       "      <td>-87.657067</td>\n",
       "      <td>(41.765008, -87.657067)</td>\n",
       "    </tr>\n",
       "    <tr>\n",
       "      <th>2</th>\n",
       "      <td>5</td>\n",
       "      <td>920 West</td>\n",
       "      <td>71st Street</td>\n",
       "      <td>2/28/2006</td>\n",
       "      <td>18200</td>\n",
       "      <td>East Bound: 8800 / West Bound: 9400</td>\n",
       "      <td>41.765153</td>\n",
       "      <td>-87.647751</td>\n",
       "      <td>(41.765153, -87.647751)</td>\n",
       "    </tr>\n",
       "    <tr>\n",
       "      <th>3</th>\n",
       "      <td>6</td>\n",
       "      <td>758 West</td>\n",
       "      <td>71st Street</td>\n",
       "      <td>2/28/2006</td>\n",
       "      <td>21600</td>\n",
       "      <td>East Bound: 10400 / West Bound: 11200</td>\n",
       "      <td>41.765204</td>\n",
       "      <td>-87.644371</td>\n",
       "      <td>(41.765204, -87.644371)</td>\n",
       "    </tr>\n",
       "    <tr>\n",
       "      <th>4</th>\n",
       "      <td>7</td>\n",
       "      <td>240 East</td>\n",
       "      <td>71st St</td>\n",
       "      <td>2/28/2006</td>\n",
       "      <td>18300</td>\n",
       "      <td>East Bound: 9000 / West Bound: 9300</td>\n",
       "      <td>41.765644</td>\n",
       "      <td>-87.618476</td>\n",
       "      <td>(41.765644, -87.618476)</td>\n",
       "    </tr>\n",
       "  </tbody>\n",
       "</table>\n",
       "</div>"
      ],
      "text/plain": [
       "   ID    Address       Street       Date  Total  \\\n",
       "0   2  1708 West  71st Street   3/9/2006  14600   \n",
       "1   3  1275 West  71st Street  2/28/2006  16500   \n",
       "2   5   920 West  71st Street  2/28/2006  18200   \n",
       "3   6   758 West  71st Street  2/28/2006  21600   \n",
       "4   7   240 East      71st St  2/28/2006  18300   \n",
       "\n",
       "                               Direction   Latitude  Longitude  \\\n",
       "0    East Bound: 6900 / West Bound: 7700  41.764877 -87.666635   \n",
       "1    East Bound: 7800 / West Bound: 8700  41.765008 -87.657067   \n",
       "2    East Bound: 8800 / West Bound: 9400  41.765153 -87.647751   \n",
       "3  East Bound: 10400 / West Bound: 11200  41.765204 -87.644371   \n",
       "4    East Bound: 9000 / West Bound: 9300  41.765644 -87.618476   \n",
       "\n",
       "                  Location  \n",
       "0  (41.764877, -87.666635)  \n",
       "1  (41.765008, -87.657067)  \n",
       "2  (41.765153, -87.647751)  \n",
       "3  (41.765204, -87.644371)  \n",
       "4  (41.765644, -87.618476)  "
      ]
     },
     "execution_count": 925,
     "metadata": {},
     "output_type": "execute_result"
    }
   ],
   "source": [
    "# rename the column names\n",
    "data = data.rename(columns = {\"ID \":\"ID\", 'Traffic Volume Count Location  Address':\"Address\", 'Date of Count':'Date', 'Total Passing Vehicle Volume':'Total', 'Vehicle Volume By Each Direction of Traffic':'Direction'})\n",
    "\n",
    "# check the result after renmaing\n",
    "data.head()"
   ]
  },
  {
   "cell_type": "markdown",
   "metadata": {},
   "source": [
    "Checking the unique values can not only give us information about how many unique values of the feature has but also tell us which features can be used to count. From the following result, it can be found that the ID is unique feature for every data, which means it can be used to count when needed. "
   ]
  },
  {
   "cell_type": "code",
   "execution_count": 173,
   "metadata": {},
   "outputs": [
    {
     "name": "stdout",
     "output_type": "stream",
     "text": [
      "The nunique numbers of ID is: 1279\n",
      "The nunique numbers of Address is: 1203\n",
      "The nunique numbers of Street is: 251\n",
      "The nunique numbers of Date is: 95\n",
      "The nunique numbers of Total is: 398\n",
      "The nunique numbers of Direction is: 1223\n",
      "The nunique numbers of Latitude is: 1272\n",
      "The nunique numbers of Longitude is: 1275\n",
      "The nunique numbers of Location is: 1276\n"
     ]
    }
   ],
   "source": [
    "# check the unique values of every feature\n",
    "for i in data.columns:\n",
    "    print(\"The nunique numbers of \"+ i+ \" is: \" + str(data[i].nunique()))"
   ]
  },
  {
   "cell_type": "code",
   "execution_count": 174,
   "metadata": {},
   "outputs": [],
   "source": [
    "# use the latitute and longitude to get the city information\n",
    "import geocoder\n",
    "def geo_rev(x):\n",
    "    g=geocoder.osm([x['Latitude'], x['Longitude']],method = 'reverse').json\n",
    "    if g:\n",
    "        return g.get('city')\n",
    "        \n",
    "    else:\n",
    "        return 'none'\n",
    "data['city']=data[['Latitude','Longitude']].apply(geo_rev, axis=1)"
   ]
  },
  {
   "cell_type": "code",
   "execution_count": 175,
   "metadata": {},
   "outputs": [
    {
     "data": {
      "text/plain": [
       "Chicago    1266\n",
       "Name: city, dtype: int64"
      ]
     },
     "execution_count": 175,
     "metadata": {},
     "output_type": "execute_result"
    }
   ],
   "source": [
    "# Check how many cities included\n",
    "data['city'].value_counts()"
   ]
  },
  {
   "cell_type": "code",
   "execution_count": 176,
   "metadata": {},
   "outputs": [
    {
     "data": {
      "text/html": [
       "<div>\n",
       "<style scoped>\n",
       "    .dataframe tbody tr th:only-of-type {\n",
       "        vertical-align: middle;\n",
       "    }\n",
       "\n",
       "    .dataframe tbody tr th {\n",
       "        vertical-align: top;\n",
       "    }\n",
       "\n",
       "    .dataframe thead th {\n",
       "        text-align: right;\n",
       "    }\n",
       "</style>\n",
       "<table border=\"1\" class=\"dataframe\">\n",
       "  <thead>\n",
       "    <tr style=\"text-align: right;\">\n",
       "      <th></th>\n",
       "      <th>ID</th>\n",
       "      <th>Address</th>\n",
       "      <th>Street</th>\n",
       "      <th>Date</th>\n",
       "      <th>Total</th>\n",
       "      <th>Direction</th>\n",
       "      <th>Latitude</th>\n",
       "      <th>Longitude</th>\n",
       "      <th>Location</th>\n",
       "      <th>city</th>\n",
       "    </tr>\n",
       "  </thead>\n",
       "  <tbody>\n",
       "    <tr>\n",
       "      <th>0</th>\n",
       "      <td>2</td>\n",
       "      <td>1708 West</td>\n",
       "      <td>71st Street</td>\n",
       "      <td>3/9/2006</td>\n",
       "      <td>14600</td>\n",
       "      <td>East Bound: 6900 / West Bound: 7700</td>\n",
       "      <td>41.764877</td>\n",
       "      <td>-87.666635</td>\n",
       "      <td>(41.764877, -87.666635)</td>\n",
       "      <td>Chicago</td>\n",
       "    </tr>\n",
       "    <tr>\n",
       "      <th>1</th>\n",
       "      <td>3</td>\n",
       "      <td>1275 West</td>\n",
       "      <td>71st Street</td>\n",
       "      <td>2/28/2006</td>\n",
       "      <td>16500</td>\n",
       "      <td>East Bound: 7800 / West Bound: 8700</td>\n",
       "      <td>41.765008</td>\n",
       "      <td>-87.657067</td>\n",
       "      <td>(41.765008, -87.657067)</td>\n",
       "      <td>Chicago</td>\n",
       "    </tr>\n",
       "    <tr>\n",
       "      <th>2</th>\n",
       "      <td>5</td>\n",
       "      <td>920 West</td>\n",
       "      <td>71st Street</td>\n",
       "      <td>2/28/2006</td>\n",
       "      <td>18200</td>\n",
       "      <td>East Bound: 8800 / West Bound: 9400</td>\n",
       "      <td>41.765153</td>\n",
       "      <td>-87.647751</td>\n",
       "      <td>(41.765153, -87.647751)</td>\n",
       "      <td>Chicago</td>\n",
       "    </tr>\n",
       "  </tbody>\n",
       "</table>\n",
       "</div>"
      ],
      "text/plain": [
       "   ID    Address       Street       Date  Total  \\\n",
       "0   2  1708 West  71st Street   3/9/2006  14600   \n",
       "1   3  1275 West  71st Street  2/28/2006  16500   \n",
       "2   5   920 West  71st Street  2/28/2006  18200   \n",
       "\n",
       "                             Direction   Latitude  Longitude  \\\n",
       "0  East Bound: 6900 / West Bound: 7700  41.764877 -87.666635   \n",
       "1  East Bound: 7800 / West Bound: 8700  41.765008 -87.657067   \n",
       "2  East Bound: 8800 / West Bound: 9400  41.765153 -87.647751   \n",
       "\n",
       "                  Location     city  \n",
       "0  (41.764877, -87.666635)  Chicago  \n",
       "1  (41.765008, -87.657067)  Chicago  \n",
       "2  (41.765153, -87.647751)  Chicago  "
      ]
     },
     "execution_count": 176,
     "metadata": {},
     "output_type": "execute_result"
    }
   ],
   "source": [
    "data.head(3)"
   ]
  },
  {
   "cell_type": "code",
   "execution_count": 210,
   "metadata": {},
   "outputs": [
    {
     "name": "stdout",
     "output_type": "stream",
     "text": [
      "(41.692257, -87.720366): Breakfast Club, South Pulaski Road, Mount Greenwood, Oak Lawn, Lake Township, Cook County, Illinois, 60453, United States\n",
      "(41.68508, -87.700584): Cash America Pawn, 11445, South Kedzie Avenue, Mount Greenwood, Merrionette Park, Worth Township, Cook County, Illinois, 60803, United States\n",
      "(41.896495, -87.775191): Austin & Iowa SB, North Austin Boulevard, Ridgeland, Oak Park, Cook County, Illinois, 60302, United States\n",
      "(41.908868, -87.804756): North & Harlem Plaza, West North Avenue, Oak Park, Cook County, Illinois, 60302, United States\n",
      "(41.677257, -87.680696): 119th Street & Western, West 119th Street, Morgan Park, Blue Island, Calumet Township, Cook County, Illinois, 60406, United States\n",
      "(41.735341, -87.693452): 2847, West 87th Street, Evergreen Park, Worth Township, Cook County, Illinois, 60805, United States\n",
      "(41.987853, -87.846528): North East River Road, O'Hare, Park Ridge, Leyden Township, Cook County, Illinois, 60656, United States\n",
      "(41.957636, -87.799463): Forest Preserve Ave & New England WB, West Forest Preserve Drive, Harwood Heights, Norwood Park Township, Cook County, Illinois, 60634, United States\n",
      "(41.91366, -87.805925): 1850, North Harlem Avenue, Beat 2512, Austin, Elmwood Park, Jefferson Township, Cook County, Illinois, 60707, United States\n",
      "(41.7348, -87.724651): 87th Street & Karlov EB, West 87th Street, Ashburn, Hometown, Worth Township, Cook County, Illinois, 60456, United States\n",
      "(41.783408, -87.80116): Advance Auto Parts, 5944, South Harlem Avenue, Clearing, Summit, Lyons Township, Cook County, Illinois, 60501, United States\n",
      "(41.691254, -87.724362): 4401, West 111th Street, Oak Lawn, Worth Township, Cook County, Illinois, 60803, United States\n",
      "(41.707206, -87.720975): 10216, South Pulaski Road, Oak Lawn, Worth Township, Cook County, Illinois, 60453, United States\n"
     ]
    }
   ],
   "source": [
    "# check the address of those with no city\n",
    "data_no_city = data[data['city']!='Chicago']\n",
    "for i in data_no_city['Location']:\n",
    "    lat = i[1:-1].split(\",\")[0]\n",
    "    long = i[1:-1].split(\",\")[1]\n",
    "    print(i + \": \" + geocoder.osm([lat,long], method = 'reverse').json.get('address'))"
   ]
  },
  {
   "cell_type": "markdown",
   "metadata": {},
   "source": [
    "It can be found from above information that those without city information are either township or park. Since there are only 13 data without city information, and the majority (98.98% = 1266 / 1279) of data belongs to Chicago city. I would like to focus our analysis on the city of Chicago."
   ]
  },
  {
   "cell_type": "code",
   "execution_count": 428,
   "metadata": {},
   "outputs": [],
   "source": [
    "# get the data in Chicago and update the data\n",
    "data_chicago = data[data['city']=='Chicago'].reset_index(drop = True)"
   ]
  },
  {
   "cell_type": "code",
   "execution_count": 429,
   "metadata": {},
   "outputs": [
    {
     "data": {
      "text/html": [
       "<div>\n",
       "<style scoped>\n",
       "    .dataframe tbody tr th:only-of-type {\n",
       "        vertical-align: middle;\n",
       "    }\n",
       "\n",
       "    .dataframe tbody tr th {\n",
       "        vertical-align: top;\n",
       "    }\n",
       "\n",
       "    .dataframe thead th {\n",
       "        text-align: right;\n",
       "    }\n",
       "</style>\n",
       "<table border=\"1\" class=\"dataframe\">\n",
       "  <thead>\n",
       "    <tr style=\"text-align: right;\">\n",
       "      <th></th>\n",
       "      <th>ID</th>\n",
       "      <th>Address</th>\n",
       "      <th>Street</th>\n",
       "      <th>Date</th>\n",
       "      <th>Total</th>\n",
       "      <th>Direction</th>\n",
       "      <th>Latitude</th>\n",
       "      <th>Longitude</th>\n",
       "    </tr>\n",
       "  </thead>\n",
       "  <tbody>\n",
       "    <tr>\n",
       "      <th>0</th>\n",
       "      <td>2</td>\n",
       "      <td>1708 West</td>\n",
       "      <td>71st Street</td>\n",
       "      <td>3/9/2006</td>\n",
       "      <td>14600</td>\n",
       "      <td>East Bound: 6900 / West Bound: 7700</td>\n",
       "      <td>41.764877</td>\n",
       "      <td>-87.666635</td>\n",
       "    </tr>\n",
       "    <tr>\n",
       "      <th>1</th>\n",
       "      <td>3</td>\n",
       "      <td>1275 West</td>\n",
       "      <td>71st Street</td>\n",
       "      <td>2/28/2006</td>\n",
       "      <td>16500</td>\n",
       "      <td>East Bound: 7800 / West Bound: 8700</td>\n",
       "      <td>41.765008</td>\n",
       "      <td>-87.657067</td>\n",
       "    </tr>\n",
       "    <tr>\n",
       "      <th>2</th>\n",
       "      <td>5</td>\n",
       "      <td>920 West</td>\n",
       "      <td>71st Street</td>\n",
       "      <td>2/28/2006</td>\n",
       "      <td>18200</td>\n",
       "      <td>East Bound: 8800 / West Bound: 9400</td>\n",
       "      <td>41.765153</td>\n",
       "      <td>-87.647751</td>\n",
       "    </tr>\n",
       "    <tr>\n",
       "      <th>3</th>\n",
       "      <td>6</td>\n",
       "      <td>758 West</td>\n",
       "      <td>71st Street</td>\n",
       "      <td>2/28/2006</td>\n",
       "      <td>21600</td>\n",
       "      <td>East Bound: 10400 / West Bound: 11200</td>\n",
       "      <td>41.765204</td>\n",
       "      <td>-87.644371</td>\n",
       "    </tr>\n",
       "    <tr>\n",
       "      <th>4</th>\n",
       "      <td>7</td>\n",
       "      <td>240 East</td>\n",
       "      <td>71st St</td>\n",
       "      <td>2/28/2006</td>\n",
       "      <td>18300</td>\n",
       "      <td>East Bound: 9000 / West Bound: 9300</td>\n",
       "      <td>41.765644</td>\n",
       "      <td>-87.618476</td>\n",
       "    </tr>\n",
       "  </tbody>\n",
       "</table>\n",
       "</div>"
      ],
      "text/plain": [
       "   ID    Address       Street       Date  Total  \\\n",
       "0   2  1708 West  71st Street   3/9/2006  14600   \n",
       "1   3  1275 West  71st Street  2/28/2006  16500   \n",
       "2   5   920 West  71st Street  2/28/2006  18200   \n",
       "3   6   758 West  71st Street  2/28/2006  21600   \n",
       "4   7   240 East      71st St  2/28/2006  18300   \n",
       "\n",
       "                               Direction   Latitude  Longitude  \n",
       "0    East Bound: 6900 / West Bound: 7700  41.764877 -87.666635  \n",
       "1    East Bound: 7800 / West Bound: 8700  41.765008 -87.657067  \n",
       "2    East Bound: 8800 / West Bound: 9400  41.765153 -87.647751  \n",
       "3  East Bound: 10400 / West Bound: 11200  41.765204 -87.644371  \n",
       "4    East Bound: 9000 / West Bound: 9300  41.765644 -87.618476  "
      ]
     },
     "execution_count": 429,
     "metadata": {},
     "output_type": "execute_result"
    }
   ],
   "source": [
    "# drop some irrelevant columns\n",
    "data_chicago = data_chicago.drop(['Location','city'],1)\n",
    "data_chicago.head()"
   ]
  },
  {
   "cell_type": "code",
   "execution_count": 430,
   "metadata": {},
   "outputs": [
    {
     "data": {
      "text/html": [
       "<div>\n",
       "<style scoped>\n",
       "    .dataframe tbody tr th:only-of-type {\n",
       "        vertical-align: middle;\n",
       "    }\n",
       "\n",
       "    .dataframe tbody tr th {\n",
       "        vertical-align: top;\n",
       "    }\n",
       "\n",
       "    .dataframe thead th {\n",
       "        text-align: right;\n",
       "    }\n",
       "</style>\n",
       "<table border=\"1\" class=\"dataframe\">\n",
       "  <thead>\n",
       "    <tr style=\"text-align: right;\">\n",
       "      <th></th>\n",
       "      <th>ID</th>\n",
       "      <th>Address</th>\n",
       "      <th>Street</th>\n",
       "      <th>Total</th>\n",
       "      <th>Direction</th>\n",
       "      <th>Latitude</th>\n",
       "      <th>Longitude</th>\n",
       "      <th>year</th>\n",
       "      <th>month</th>\n",
       "      <th>day</th>\n",
       "    </tr>\n",
       "  </thead>\n",
       "  <tbody>\n",
       "    <tr>\n",
       "      <th>0</th>\n",
       "      <td>2</td>\n",
       "      <td>1708 West</td>\n",
       "      <td>71st Street</td>\n",
       "      <td>14600</td>\n",
       "      <td>East Bound: 6900 / West Bound: 7700</td>\n",
       "      <td>41.764877</td>\n",
       "      <td>-87.666635</td>\n",
       "      <td>2006</td>\n",
       "      <td>3</td>\n",
       "      <td>Thursday</td>\n",
       "    </tr>\n",
       "    <tr>\n",
       "      <th>1</th>\n",
       "      <td>3</td>\n",
       "      <td>1275 West</td>\n",
       "      <td>71st Street</td>\n",
       "      <td>16500</td>\n",
       "      <td>East Bound: 7800 / West Bound: 8700</td>\n",
       "      <td>41.765008</td>\n",
       "      <td>-87.657067</td>\n",
       "      <td>2006</td>\n",
       "      <td>2</td>\n",
       "      <td>Tuesday</td>\n",
       "    </tr>\n",
       "    <tr>\n",
       "      <th>2</th>\n",
       "      <td>5</td>\n",
       "      <td>920 West</td>\n",
       "      <td>71st Street</td>\n",
       "      <td>18200</td>\n",
       "      <td>East Bound: 8800 / West Bound: 9400</td>\n",
       "      <td>41.765153</td>\n",
       "      <td>-87.647751</td>\n",
       "      <td>2006</td>\n",
       "      <td>2</td>\n",
       "      <td>Tuesday</td>\n",
       "    </tr>\n",
       "    <tr>\n",
       "      <th>3</th>\n",
       "      <td>6</td>\n",
       "      <td>758 West</td>\n",
       "      <td>71st Street</td>\n",
       "      <td>21600</td>\n",
       "      <td>East Bound: 10400 / West Bound: 11200</td>\n",
       "      <td>41.765204</td>\n",
       "      <td>-87.644371</td>\n",
       "      <td>2006</td>\n",
       "      <td>2</td>\n",
       "      <td>Tuesday</td>\n",
       "    </tr>\n",
       "    <tr>\n",
       "      <th>4</th>\n",
       "      <td>7</td>\n",
       "      <td>240 East</td>\n",
       "      <td>71st St</td>\n",
       "      <td>18300</td>\n",
       "      <td>East Bound: 9000 / West Bound: 9300</td>\n",
       "      <td>41.765644</td>\n",
       "      <td>-87.618476</td>\n",
       "      <td>2006</td>\n",
       "      <td>2</td>\n",
       "      <td>Tuesday</td>\n",
       "    </tr>\n",
       "  </tbody>\n",
       "</table>\n",
       "</div>"
      ],
      "text/plain": [
       "   ID    Address       Street  Total                              Direction  \\\n",
       "0   2  1708 West  71st Street  14600    East Bound: 6900 / West Bound: 7700   \n",
       "1   3  1275 West  71st Street  16500    East Bound: 7800 / West Bound: 8700   \n",
       "2   5   920 West  71st Street  18200    East Bound: 8800 / West Bound: 9400   \n",
       "3   6   758 West  71st Street  21600  East Bound: 10400 / West Bound: 11200   \n",
       "4   7   240 East      71st St  18300    East Bound: 9000 / West Bound: 9300   \n",
       "\n",
       "    Latitude  Longitude  year  month       day  \n",
       "0  41.764877 -87.666635  2006      3  Thursday  \n",
       "1  41.765008 -87.657067  2006      2   Tuesday  \n",
       "2  41.765153 -87.647751  2006      2   Tuesday  \n",
       "3  41.765204 -87.644371  2006      2   Tuesday  \n",
       "4  41.765644 -87.618476  2006      2   Tuesday  "
      ]
     },
     "execution_count": 430,
     "metadata": {},
     "output_type": "execute_result"
    }
   ],
   "source": [
    "# change the date type from object to datetime\n",
    "data_chicago['Date'] = pd.to_datetime(data_chicago['Date'])\n",
    "\n",
    "# build new feature of year, month and day \n",
    "data_chicago['year'] = data_chicago['Date'].dt.year\n",
    "data_chicago['month'] = data_chicago['Date'].dt.month\n",
    "data_chicago['day'] = data_chicago['Date'].dt.day_name()\n",
    "data_chicago = data_chicago.drop('Date', 1)\n",
    "\n",
    "# check and review the data \n",
    "data_chicago.head()"
   ]
  },
  {
   "cell_type": "code",
   "execution_count": 451,
   "metadata": {},
   "outputs": [],
   "source": [
    "data_chicago.to_csv('data_chicago_2016')"
   ]
  },
  {
   "cell_type": "code",
   "execution_count": 431,
   "metadata": {},
   "outputs": [
    {
     "data": {
      "text/plain": [
       "2006    1257\n",
       "2007       9\n",
       "Name: year, dtype: int64"
      ]
     },
     "execution_count": 431,
     "metadata": {},
     "output_type": "execute_result"
    }
   ],
   "source": [
    "# Check the year distribution\n",
    "data_chicago['year'].value_counts()"
   ]
  },
  {
   "cell_type": "code",
   "execution_count": 432,
   "metadata": {},
   "outputs": [
    {
     "data": {
      "text/plain": [
       "Street\n",
       "51st St             1\n",
       "Canal St            1\n",
       "Clinton St          1\n",
       "Congress Pkwy       1\n",
       "Dearborn St         1\n",
       "Hollywood Ave       1\n",
       "Milwaukee Ave       1\n",
       "State St            1\n",
       "Stony Island Ave    1\n",
       "Name: ID, dtype: int64"
      ]
     },
     "execution_count": 432,
     "metadata": {},
     "output_type": "execute_result"
    }
   ],
   "source": [
    "# Check how many street are counted and how many times counted\n",
    "data_chicago[data_chicago['year']==2007].groupby('Street')['ID'].count()"
   ]
  },
  {
   "cell_type": "markdown",
   "metadata": {},
   "source": [
    "From the above two information, it is easily to find that most of data were recorded in 2006, only 0.71 (9/1263) were recorded in 2007. And there are only 9 streets recorded, and each of them were recorded once. So, I would like to make the 2nd assumption. This project will only focus on **the city of Chicago in 2006**."
   ]
  },
  {
   "cell_type": "code",
   "execution_count": 520,
   "metadata": {},
   "outputs": [
    {
     "data": {
      "text/plain": [
       "(1257, 9)"
      ]
     },
     "execution_count": 520,
     "metadata": {},
     "output_type": "execute_result"
    }
   ],
   "source": [
    "data_chicago_06 = data_chicago[data_chicago['year']== 2006]\n",
    "data_chicago_06 = data_chicago_06.drop('year',1).reset_index(drop = True)\n",
    "data_chicago_06.shape"
   ]
  },
  {
   "cell_type": "code",
   "execution_count": 516,
   "metadata": {},
   "outputs": [
    {
     "data": {
      "text/plain": [
       "([0, 1, 2, 3, 4, 5], <a list of 6 Text major ticklabel objects>)"
      ]
     },
     "execution_count": 516,
     "metadata": {},
     "output_type": "execute_result"
    },
    {
     "data": {
      "image/png": "[encoded data removed]",
      "text/plain": [
       "<Figure size 360x360 with 1 Axes>"
      ]
     },
     "metadata": {
      "needs_background": "light"
     },
     "output_type": "display_data"
    }
   ],
   "source": [
    "# check the day distribution\n",
    "sns.displot(data_chicago_06['day'])\n",
    "plt.xticks(rotation=20)"
   ]
  },
  {
   "cell_type": "markdown",
   "metadata": {},
   "source": [
    "It can be found that most of the data were collected from Tues to Thurs, some were also collected on Monday. There are no data on Saturday and very few data on Friday and Sunday. I would like to focus on from Monday to Thursday in this project. Since they are working day. Since workday and weekend are really different for some streets, therefore if we want to invovle friday to sunday analysis, more data should be collected. "
   ]
  },
  {
   "cell_type": "code",
   "execution_count": 503,
   "metadata": {},
   "outputs": [
    {
     "data": {
      "text/plain": [
       "(1251, 12)"
      ]
     },
     "execution_count": 503,
     "metadata": {},
     "output_type": "execute_result"
    }
   ],
   "source": [
    "data_chicago_06_day =data_chicago_06[data_chicago_06['day'].isin(['Monday','Tuesday','Wednesday','Thursday'])]\n",
    "data_chicago_06_day.shape"
   ]
  },
  {
   "cell_type": "code",
   "execution_count": 442,
   "metadata": {},
   "outputs": [
    {
     "data": {
      "text/html": [
       "<div>\n",
       "<style scoped>\n",
       "    .dataframe tbody tr th:only-of-type {\n",
       "        vertical-align: middle;\n",
       "    }\n",
       "\n",
       "    .dataframe tbody tr th {\n",
       "        vertical-align: top;\n",
       "    }\n",
       "\n",
       "    .dataframe thead th {\n",
       "        text-align: right;\n",
       "    }\n",
       "</style>\n",
       "<table border=\"1\" class=\"dataframe\">\n",
       "  <thead>\n",
       "    <tr style=\"text-align: right;\">\n",
       "      <th></th>\n",
       "      <th>ID</th>\n",
       "      <th>Address</th>\n",
       "      <th>Street</th>\n",
       "      <th>Total</th>\n",
       "      <th>Latitude</th>\n",
       "      <th>Longitude</th>\n",
       "      <th>month</th>\n",
       "      <th>day</th>\n",
       "      <th>0_direction</th>\n",
       "      <th>0_volume</th>\n",
       "      <th>1_direction</th>\n",
       "      <th>1_volume</th>\n",
       "    </tr>\n",
       "  </thead>\n",
       "  <tbody>\n",
       "    <tr>\n",
       "      <th>0</th>\n",
       "      <td>2</td>\n",
       "      <td>1708 West</td>\n",
       "      <td>71st Street</td>\n",
       "      <td>14600</td>\n",
       "      <td>41.764877</td>\n",
       "      <td>-87.666635</td>\n",
       "      <td>3</td>\n",
       "      <td>Thursday</td>\n",
       "      <td>East</td>\n",
       "      <td>6900</td>\n",
       "      <td>West</td>\n",
       "      <td>7700</td>\n",
       "    </tr>\n",
       "    <tr>\n",
       "      <th>1</th>\n",
       "      <td>3</td>\n",
       "      <td>1275 West</td>\n",
       "      <td>71st Street</td>\n",
       "      <td>16500</td>\n",
       "      <td>41.765008</td>\n",
       "      <td>-87.657067</td>\n",
       "      <td>2</td>\n",
       "      <td>Tuesday</td>\n",
       "      <td>East</td>\n",
       "      <td>7800</td>\n",
       "      <td>West</td>\n",
       "      <td>8700</td>\n",
       "    </tr>\n",
       "    <tr>\n",
       "      <th>2</th>\n",
       "      <td>5</td>\n",
       "      <td>920 West</td>\n",
       "      <td>71st Street</td>\n",
       "      <td>18200</td>\n",
       "      <td>41.765153</td>\n",
       "      <td>-87.647751</td>\n",
       "      <td>2</td>\n",
       "      <td>Tuesday</td>\n",
       "      <td>East</td>\n",
       "      <td>8800</td>\n",
       "      <td>West</td>\n",
       "      <td>9400</td>\n",
       "    </tr>\n",
       "    <tr>\n",
       "      <th>3</th>\n",
       "      <td>6</td>\n",
       "      <td>758 West</td>\n",
       "      <td>71st Street</td>\n",
       "      <td>21600</td>\n",
       "      <td>41.765204</td>\n",
       "      <td>-87.644371</td>\n",
       "      <td>2</td>\n",
       "      <td>Tuesday</td>\n",
       "      <td>East</td>\n",
       "      <td>10400</td>\n",
       "      <td>West</td>\n",
       "      <td>11200</td>\n",
       "    </tr>\n",
       "    <tr>\n",
       "      <th>4</th>\n",
       "      <td>7</td>\n",
       "      <td>240 East</td>\n",
       "      <td>71st St</td>\n",
       "      <td>18300</td>\n",
       "      <td>41.765644</td>\n",
       "      <td>-87.618476</td>\n",
       "      <td>2</td>\n",
       "      <td>Tuesday</td>\n",
       "      <td>East</td>\n",
       "      <td>9000</td>\n",
       "      <td>West</td>\n",
       "      <td>9300</td>\n",
       "    </tr>\n",
       "  </tbody>\n",
       "</table>\n",
       "</div>"
      ],
      "text/plain": [
       "   ID    Address       Street  Total   Latitude  Longitude  month       day  \\\n",
       "0   2  1708 West  71st Street  14600  41.764877 -87.666635      3  Thursday   \n",
       "1   3  1275 West  71st Street  16500  41.765008 -87.657067      2   Tuesday   \n",
       "2   5   920 West  71st Street  18200  41.765153 -87.647751      2   Tuesday   \n",
       "3   6   758 West  71st Street  21600  41.765204 -87.644371      2   Tuesday   \n",
       "4   7   240 East      71st St  18300  41.765644 -87.618476      2   Tuesday   \n",
       "\n",
       "  0_direction  0_volume 1_direction  1_volume  \n",
       "0        East      6900        West      7700  \n",
       "1        East      7800        West      8700  \n",
       "2        East      8800        West      9400  \n",
       "3        East     10400        West     11200  \n",
       "4        East      9000        West      9300  "
      ]
     },
     "execution_count": 442,
     "metadata": {},
     "output_type": "execute_result"
    }
   ],
   "source": [
    "# Split the 'Direction' features into four new features: two direction + corresponding volumes\n",
    "data_chicago_06_day['0_direction'] = data_chicago_06_day['Direction'].str.split('/').str[0].str.split(':').str[0].str[:-6].str.strip()\n",
    "data_chicago_06_day['0_volume'] = data_chicago_06_day['Direction'].str.split('/').str[0].str.split(':').str[1].astype(np.int64)\n",
    "data_chicago_06_day['1_direction'] = data_chicago_06_day['Direction'].str.split('/').str[1].str.split(':').str[0].str[:-6].str.strip()\n",
    "data_chicago_06_day['1_volume'] = data_chicago_06_day'Direction'].str.split('/ ').str[1].str.split(':').str[1].replace(np.nan, 0).astype(np.int64)\n",
    "data_chicago_06_day = data_chicago_06_day.drop('Direction', 1)\n",
    "data_chicago_06_day.head()"
   ]
  },
  {
   "cell_type": "code",
   "execution_count": 443,
   "metadata": {},
   "outputs": [
    {
     "data": {
      "text/plain": [
       "North    635\n",
       "East     554\n",
       "South     38\n",
       "West      30\n",
       "Name: 0_direction, dtype: int64"
      ]
     },
     "execution_count": 443,
     "metadata": {},
     "output_type": "execute_result"
    }
   ],
   "source": [
    "# check what kinds of values included in '0_direction'\n",
    "data_chicago_06_day['0_direction'].value_counts()"
   ]
  },
  {
   "cell_type": "code",
   "execution_count": 444,
   "metadata": {},
   "outputs": [
    {
     "data": {
      "text/plain": [
       "South           610\n",
       "West            526\n",
       "                 52\n",
       "Oneway South     38\n",
       "Oneway West      30\n",
       "Oneway North      1\n",
       "Name: 1_direction, dtype: int64"
      ]
     },
     "execution_count": 444,
     "metadata": {},
     "output_type": "execute_result"
    }
   ],
   "source": [
    "# check what kinds of values included in '1_direction'\n",
    "data_chicago_06_day['1_direction'].value_counts()"
   ]
  },
  {
   "cell_type": "markdown",
   "metadata": {},
   "source": [
    "It is know that there should be at most four directions. However, there are more special situations in feature['1_direction']. I will unify these values. For example, since the \"0_direction\" and \"1_direction\" are splitted from the previous feature \"direction\", they should always be the opposite. When the total volumes is same with the volumes in [\"0_direction\"], it means that volumes of the opposite direction is 0 and vice verse."
   ]
  },
  {
   "cell_type": "code",
   "execution_count": 446,
   "metadata": {},
   "outputs": [
    {
     "data": {
      "text/plain": [
       "South    635\n",
       "West     554\n",
       "North     38\n",
       "East      30\n",
       "Name: 1_direction, dtype: int64"
      ]
     },
     "execution_count": 446,
     "metadata": {},
     "output_type": "execute_result"
    }
   ],
   "source": [
    "# unify the direction in \"1_direction\"\n",
    "dic={'South':\"North\",\"North\":\"South\",\"East\":\"West\",\"West\":\"East\"}\n",
    "\n",
    "for i in range(1251):   \n",
    "    if data_chicago_06_day.loc[i,'Total']==data_chicago_06_day.loc[i,\"0_volume\"]:\n",
    "        data_chicago_06_day.loc[i,'1_volume'] = 0\n",
    "    data_chicago_06_day.loc[i,'1_direction'] = dic[data_chicago_06_day.loc[i,\"0_direction\"]]\n",
    "data_chicago_06_day['1_direction'].value_counts()"
   ]
  },
  {
   "cell_type": "code",
   "execution_count": 447,
   "metadata": {},
   "outputs": [
    {
     "data": {
      "text/plain": [
       "Ave           594\n",
       "St            402\n",
       "Rd             85\n",
       "Street         50\n",
       "Dr             50\n",
       "Blvd           43\n",
       "Broadway        7\n",
       "Pkwy            3\n",
       "ST              3\n",
       "Ct              2\n",
       "Hwy             2\n",
       "L               2\n",
       "O               2\n",
       "Plaisance       2\n",
       "83rdStreet      1\n",
       "II              1\n",
       "Plaissance      1\n",
       "CT              1\n",
       "rd)             1\n",
       "pass)           1\n",
       "Pl              1\n",
       "(lower)         1\n",
       "RD              1\n",
       "PL              1\n",
       "Name: Street, dtype: int64"
      ]
     },
     "execution_count": 447,
     "metadata": {},
     "output_type": "execute_result"
    }
   ],
   "source": [
    "# Check the abbreviation of the name of \"Street\" \n",
    "data_chicago_06_day['Street'].str.split(' ').str[-1].value_counts()"
   ]
  },
  {
   "cell_type": "markdown",
   "metadata": {},
   "source": [
    "Based on above information, it is easily to found that there are some duplicate abbreviations and some name are not abbreviated as expected. All can be summarized as following:\n",
    "- Street: St;\n",
    "- ST: St;\n",
    "- RD: Rd;\n",
    "- CT: Ct;\n",
    "- PL: Pl;\n",
    "- Plaissance: Plaisance;\n",
    "- Western Ave (over pass): Western Ave;\n",
    "- Wacker Dr (lower):Wacker Dr;\n",
    "- Western Ave (frontage rd):vWestern Ave\n",
    "- 83rdStreet: 83rd St"
   ]
  },
  {
   "cell_type": "code",
   "execution_count": 448,
   "metadata": {},
   "outputs": [
    {
     "data": {
      "text/plain": [
       "Ave          596\n",
       "St           455\n",
       "Rd            86\n",
       "Dr            51\n",
       "Blvd          43\n",
       "Broadway       7\n",
       "Ct             3\n",
       "Plaisance      3\n",
       "Pkwy           3\n",
       "Hwy            2\n",
       "L              2\n",
       "O              2\n",
       "Pl             2\n",
       "83rdSt         1\n",
       "II             1\n",
       "Name: Street, dtype: int64"
      ]
     },
     "execution_count": 448,
     "metadata": {},
     "output_type": "execute_result"
    }
   ],
   "source": [
    "# modify the abbreviations of streets\n",
    "data_chicago_06_day['Street']=data_chicago_06_day['Street'].replace({\"Western Ave (over pass)\":\"Western Ave\",\"Wacker Dr (lower)\":\"Wacker Dr\", \"Western Ave (frontage rd)\":\"Western Ave\", \"Plaissance\":\"Plaisance\"},regex=False)\n",
    "data_chicago_06_day['Street']=data_chicago_06_day['Street'].replace({'Street':'St', \"ST\":\"St\",\"RD\":\"Rd\",\"CT\":\"Ct\",\"PL\":\"Pl\"},regex = True)\n",
    "data_chicago_06_day['Street']=data_chicago_06_day['Street'].apply(lambda s: s.replace(\"83rdStreet\",\"83rd  St\"))\n",
    "data_chicago_06_day['Street']=data_chicago_06_day['Street'].apply(lambda s: s.replace(\"Plaissance\",\"Plaisance\"))\n",
    "\n",
    "data_chicago_06_day['Street'].str.split(' ').str[-1].value_counts()"
   ]
  },
  {
   "cell_type": "code",
   "execution_count": 220,
   "metadata": {},
   "outputs": [
    {
     "data": {
      "text/html": [
       "<div>\n",
       "<style scoped>\n",
       "    .dataframe tbody tr th:only-of-type {\n",
       "        vertical-align: middle;\n",
       "    }\n",
       "\n",
       "    .dataframe tbody tr th {\n",
       "        vertical-align: top;\n",
       "    }\n",
       "\n",
       "    .dataframe thead th {\n",
       "        text-align: right;\n",
       "    }\n",
       "</style>\n",
       "<table border=\"1\" class=\"dataframe\">\n",
       "  <thead>\n",
       "    <tr style=\"text-align: right;\">\n",
       "      <th></th>\n",
       "      <th>ID</th>\n",
       "      <th>Address</th>\n",
       "      <th>Street</th>\n",
       "      <th>Date</th>\n",
       "      <th>Total</th>\n",
       "      <th>Latitude</th>\n",
       "      <th>Longitude</th>\n",
       "      <th>year</th>\n",
       "      <th>month</th>\n",
       "      <th>day</th>\n",
       "      <th>0_direction</th>\n",
       "      <th>0_volume</th>\n",
       "      <th>1_direction</th>\n",
       "      <th>1_volume</th>\n",
       "    </tr>\n",
       "  </thead>\n",
       "  <tbody>\n",
       "    <tr>\n",
       "      <th>134</th>\n",
       "      <td>156</td>\n",
       "      <td>9621 South</td>\n",
       "      <td>Avenue L</td>\n",
       "      <td>2006-03-21</td>\n",
       "      <td>5000</td>\n",
       "      <td>41.720702</td>\n",
       "      <td>-87.536499</td>\n",
       "      <td>2006</td>\n",
       "      <td>3</td>\n",
       "      <td>Tuesday</td>\n",
       "      <td>North</td>\n",
       "      <td>3200</td>\n",
       "      <td>South</td>\n",
       "      <td>1800</td>\n",
       "    </tr>\n",
       "    <tr>\n",
       "      <th>135</th>\n",
       "      <td>157</td>\n",
       "      <td>10129 South</td>\n",
       "      <td>Avenue L</td>\n",
       "      <td>2006-03-21</td>\n",
       "      <td>4200</td>\n",
       "      <td>41.711118</td>\n",
       "      <td>-87.536485</td>\n",
       "      <td>2006</td>\n",
       "      <td>3</td>\n",
       "      <td>Tuesday</td>\n",
       "      <td>North</td>\n",
       "      <td>2100</td>\n",
       "      <td>South</td>\n",
       "      <td>2100</td>\n",
       "    </tr>\n",
       "  </tbody>\n",
       "</table>\n",
       "</div>"
      ],
      "text/plain": [
       "      ID      Address    Street       Date  Total   Latitude  Longitude  year  \\\n",
       "134  156   9621 South  Avenue L 2006-03-21   5000  41.720702 -87.536499  2006   \n",
       "135  157  10129 South  Avenue L 2006-03-21   4200  41.711118 -87.536485  2006   \n",
       "\n",
       "     month      day 0_direction  0_volume 1_direction  1_volume  \n",
       "134      3  Tuesday       North      3200       South      1800  \n",
       "135      3  Tuesday       North      2100       South      2100  "
      ]
     },
     "execution_count": 220,
     "metadata": {},
     "output_type": "execute_result"
    }
   ],
   "source": [
    "data_chicago_06_day[data_chicag_06_day['Street'].str.split(' ').str[-1]=='L']"
   ]
  },
  {
   "cell_type": "code",
   "execution_count": 151,
   "metadata": {},
   "outputs": [
    {
     "data": {
      "text/html": [
       "<div>\n",
       "<style scoped>\n",
       "    .dataframe tbody tr th:only-of-type {\n",
       "        vertical-align: middle;\n",
       "    }\n",
       "\n",
       "    .dataframe tbody tr th {\n",
       "        vertical-align: top;\n",
       "    }\n",
       "\n",
       "    .dataframe thead th {\n",
       "        text-align: right;\n",
       "    }\n",
       "</style>\n",
       "<table border=\"1\" class=\"dataframe\">\n",
       "  <thead>\n",
       "    <tr style=\"text-align: right;\">\n",
       "      <th></th>\n",
       "      <th>ID</th>\n",
       "      <th>Address</th>\n",
       "      <th>Street</th>\n",
       "      <th>Date</th>\n",
       "      <th>Total</th>\n",
       "      <th>Latitude</th>\n",
       "      <th>Longitude</th>\n",
       "      <th>year</th>\n",
       "      <th>month</th>\n",
       "      <th>day</th>\n",
       "      <th>0_direction</th>\n",
       "      <th>0_volume</th>\n",
       "      <th>1_direction</th>\n",
       "      <th>1_volume</th>\n",
       "    </tr>\n",
       "  </thead>\n",
       "  <tbody>\n",
       "    <tr>\n",
       "      <th>696</th>\n",
       "      <td>751</td>\n",
       "      <td>11233 South</td>\n",
       "      <td>Avenue O</td>\n",
       "      <td>2006-10-18</td>\n",
       "      <td>16000</td>\n",
       "      <td>41.690863</td>\n",
       "      <td>-87.540104</td>\n",
       "      <td>2006</td>\n",
       "      <td>10</td>\n",
       "      <td>Wednesday</td>\n",
       "      <td>North</td>\n",
       "      <td>8100</td>\n",
       "      <td>South</td>\n",
       "      <td>7900</td>\n",
       "    </tr>\n",
       "    <tr>\n",
       "      <th>1191</th>\n",
       "      <td>1299</td>\n",
       "      <td>10928 South</td>\n",
       "      <td>Avenue O</td>\n",
       "      <td>2006-10-18</td>\n",
       "      <td>12400</td>\n",
       "      <td>41.696434</td>\n",
       "      <td>-87.540090</td>\n",
       "      <td>2006</td>\n",
       "      <td>10</td>\n",
       "      <td>Wednesday</td>\n",
       "      <td>North</td>\n",
       "      <td>7000</td>\n",
       "      <td>South</td>\n",
       "      <td>5400</td>\n",
       "    </tr>\n",
       "  </tbody>\n",
       "</table>\n",
       "</div>"
      ],
      "text/plain": [
       "        ID      Address    Street       Date  Total   Latitude  Longitude  \\\n",
       "696    751  11233 South  Avenue O 2006-10-18  16000  41.690863 -87.540104   \n",
       "1191  1299  10928 South  Avenue O 2006-10-18  12400  41.696434 -87.540090   \n",
       "\n",
       "      year  month        day 0_direction  0_volume 1_direction  1_volume  \n",
       "696   2006     10  Wednesday       North      8100       South      7900  \n",
       "1191  2006     10  Wednesday       North      7000       South      5400  "
      ]
     },
     "execution_count": 151,
     "metadata": {},
     "output_type": "execute_result"
    }
   ],
   "source": [
    "data_chicago_06_day[data_chicago_06_day['Street'].str.split(' ').str[-1]=='O']"
   ]
  },
  {
   "cell_type": "code",
   "execution_count": 152,
   "metadata": {},
   "outputs": [
    {
     "data": {
      "text/html": [
       "<div>\n",
       "<style scoped>\n",
       "    .dataframe tbody tr th:only-of-type {\n",
       "        vertical-align: middle;\n",
       "    }\n",
       "\n",
       "    .dataframe tbody tr th {\n",
       "        vertical-align: top;\n",
       "    }\n",
       "\n",
       "    .dataframe thead th {\n",
       "        text-align: right;\n",
       "    }\n",
       "</style>\n",
       "<table border=\"1\" class=\"dataframe\">\n",
       "  <thead>\n",
       "    <tr style=\"text-align: right;\">\n",
       "      <th></th>\n",
       "      <th>ID</th>\n",
       "      <th>Address</th>\n",
       "      <th>Street</th>\n",
       "      <th>Date</th>\n",
       "      <th>Total</th>\n",
       "      <th>Latitude</th>\n",
       "      <th>Longitude</th>\n",
       "      <th>year</th>\n",
       "      <th>month</th>\n",
       "      <th>day</th>\n",
       "      <th>0_direction</th>\n",
       "      <th>0_volume</th>\n",
       "      <th>1_direction</th>\n",
       "      <th>1_volume</th>\n",
       "    </tr>\n",
       "  </thead>\n",
       "  <tbody>\n",
       "    <tr>\n",
       "      <th>343</th>\n",
       "      <td>375</td>\n",
       "      <td>2701 West</td>\n",
       "      <td>Pope John Paul II</td>\n",
       "      <td>2006-05-09</td>\n",
       "      <td>7000</td>\n",
       "      <td>41.815579</td>\n",
       "      <td>-87.692019</td>\n",
       "      <td>2006</td>\n",
       "      <td>5</td>\n",
       "      <td>Tuesday</td>\n",
       "      <td>West</td>\n",
       "      <td>7000</td>\n",
       "      <td>East</td>\n",
       "      <td>0</td>\n",
       "    </tr>\n",
       "  </tbody>\n",
       "</table>\n",
       "</div>"
      ],
      "text/plain": [
       "      ID    Address             Street       Date  Total   Latitude  \\\n",
       "343  375  2701 West  Pope John Paul II 2006-05-09   7000  41.815579   \n",
       "\n",
       "     Longitude  year  month      day 0_direction  0_volume 1_direction  \\\n",
       "343 -87.692019  2006      5  Tuesday        West      7000        East   \n",
       "\n",
       "     1_volume  \n",
       "343         0  "
      ]
     },
     "execution_count": 152,
     "metadata": {},
     "output_type": "execute_result"
    }
   ],
   "source": [
    "# check the detailed information of \"II\"\n",
    "data_chicago_06_day[data_chicago_06_day['Street'].str.split(' ').str[-1]=='II']"
   ]
  },
  {
   "cell_type": "code",
   "execution_count": 449,
   "metadata": {},
   "outputs": [
    {
     "data": {
      "text/plain": [
       "Ave          596\n",
       "St           455\n",
       "Rd            86\n",
       "Dr            51\n",
       "Blvd          43\n",
       "Broadway       7\n",
       "Ct             3\n",
       "Plaisance      3\n",
       "Pkwy           3\n",
       "Hwy            2\n",
       "L              2\n",
       "O              2\n",
       "Pl             2\n",
       "83rdSt         1\n",
       "II             1\n",
       "Name: Street, dtype: int64"
      ]
     },
     "execution_count": 449,
     "metadata": {},
     "output_type": "execute_result"
    }
   ],
   "source": [
    "# Check if the abbrivative has been changed\n",
    "data_chicago_06_day['Street'].str.split(' ').str[-1].value_counts()"
   ]
  },
  {
   "cell_type": "code",
   "execution_count": 221,
   "metadata": {},
   "outputs": [],
   "source": [
    "# save the datafile \n",
    "data_chicago.to_csv('data_chicago.csv')"
   ]
  },
  {
   "cell_type": "markdown",
   "metadata": {},
   "source": [
    "## Q1: What is the busiest street?"
   ]
  },
  {
   "cell_type": "code",
   "execution_count": 577,
   "metadata": {},
   "outputs": [
    {
     "data": {
      "text/plain": [
       "Street\n",
       "Western Ave    1116100\n",
       "Name: Total, dtype: int64"
      ]
     },
     "execution_count": 577,
     "metadata": {},
     "output_type": "execute_result"
    }
   ],
   "source": [
    "# check the busiest street\n",
    "data_chicago_06_day.groupby('Street')['Total'].sum().sort_values(ascending = False).head(1)"
   ]
  },
  {
   "cell_type": "markdown",
   "metadata": {},
   "source": [
    "Based on all the data we have, it is easily to find that the busiest street is \"Western Ave\". However, since this is sample counts that will be taken to used to estimate the whole traffic in future, I have to check the counts distribution and if the sample is selected randomly as following."
   ]
  },
  {
   "cell_type": "code",
   "execution_count": 523,
   "metadata": {},
   "outputs": [
    {
     "data": {
      "text/plain": [
       "Damen Ave            33\n",
       "Western Ave          33\n",
       "Ashland Ave          30\n",
       "Halsted St           26\n",
       "Pulaski Rd           26\n",
       "                     ..\n",
       "Yates Blvd            1\n",
       "South Chicago Ave     1\n",
       "95Th St               1\n",
       "57th St               1\n",
       "106th St              1\n",
       "Name: Street, Length: 229, dtype: int64"
      ]
     },
     "execution_count": 523,
     "metadata": {},
     "output_type": "execute_result"
    }
   ],
   "source": [
    "# Street Vs. count times\n",
    "data_chicago_06_day['Street'].value_counts()"
   ]
  },
  {
   "cell_type": "code",
   "execution_count": 526,
   "metadata": {},
   "outputs": [
    {
     "data": {
      "text/plain": [
       "(0.0, 35.0)"
      ]
     },
     "execution_count": 526,
     "metadata": {},
     "output_type": "execute_result"
    },
    {
     "data": {
      "image/png": "[encoded data removed]",
      "text/plain": [
       "<Figure size 864x360 with 2 Axes>"
      ]
     },
     "metadata": {
      "needs_background": "light"
     },
     "output_type": "display_data"
    }
   ],
   "source": [
    "# visualization of streets's name Vs. Count numbers\n",
    "fig,ax = plt.subplots(1,2,figsize=(12,5))\n",
    "\n",
    "data_chicago_06_day['Street'].value_counts().sort_values(ascending=False).head(10).plot(kind='bar',ax=ax[0])\n",
    "ax[0].set_xticklabels(ax[0].get_xticklabels(),rotation=75)\n",
    "\n",
    "data_chicago_06_day['Street'].value_counts().sort_values(ascending=False).tail(11).plot(kind='bar',ax=ax[1])\n",
    "plt.xticks(rotation=75)\n",
    "plt.ylim(0,35)"
   ]
  },
  {
   "cell_type": "markdown",
   "metadata": {},
   "source": [
    "From the above information, it is easily to find that streets are not counted randomly,for example, some streets are counted too many times compared with others, while some streets are only counted once,which has raise a severe **selection bias** problem."
   ]
  },
  {
   "cell_type": "code",
   "execution_count": 529,
   "metadata": {},
   "outputs": [
    {
     "data": {
      "text/plain": [
       "Counter({33: 2,\n",
       "         30: 1,\n",
       "         26: 2,\n",
       "         23: 1,\n",
       "         21: 1,\n",
       "         20: 1,\n",
       "         19: 2,\n",
       "         18: 1,\n",
       "         17: 3,\n",
       "         16: 1,\n",
       "         15: 2,\n",
       "         14: 3,\n",
       "         13: 5,\n",
       "         12: 5,\n",
       "         11: 5,\n",
       "         10: 7,\n",
       "         9: 12,\n",
       "         8: 7,\n",
       "         7: 12,\n",
       "         6: 13,\n",
       "         5: 7,\n",
       "         4: 12,\n",
       "         3: 18,\n",
       "         2: 25,\n",
       "         1: 81})"
      ]
     },
     "execution_count": 529,
     "metadata": {},
     "output_type": "execute_result"
    }
   ],
   "source": [
    "# The distribution of count numbers of streets\n",
    "import collections\n",
    "street_counts = data_chicago_06_day['Street'].value_counts().sort_values(ascending=False).values\n",
    "collections.Counter(street_counts)"
   ]
  },
  {
   "cell_type": "code",
   "execution_count": 530,
   "metadata": {},
   "outputs": [
    {
     "data": {
      "text/plain": [
       "Text(0, 0.5, 'Frequency')"
      ]
     },
     "execution_count": 530,
     "metadata": {},
     "output_type": "execute_result"
    },
    {
     "data": {
      "image/png": "[encoded data removed]",
      "text/plain": [
       "<Figure size 432x288 with 1 Axes>"
      ]
     },
     "metadata": {
      "needs_background": "light"
     },
     "output_type": "display_data"
    }
   ],
   "source": [
    "# Visulation of distribution of counts numbers of streets\n",
    "sns.histplot(street_counts, kde=True,bins =34)\n",
    "plt.xlabel('Count Times of Streets')\n",
    "plt.ylabel('Frequency')"
   ]
  },
  {
   "cell_type": "code",
   "execution_count": 654,
   "metadata": {},
   "outputs": [
    {
     "name": "stdout",
     "output_type": "stream",
     "text": [
      "The count times of the streets is: 6\n",
      "The maximum data we can use is: 516\n"
     ]
    }
   ],
   "source": [
    "# find the threshold values of count times to get the maximum data, \n",
    "final_count = {}\n",
    "\n",
    "# i is count times of street\n",
    "for i in range(1,34):\n",
    "    data_chicago_06_day_ = data_chicago_06_day.groupby('Street')['ID'].count()[data_chicago_06_day.groupby('Street')['ID'].count()>=i]\n",
    "    # how many data I can get when I set i as count times \n",
    "    final_count[i] = i * data_chicago_06_day_.shape[0]\n",
    "    \n",
    "# to get the maximum data, which count times should be chose \n",
    "print(\"The best count times of the streets is: %d\"%max(final_count, key=final_count.get))\n",
    "print(\"The maximum data we can use is: %d\" %max(final_count.values()))"
   ]
  },
  {
   "cell_type": "code",
   "execution_count": 658,
   "metadata": {},
   "outputs": [
    {
     "data": {
      "text/plain": [
       "(0.0, 570.0)"
      ]
     },
     "execution_count": 658,
     "metadata": {},
     "output_type": "execute_result"
    },
    {
     "data": {
      "image/png": "[encoded data removed]",
      "text/plain": [
       "<Figure size 432x288 with 1 Axes>"
      ]
     },
     "metadata": {
      "needs_background": "light"
     },
     "output_type": "display_data"
    }
   ],
   "source": [
    "# Visualization of the relationship between count times and maximum data we can use\n",
    "x = np.array(list(final_count.keys()))\n",
    "y = np.array(list(final_count.values()))\n",
    "sns.scatterplot(x=x,y=y)\n",
    "\n",
    "plt.text(xmax,ymax+15,'Max Point:(6, 516)')\n",
    "plt.ylim(0, 570)"
   ]
  },
  {
   "cell_type": "markdown",
   "metadata": {},
   "source": [
    "Based on the above analysis, to get the most data and avoid data waste, I would choose 6 as the count times, which means only those strees that were recorded 6 times would be chosen for further analysis. And for those whose records history were less than 6 will be dropped, and for those whose records history were greater than 6, 6 records will be randomly chose from their total count times records. For example, \"Western Ave\" was found to be the most busiest street, because it was counted 33 times, which brought the selection bias problem. To deal with this problem, only 6 were selected randomly from 33."
   ]
  },
  {
   "cell_type": "code",
   "execution_count": 873,
   "metadata": {},
   "outputs": [
    {
     "data": {
      "text/plain": [
       "Street\n",
       "103rd St         18\n",
       "107th St         10\n",
       "111th St         12\n",
       "115th St         10\n",
       "119th St          6\n",
       "                 ..\n",
       "Washington St    26\n",
       "Wells St         20\n",
       "Wentworth Ave    12\n",
       "Western Ave      66\n",
       "Woodlawn Ave      8\n",
       "Name: ID, Length: 123, dtype: int64"
      ]
     },
     "execution_count": 873,
     "metadata": {},
     "output_type": "execute_result"
    }
   ],
   "source": [
    "data_chicago_06_day_ = data_chicago_06_day.groupby('Street')['ID'].count()[data_chicago_06_day.groupby('Street')['ID'].count()>=6]\n",
    "data_chicago_06_day_"
   ]
  },
  {
   "cell_type": "code",
   "execution_count": 874,
   "metadata": {},
   "outputs": [
    {
     "data": {
      "text/plain": [
       "(738, 10)"
      ]
     },
     "execution_count": 874,
     "metadata": {},
     "output_type": "execute_result"
    }
   ],
   "source": [
    "# get the dataset in which every street are counted 6 times\n",
    "data_final = data_chicago_06_day[data_chicago_06_day['Street']==\"103rd St\"].sample(6,random_state=42)\n",
    "\n",
    "for i in data_chicago_06_day_.index[1:]:\n",
    "    new = data_chicago_06_day[data_chicago_06_day['Street']==i].sample(6,random_state=42)    \n",
    "    data_final = pd.concat([new, data_final])\n",
    "    \n",
    "data_final.shape"
   ]
  },
  {
   "cell_type": "markdown",
   "metadata": {},
   "source": [
    "<a id='street'></a>\n",
    "## Q1: What is the busiest street?"
   ]
  },
  {
   "cell_type": "code",
   "execution_count": 705,
   "metadata": {},
   "outputs": [
    {
     "data": {
      "text/plain": [
       "Street\n",
       "Stony Island Ave    342400\n",
       "Cicero Ave          263500\n",
       "Cumberland Ave      244000\n",
       "Western Ave         222900\n",
       "Irving Park Rd      219600\n",
       "Name: Total, dtype: int64"
      ]
     },
     "execution_count": 705,
     "metadata": {},
     "output_type": "execute_result"
    }
   ],
   "source": [
    "data_final.groupby('Street')['Total'].sum().sort_values(ascending = False).head(5)"
   ]
  },
  {
   "cell_type": "code",
   "execution_count": 761,
   "metadata": {},
   "outputs": [
    {
     "data": {
      "text/plain": [
       "Street\n",
       "Cicero Ave          375800\n",
       "Stony Island Ave    357800\n",
       "Cumberland Ave      254900\n",
       "Irving Park Rd      228800\n",
       "Western Ave         218300\n",
       "Name: Total, dtype: int64"
      ]
     },
     "execution_count": 761,
     "metadata": {},
     "output_type": "execute_result"
    }
   ],
   "source": [
    "# get the dataset in which every street are counted 6 times\n",
    "data_final = data_chicago_06_day[data_chicago_06_day['Street']==\"103rd St\"].sample(6)\n",
    "\n",
    "for i in data_chicago_06_day_.index[1:]:\n",
    "    new = data_chicago_06_day[data_chicago_06_day['Street']==i].sample(6)    \n",
    "    data_final = pd.concat([new, data_final])\n",
    "    \n",
    "data_final.groupby('Street')['Total'].sum().sort_values(ascending = False).head(5)"
   ]
  },
  {
   "cell_type": "code",
   "execution_count": 767,
   "metadata": {},
   "outputs": [
    {
     "data": {
      "text/plain": [
       "Street\n",
       "Stony Island Ave    243900\n",
       "Cumberland Ave      236400\n",
       "Cicero Ave          234500\n",
       "Western Ave         229800\n",
       "North Ave           228100\n",
       "Name: Total, dtype: int64"
      ]
     },
     "execution_count": 767,
     "metadata": {},
     "output_type": "execute_result"
    }
   ],
   "source": [
    "data_chicago_06_day_2 = data_chicago_06_day.groupby('Street')['ID'].count()[data_chicago_06_day.groupby('Street')['ID'].count()>=10]\n",
    "data_chicago_06_day_2.index\n",
    "data_final = data_chicago_06_day[data_chicago_06_day['Street']==\"31st St\"].sample(6)\n",
    "\n",
    "for i in data_chicago_06_day_2.index[1:]:\n",
    "    new = data_chicago_06_day[data_chicago_06_day['Street']==i].sample(6)    \n",
    "    data_final = pd.concat([new, data_final])\n",
    "    \n",
    "data_final.groupby('Street')['Total'].sum().sort_values(ascending = False).head(5)"
   ]
  },
  {
   "cell_type": "code",
   "execution_count": 869,
   "metadata": {},
   "outputs": [
    {
     "data": {
      "text/plain": [
       "Street\n",
       "Stony Island Ave    304400\n",
       "Cicero Ave          286400\n",
       "Irving Park Rd      232000\n",
       "Western Ave         204000\n",
       "Fullerton Ave       194500\n",
       "Name: Total, dtype: int64"
      ]
     },
     "execution_count": 869,
     "metadata": {},
     "output_type": "execute_result"
    }
   ],
   "source": [
    "data_chicago_06_day_2 = data_chicago_06_day.groupby('Street')['ID'].count()[data_chicago_06_day.groupby('Street')['ID'].count()>=14]\n",
    "data_chicago_06_day_2.index\n",
    "data_final = data_chicago_06_day[data_chicago_06_day['Street']==\"31st St\"].sample(6)\n",
    "\n",
    "for i in data_chicago_06_day_2.index[1:]:\n",
    "    new = data_chicago_06_day[data_chicago_06_day['Street']==i].sample(6)    \n",
    "    data_final = pd.concat([new, data_final])\n",
    "    \n",
    "data_final.groupby('Street')['Total'].sum().sort_values(ascending = False).head(5)"
   ]
  },
  {
   "cell_type": "markdown",
   "metadata": {},
   "source": [
    "The most busiest street on workday in Chicago in 2006 is \"Stony Island Ave\". The current results is based on those streets that has 6 count times. When I increase the count times from 6 to 7, the most busiest street is more stable. \n",
    "\n",
    "However, if we can collect more data, such as more data on weekend and more count times for every street, we can get more accurate analysis.For example, we can know what is the busiest street on workday and weekend. If we also have detailed count times in a day, we can know what is the busiest time in a day etc.."
   ]
  },
  {
   "cell_type": "markdown",
   "metadata": {},
   "source": [
    "<a id='month'></a>\n",
    "## Q2: What is the busiest month?"
   ]
  },
  {
   "cell_type": "code",
   "execution_count": 878,
   "metadata": {},
   "outputs": [
    {
     "data": {
      "text/plain": [
       "10    199\n",
       "8     158\n",
       "3     137\n",
       "9     126\n",
       "11     51\n",
       "4      33\n",
       "5      26\n",
       "2       5\n",
       "12      2\n",
       "7       1\n",
       "Name: month, dtype: int64"
      ]
     },
     "execution_count": 878,
     "metadata": {},
     "output_type": "execute_result"
    }
   ],
   "source": [
    "data_final['month'].value_counts()"
   ]
  },
  {
   "cell_type": "code",
   "execution_count": 711,
   "metadata": {},
   "outputs": [
    {
     "data": {
      "text/plain": [
       "<seaborn.axisgrid.FacetGrid at 0x2b5dd1ac640>"
      ]
     },
     "execution_count": 711,
     "metadata": {},
     "output_type": "execute_result"
    },
    {
     "data": {
      "image/png": "[encoded data removed]",
      "text/plain": [
       "<Figure size 360x360 with 1 Axes>"
      ]
     },
     "metadata": {
      "needs_background": "light"
     },
     "output_type": "display_data"
    }
   ],
   "source": [
    "sns.displot(data_final['month'],bins =12,kde=True)"
   ]
  },
  {
   "cell_type": "markdown",
   "metadata": {},
   "source": [
    "Since the counts are not distributed uniformly in each month, most were collected in Mar., Aug., Sep., and Oct., to avoid selection bias which can bring false result, I would like to choose these four month as representatve and check which month is the busiest. However, since the count times in these 4 monthes also showed some difference, such as the count numbers in March are nearly 70% of that in Oct, to avoid the possible selection biase, I would like to choose 150 randomly from Aug. and Oct."
   ]
  },
  {
   "cell_type": "code",
   "execution_count": 883,
   "metadata": {},
   "outputs": [
    {
     "data": {
      "text/plain": [
       "(620, 10)"
      ]
     },
     "execution_count": 883,
     "metadata": {},
     "output_type": "execute_result"
    }
   ],
   "source": [
    "data_final_month = data_final[data_final['month'].isin([3,8,9,10])]\n",
    "data_final_month.shape"
   ]
  },
  {
   "cell_type": "code",
   "execution_count": 887,
   "metadata": {},
   "outputs": [
    {
     "data": {
      "text/plain": [
       "(563, 10)"
      ]
     },
     "execution_count": 887,
     "metadata": {},
     "output_type": "execute_result"
    }
   ],
   "source": [
    "data_final_8 = data_final_month[data_final_month['month']==8].sample(150)\n",
    "data_final_10 = data_final_month[data_final_month['month']==10].sample(150)\n",
    "\n",
    "data_final_month = pd.concat([data_final_month[data_final_month['month'].isin([3,9])],data_final_8,data_final_10])\n",
    "data_final_month.shape"
   ]
  },
  {
   "cell_type": "code",
   "execution_count": 898,
   "metadata": {},
   "outputs": [
    {
     "data": {
      "text/plain": [
       "month\n",
       "8     3223700\n",
       "10    2722700\n",
       "9     2678800\n",
       "3     2099300\n",
       "Name: Total, dtype: int64"
      ]
     },
     "execution_count": 898,
     "metadata": {},
     "output_type": "execute_result"
    }
   ],
   "source": [
    "data_final_month.groupby('month')[\"Total\"].sum().sort_values(ascending = False)"
   ]
  },
  {
   "cell_type": "code",
   "execution_count": 919,
   "metadata": {
    "scrolled": true
   },
   "outputs": [
    {
     "ename": "ValueError",
     "evalue": "Cannot take a larger sample than population when 'replace=False'",
     "output_type": "error",
     "traceback": [
      "\u001b[1;31m---------------------------------------------------------------------------\u001b[0m",
      "\u001b[1;31mValueError\u001b[0m                                Traceback (most recent call last)",
      "\u001b[1;32m<ipython-input-919-3eeb5a7033e7>\u001b[0m in \u001b[0;36m<module>\u001b[1;34m\u001b[0m\n\u001b[1;32m----> 1\u001b[1;33m \u001b[0mdata_final_8\u001b[0m \u001b[1;33m=\u001b[0m \u001b[0mdata_final_month\u001b[0m\u001b[1;33m[\u001b[0m\u001b[0mdata_final_month\u001b[0m\u001b[1;33m[\u001b[0m\u001b[1;34m'month'\u001b[0m\u001b[1;33m]\u001b[0m\u001b[1;33m==\u001b[0m\u001b[1;36m8\u001b[0m\u001b[1;33m]\u001b[0m\u001b[1;33m.\u001b[0m\u001b[0msample\u001b[0m\u001b[1;33m(\u001b[0m\u001b[1;36m150\u001b[0m\u001b[1;33m)\u001b[0m\u001b[1;33m\u001b[0m\u001b[1;33m\u001b[0m\u001b[0m\n\u001b[0m\u001b[0;32m      2\u001b[0m \u001b[0mdata_final_10\u001b[0m \u001b[1;33m=\u001b[0m \u001b[0mdata_final_month\u001b[0m\u001b[1;33m[\u001b[0m\u001b[0mdata_final_month\u001b[0m\u001b[1;33m[\u001b[0m\u001b[1;34m'month'\u001b[0m\u001b[1;33m]\u001b[0m\u001b[1;33m==\u001b[0m\u001b[1;36m10\u001b[0m\u001b[1;33m]\u001b[0m\u001b[1;33m.\u001b[0m\u001b[0msample\u001b[0m\u001b[1;33m(\u001b[0m\u001b[1;36m150\u001b[0m\u001b[1;33m)\u001b[0m\u001b[1;33m\u001b[0m\u001b[1;33m\u001b[0m\u001b[0m\n\u001b[0;32m      3\u001b[0m \u001b[1;33m\u001b[0m\u001b[0m\n\u001b[0;32m      4\u001b[0m \u001b[0mdata_final_month\u001b[0m \u001b[1;33m=\u001b[0m \u001b[0mpd\u001b[0m\u001b[1;33m.\u001b[0m\u001b[0mconcat\u001b[0m\u001b[1;33m(\u001b[0m\u001b[1;33m[\u001b[0m\u001b[0mdata_final_month\u001b[0m\u001b[1;33m[\u001b[0m\u001b[0mdata_final_month\u001b[0m\u001b[1;33m[\u001b[0m\u001b[1;34m'month'\u001b[0m\u001b[1;33m]\u001b[0m\u001b[1;33m.\u001b[0m\u001b[0misin\u001b[0m\u001b[1;33m(\u001b[0m\u001b[1;33m[\u001b[0m\u001b[1;36m3\u001b[0m\u001b[1;33m,\u001b[0m\u001b[1;36m9\u001b[0m\u001b[1;33m]\u001b[0m\u001b[1;33m)\u001b[0m\u001b[1;33m]\u001b[0m\u001b[1;33m,\u001b[0m\u001b[0mdata_final_8\u001b[0m\u001b[1;33m,\u001b[0m\u001b[0mdata_final_10\u001b[0m\u001b[1;33m]\u001b[0m\u001b[1;33m)\u001b[0m\u001b[1;33m\u001b[0m\u001b[1;33m\u001b[0m\u001b[0m\n\u001b[0;32m      5\u001b[0m \u001b[0mdata_final_month\u001b[0m\u001b[1;33m.\u001b[0m\u001b[0mgroupby\u001b[0m\u001b[1;33m(\u001b[0m\u001b[1;34m'month'\u001b[0m\u001b[1;33m)\u001b[0m\u001b[1;33m[\u001b[0m\u001b[1;34m\"Total\"\u001b[0m\u001b[1;33m]\u001b[0m\u001b[1;33m.\u001b[0m\u001b[0msum\u001b[0m\u001b[1;33m(\u001b[0m\u001b[1;33m)\u001b[0m\u001b[1;33m.\u001b[0m\u001b[0msort_values\u001b[0m\u001b[1;33m(\u001b[0m\u001b[0mascending\u001b[0m \u001b[1;33m=\u001b[0m \u001b[1;32mFalse\u001b[0m\u001b[1;33m)\u001b[0m\u001b[1;33m\u001b[0m\u001b[1;33m\u001b[0m\u001b[0m\n",
      "\u001b[1;32m~\\anaconda3\\lib\\site-packages\\pandas\\core\\generic.py\u001b[0m in \u001b[0;36msample\u001b[1;34m(self, n, frac, replace, weights, random_state, axis)\u001b[0m\n\u001b[0;32m   5059\u001b[0m             )\n\u001b[0;32m   5060\u001b[0m \u001b[1;33m\u001b[0m\u001b[0m\n\u001b[1;32m-> 5061\u001b[1;33m         \u001b[0mlocs\u001b[0m \u001b[1;33m=\u001b[0m \u001b[0mrs\u001b[0m\u001b[1;33m.\u001b[0m\u001b[0mchoice\u001b[0m\u001b[1;33m(\u001b[0m\u001b[0maxis_length\u001b[0m\u001b[1;33m,\u001b[0m \u001b[0msize\u001b[0m\u001b[1;33m=\u001b[0m\u001b[0mn\u001b[0m\u001b[1;33m,\u001b[0m \u001b[0mreplace\u001b[0m\u001b[1;33m=\u001b[0m\u001b[0mreplace\u001b[0m\u001b[1;33m,\u001b[0m \u001b[0mp\u001b[0m\u001b[1;33m=\u001b[0m\u001b[0mweights\u001b[0m\u001b[1;33m)\u001b[0m\u001b[1;33m\u001b[0m\u001b[1;33m\u001b[0m\u001b[0m\n\u001b[0m\u001b[0;32m   5062\u001b[0m         \u001b[1;32mreturn\u001b[0m \u001b[0mself\u001b[0m\u001b[1;33m.\u001b[0m\u001b[0mtake\u001b[0m\u001b[1;33m(\u001b[0m\u001b[0mlocs\u001b[0m\u001b[1;33m,\u001b[0m \u001b[0maxis\u001b[0m\u001b[1;33m=\u001b[0m\u001b[0maxis\u001b[0m\u001b[1;33m)\u001b[0m\u001b[1;33m\u001b[0m\u001b[1;33m\u001b[0m\u001b[0m\n\u001b[0;32m   5063\u001b[0m \u001b[1;33m\u001b[0m\u001b[0m\n",
      "\u001b[1;32mmtrand.pyx\u001b[0m in \u001b[0;36mnumpy.random.mtrand.RandomState.choice\u001b[1;34m()\u001b[0m\n",
      "\u001b[1;31mValueError\u001b[0m: Cannot take a larger sample than population when 'replace=False'"
     ]
    }
   ],
   "source": [
    "data_final_8 = data_final_month[data_final_month['month']==8].sample(150)\n",
    "data_final_10 = data_final_month[data_final_month['month']==10].sample(150)\n",
    "\n",
    "data_final_month = pd.concat([data_final_month[data_final_month['month'].isin([3,9])],data_final_8,data_final_10])\n",
    "data_final_month.groupby('month')[\"Total\"].sum().sort_values(ascending = False)"
   ]
  },
  {
   "cell_type": "markdown",
   "metadata": {},
   "source": [
    "<a id='direction'></a>\n",
    "## Q3: Which direction is the busiest one(N,S,E,W)?"
   ]
  },
  {
   "cell_type": "code",
   "execution_count": 732,
   "metadata": {},
   "outputs": [
    {
     "data": {
      "text/plain": [
       "(1032, 10)"
      ]
     },
     "execution_count": 732,
     "metadata": {},
     "output_type": "execute_result"
    }
   ],
   "source": [
    "data_final_0 = data_final.drop(['1_direction',\"1_volume\"],axis=1)\n",
    "data_final_0 = data_final_0.rename(columns = {'0_direction':\"direction\",\"0_volume\":\"volume\"})\n",
    "\n",
    "data_final_1 = data_final.drop(['0_direction',\"0_volume\"],axis=1)\n",
    "data_final_1 = data_final_0.rename(columns = {'1_direction':\"direction\",\"1_volume\":\"volume\"})\n",
    "\n",
    "data_final_dir = pd.concat([data_final_0,data_final_1])\n",
    "data_final_dir.shape"
   ]
  },
  {
   "cell_type": "code",
   "execution_count": 736,
   "metadata": {},
   "outputs": [
    {
     "data": {
      "text/plain": [
       "direction\n",
       "East     5033000\n",
       "North    4814200\n",
       "West      425200\n",
       "South     230800\n",
       "Name: volume, dtype: int64"
      ]
     },
     "execution_count": 736,
     "metadata": {},
     "output_type": "execute_result"
    }
   ],
   "source": [
    "data_final_dir.groupby('direction')['volume'].sum().sort_values(ascending = False)"
   ]
  },
  {
   "cell_type": "code",
   "execution_count": 757,
   "metadata": {},
   "outputs": [
    {
     "data": {
      "text/plain": [
       "direction\n",
       "South    6837100\n",
       "North    6806000\n",
       "West     5313600\n",
       "East     5194300\n",
       "Name: volume, dtype: int64"
      ]
     },
     "execution_count": 757,
     "metadata": {},
     "output_type": "execute_result"
    }
   ],
   "source": [
    "data_chicago_06_day_0 = data_chicago_06_day.drop(['1_direction',\"1_volume\"],axis=1)\n",
    "data_chicago_06_day_0 = data_chicago_06_day_0.rename(columns = {'0_direction':\"direction\",\"0_volume\":\"volume\"})\n",
    "\n",
    "data_chicago_06_day_1 = data_chicago_06_day.drop(['0_direction',\"0_volume\"],axis=1)\n",
    "data_chicago_06_day_1 = data_chicago_06_day_1.rename(columns = {'1_direction':\"direction\",\"1_volume\":\"volume\"})\n",
    "\n",
    "data_chicago_06_day = pd.concat([data_chicago_06_day_0, data_chicago_06_day_1])\n",
    "data_chicago_06_day.groupby('direction')['volume'].sum().sort_values(ascending = False)"
   ]
  },
  {
   "cell_type": "code",
   "execution_count": 920,
   "metadata": {},
   "outputs": [
    {
     "data": {
      "text/html": [
       "<div>\n",
       "<style scoped>\n",
       "    .dataframe tbody tr th:only-of-type {\n",
       "        vertical-align: middle;\n",
       "    }\n",
       "\n",
       "    .dataframe tbody tr th {\n",
       "        vertical-align: top;\n",
       "    }\n",
       "\n",
       "    .dataframe thead th {\n",
       "        text-align: right;\n",
       "    }\n",
       "</style>\n",
       "<table border=\"1\" class=\"dataframe\">\n",
       "  <thead>\n",
       "    <tr style=\"text-align: right;\">\n",
       "      <th></th>\n",
       "      <th>ID</th>\n",
       "      <th>Address</th>\n",
       "      <th>Street</th>\n",
       "      <th>Total</th>\n",
       "      <th>Latitude</th>\n",
       "      <th>Longitude</th>\n",
       "      <th>month</th>\n",
       "      <th>day</th>\n",
       "      <th>direction</th>\n",
       "      <th>volume</th>\n",
       "    </tr>\n",
       "  </thead>\n",
       "  <tbody>\n",
       "    <tr>\n",
       "      <th>344</th>\n",
       "      <td>377</td>\n",
       "      <td>5224 South</td>\n",
       "      <td>Woodlawn Ave</td>\n",
       "      <td>7200</td>\n",
       "      <td>41.800125</td>\n",
       "      <td>-87.596657</td>\n",
       "      <td>5</td>\n",
       "      <td>Tuesday</td>\n",
       "      <td>North</td>\n",
       "      <td>3500</td>\n",
       "    </tr>\n",
       "    <tr>\n",
       "      <th>344</th>\n",
       "      <td>377</td>\n",
       "      <td>5224 South</td>\n",
       "      <td>Woodlawn Ave</td>\n",
       "      <td>7200</td>\n",
       "      <td>41.800125</td>\n",
       "      <td>-87.596657</td>\n",
       "      <td>5</td>\n",
       "      <td>Tuesday</td>\n",
       "      <td>South</td>\n",
       "      <td>3700</td>\n",
       "    </tr>\n",
       "    <tr>\n",
       "      <th>338</th>\n",
       "      <td>371</td>\n",
       "      <td>5121 South</td>\n",
       "      <td>Woodlawn Ave</td>\n",
       "      <td>8100</td>\n",
       "      <td>41.801676</td>\n",
       "      <td>-87.596690</td>\n",
       "      <td>5</td>\n",
       "      <td>Thursday</td>\n",
       "      <td>North</td>\n",
       "      <td>4000</td>\n",
       "    </tr>\n",
       "    <tr>\n",
       "      <th>346</th>\n",
       "      <td>379</td>\n",
       "      <td>4624 South</td>\n",
       "      <td>Woodlawn Ave</td>\n",
       "      <td>3000</td>\n",
       "      <td>41.810689</td>\n",
       "      <td>-87.596855</td>\n",
       "      <td>5</td>\n",
       "      <td>Tuesday</td>\n",
       "      <td>South</td>\n",
       "      <td>1500</td>\n",
       "    </tr>\n",
       "    <tr>\n",
       "      <th>345</th>\n",
       "      <td>378</td>\n",
       "      <td>4929 South</td>\n",
       "      <td>Woodlawn Ave</td>\n",
       "      <td>5500</td>\n",
       "      <td>41.805123</td>\n",
       "      <td>-87.596753</td>\n",
       "      <td>5</td>\n",
       "      <td>Tuesday</td>\n",
       "      <td>North</td>\n",
       "      <td>2900</td>\n",
       "    </tr>\n",
       "  </tbody>\n",
       "</table>\n",
       "</div>"
      ],
      "text/plain": [
       "      ID     Address        Street  Total   Latitude  Longitude  month  \\\n",
       "344  377  5224 South  Woodlawn Ave   7200  41.800125 -87.596657      5   \n",
       "344  377  5224 South  Woodlawn Ave   7200  41.800125 -87.596657      5   \n",
       "338  371  5121 South  Woodlawn Ave   8100  41.801676 -87.596690      5   \n",
       "346  379  4624 South  Woodlawn Ave   3000  41.810689 -87.596855      5   \n",
       "345  378  4929 South  Woodlawn Ave   5500  41.805123 -87.596753      5   \n",
       "\n",
       "          day direction  volume  \n",
       "344   Tuesday     North    3500  \n",
       "344   Tuesday     South    3700  \n",
       "338  Thursday     North    4000  \n",
       "346   Tuesday     South    1500  \n",
       "345   Tuesday     North    2900  "
      ]
     },
     "execution_count": 920,
     "metadata": {},
     "output_type": "execute_result"
    }
   ],
   "source": [
    "data_final.head()"
   ]
  },
  {
   "cell_type": "markdown",
   "metadata": {},
   "source": [
    "<a id='direction'></a>\n",
    "## Q4: Which else?\n",
    "- What is the busiest street in the busiest month?\n",
    "- What is the busiet street in the busiest direction?\n",
    "- What is the busiest street in each direction?\n",
    "- How far is the busiest street with the second busiest street?\n",
    "- What's the situation when compared east-west direction with south-north direction?"
   ]
  },
  {
   "cell_type": "markdown",
   "metadata": {},
   "source": [
    "<a id='4.1'></a>\n",
    "### Q4.1: What is the busiest street in the busiest month?"
   ]
  },
  {
   "cell_type": "markdown",
   "metadata": {},
   "source": [
    "<a id='4.2'></a>\n",
    "### Q4.2: What is the busiest street in the busiest direction?"
   ]
  },
  {
   "cell_type": "markdown",
   "metadata": {},
   "source": [
    "<a id='4.3'></a>\n",
    "### Q4.3: What is the busiest street in each direction?"
   ]
  },
  {
   "cell_type": "markdown",
   "metadata": {},
   "source": [
    "<a id='4.4'></a>\n",
    "### Q4.4: How far is the busiest street with the second busiest street?"
   ]
  },
  {
   "cell_type": "markdown",
   "metadata": {},
   "source": [
    "<a id='4.5'></a>\n",
    "### Q4.5: What's the situation when compared east-west direction with south-north direction?"
   ]
  },
  {
   "cell_type": "markdown",
   "metadata": {},
   "source": [
    "<a id='summary'></a>\n",
    "## Summary of Preprocessing Data"
   ]
  },
  {
   "cell_type": "markdown",
   "metadata": {},
   "source": [
    "According to the above analysis, I have performed the following to prepare the data:\n",
    "\n",
    "1). Cleaning the data\n",
    "- Convert the data type;\n",
    "- Replace the NaN values using 0 instead of dropping them;\n",
    "- Split the string to get the specific information;\n",
    "- Unify the abbreviation names in the feature;\n",
    "\n",
    "\n",
    "2). Engineering feature\n",
    "- Convert the latitude and longitude to detailed city or address;\n",
    "- Transfer date to the year, month and day;\n",
    "- Split the feature to get more detailed information;\n",
    "- Concatenate the direction feature in the same column;\n",
    "\n",
    "\n",
    "3). Dealing with selection bias\n",
    "\n",
    "- There are a lot of selection bias problems in this dataset, such as city, year, month, day, street etc. \n",
    "\n",
    "\n",
    "- For some of them, it is easier to just keep the majority data since very few data differed from them. For example, I prefer this traffic analysis will focus on Chicago instead of Cook County since 99 % data belongs to the city of Chicago. And I also choose the study will be in 2006 since less than 1% data belonged to 2007. And I also choose this analysis will only focus on workday since there are less than 0.5% data focusing on weekend. \n",
    "\n",
    "\n",
    "- Then to get better understanding of the data, the distribution of street count times were studied. I randomly choose parts of streets count times to avoid the streets selection bias problem."
   ]
  },
  {
   "cell_type": "markdown",
   "metadata": {},
   "source": [
    "<a id='result'></a>\n",
    "## Results and Insights"
   ]
  },
  {
   "cell_type": "markdown",
   "metadata": {},
   "source": [
    "In this project, I propressed the traffic data and analyzed how the month and day affected the traffic volumes. The listed questions have been successfully answered. However, the results are not reliable enough. Because the data has severe **selective bias** problems, the collected data are mainly in Mar, Aug, Sep and Oct. and mainly ranged from monday to thursday. So, the conclusion about which momth/day is the busiest month/day is not reliable.But the answer about which direction is the business is reliable. Therefore, for the questions related on date, I would suggest:**1) collect more data; 2) avoid the selective bias;** then we can analyze the data again and give more accurate analysis."
   ]
  }
 ],
 "metadata": {
  "kernelspec": {
   "display_name": "Python 3",
   "language": "python",
   "name": "python3"
  },
  "language_info": {
   "codemirror_mode": {
    "name": "ipython",
    "version": 3
   },
   "file_extension": ".py",
   "mimetype": "text/x-python",
   "name": "python",
   "nbconvert_exporter": "python",
   "pygments_lexer": "ipython3",
   "version": "3.8.3"
  }
 },
 "nbformat": 4,
 "nbformat_minor": 4
}
