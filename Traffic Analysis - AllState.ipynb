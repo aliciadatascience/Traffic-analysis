{
 "cells": [
  {
   "cell_type": "markdown",
   "metadata": {},
   "source": [
    "# Traffic Analysis: Data Cleaning andFeature Engineering"
   ]
  },
  {
   "cell_type": "code",
   "execution_count": 125,
   "metadata": {},
   "outputs": [],
   "source": [
    "# import the necessary libraries\n",
    "import pandas as pd\n",
    "import numpy as np\n",
    "import matplotlib.pyplot as plt\n",
    "import seaborn as sns\n",
    "\n",
    "%matplotlib inline"
   ]
  },
  {
   "cell_type": "code",
   "execution_count": 168,
   "metadata": {},
   "outputs": [
    {
     "data": {
      "text/html": [
       "<div>\n",
       "<style scoped>\n",
       "    .dataframe tbody tr th:only-of-type {\n",
       "        vertical-align: middle;\n",
       "    }\n",
       "\n",
       "    .dataframe tbody tr th {\n",
       "        vertical-align: top;\n",
       "    }\n",
       "\n",
       "    .dataframe thead th {\n",
       "        text-align: right;\n",
       "    }\n",
       "</style>\n",
       "<table border=\"1\" class=\"dataframe\">\n",
       "  <thead>\n",
       "    <tr style=\"text-align: right;\">\n",
       "      <th></th>\n",
       "      <th>ID</th>\n",
       "      <th>Traffic Volume Count Location  Address</th>\n",
       "      <th>Street</th>\n",
       "      <th>Date of Count</th>\n",
       "      <th>Total Passing Vehicle Volume</th>\n",
       "      <th>Vehicle Volume By Each Direction of Traffic</th>\n",
       "      <th>Latitude</th>\n",
       "      <th>Longitude</th>\n",
       "      <th>Location</th>\n",
       "    </tr>\n",
       "  </thead>\n",
       "  <tbody>\n",
       "    <tr>\n",
       "      <th>0</th>\n",
       "      <td>2</td>\n",
       "      <td>1708 West</td>\n",
       "      <td>71st Street</td>\n",
       "      <td>3/9/2006</td>\n",
       "      <td>14600</td>\n",
       "      <td>East Bound: 6900 / West Bound: 7700</td>\n",
       "      <td>41.764877</td>\n",
       "      <td>-87.666635</td>\n",
       "      <td>(41.764877, -87.666635)</td>\n",
       "    </tr>\n",
       "    <tr>\n",
       "      <th>1</th>\n",
       "      <td>3</td>\n",
       "      <td>1275 West</td>\n",
       "      <td>71st Street</td>\n",
       "      <td>2/28/2006</td>\n",
       "      <td>16500</td>\n",
       "      <td>East Bound: 7800 / West Bound: 8700</td>\n",
       "      <td>41.765008</td>\n",
       "      <td>-87.657067</td>\n",
       "      <td>(41.765008, -87.657067)</td>\n",
       "    </tr>\n",
       "    <tr>\n",
       "      <th>2</th>\n",
       "      <td>5</td>\n",
       "      <td>920 West</td>\n",
       "      <td>71st Street</td>\n",
       "      <td>2/28/2006</td>\n",
       "      <td>18200</td>\n",
       "      <td>East Bound: 8800 / West Bound: 9400</td>\n",
       "      <td>41.765153</td>\n",
       "      <td>-87.647751</td>\n",
       "      <td>(41.765153, -87.647751)</td>\n",
       "    </tr>\n",
       "    <tr>\n",
       "      <th>3</th>\n",
       "      <td>6</td>\n",
       "      <td>758 West</td>\n",
       "      <td>71st Street</td>\n",
       "      <td>2/28/2006</td>\n",
       "      <td>21600</td>\n",
       "      <td>East Bound: 10400 / West Bound: 11200</td>\n",
       "      <td>41.765204</td>\n",
       "      <td>-87.644371</td>\n",
       "      <td>(41.765204, -87.644371)</td>\n",
       "    </tr>\n",
       "    <tr>\n",
       "      <th>4</th>\n",
       "      <td>7</td>\n",
       "      <td>240 East</td>\n",
       "      <td>71st St</td>\n",
       "      <td>2/28/2006</td>\n",
       "      <td>18300</td>\n",
       "      <td>East Bound: 9000 / West Bound: 9300</td>\n",
       "      <td>41.765644</td>\n",
       "      <td>-87.618476</td>\n",
       "      <td>(41.765644, -87.618476)</td>\n",
       "    </tr>\n",
       "  </tbody>\n",
       "</table>\n",
       "</div>"
      ],
      "text/plain": [
       "   ID  Traffic Volume Count Location  Address       Street Date of Count  \\\n",
       "0    2                              1708 West  71st Street      3/9/2006   \n",
       "1    3                              1275 West  71st Street     2/28/2006   \n",
       "2    5                               920 West  71st Street     2/28/2006   \n",
       "3    6                               758 West  71st Street     2/28/2006   \n",
       "4    7                               240 East      71st St     2/28/2006   \n",
       "\n",
       "   Total Passing Vehicle Volume Vehicle Volume By Each Direction of Traffic  \\\n",
       "0                         14600         East Bound: 6900 / West Bound: 7700   \n",
       "1                         16500         East Bound: 7800 / West Bound: 8700   \n",
       "2                         18200         East Bound: 8800 / West Bound: 9400   \n",
       "3                         21600       East Bound: 10400 / West Bound: 11200   \n",
       "4                         18300         East Bound: 9000 / West Bound: 9300   \n",
       "\n",
       "    Latitude  Longitude                 Location  \n",
       "0  41.764877 -87.666635  (41.764877, -87.666635)  \n",
       "1  41.765008 -87.657067  (41.765008, -87.657067)  \n",
       "2  41.765153 -87.647751  (41.765153, -87.647751)  \n",
       "3  41.765204 -87.644371  (41.765204, -87.644371)  \n",
       "4  41.765644 -87.618476  (41.765644, -87.618476)  "
      ]
     },
     "execution_count": 168,
     "metadata": {},
     "output_type": "execute_result"
    }
   ],
   "source": [
    "# load data\n",
    "data = pd.read_csv('C:/Users/xiaoj/Downloads/Average_Daily_Traffic_Counts.csv')\n",
    "data.head()"
   ]
  },
  {
   "cell_type": "code",
   "execution_count": 169,
   "metadata": {},
   "outputs": [
    {
     "name": "stdout",
     "output_type": "stream",
     "text": [
      "<class 'pandas.core.frame.DataFrame'>\n",
      "RangeIndex: 1279 entries, 0 to 1278\n",
      "Data columns (total 9 columns):\n",
      " #   Column                                       Non-Null Count  Dtype  \n",
      "---  ------                                       --------------  -----  \n",
      " 0   ID                                           1279 non-null   int64  \n",
      " 1   Traffic Volume Count Location  Address       1279 non-null   object \n",
      " 2   Street                                       1279 non-null   object \n",
      " 3   Date of Count                                1279 non-null   object \n",
      " 4   Total Passing Vehicle Volume                 1279 non-null   int64  \n",
      " 5   Vehicle Volume By Each Direction of Traffic  1279 non-null   object \n",
      " 6   Latitude                                     1279 non-null   float64\n",
      " 7   Longitude                                    1279 non-null   float64\n",
      " 8   Location                                     1279 non-null   object \n",
      "dtypes: float64(2), int64(2), object(5)\n",
      "memory usage: 90.1+ KB\n"
     ]
    }
   ],
   "source": [
    "# check the null values and total data\n",
    "data.info()"
   ]
  },
  {
   "cell_type": "code",
   "execution_count": 170,
   "metadata": {},
   "outputs": [
    {
     "data": {
      "text/plain": [
       "Index(['ID ', 'Traffic Volume Count Location  Address', 'Street',\n",
       "       'Date of Count', 'Total Passing Vehicle Volume',\n",
       "       'Vehicle Volume By Each Direction of Traffic', 'Latitude', 'Longitude',\n",
       "       'Location'],\n",
       "      dtype='object')"
      ]
     },
     "execution_count": 170,
     "metadata": {},
     "output_type": "execute_result"
    }
   ],
   "source": [
    "# check all the columns\n",
    "data.columns"
   ]
  },
  {
   "cell_type": "code",
   "execution_count": 171,
   "metadata": {},
   "outputs": [],
   "source": [
    "# rename the column names\n",
    "data = data.rename(columns = {\"ID \":\"ID\", 'Traffic Volume Count Location  Address':\"Address\", 'Date of Count':'Date', 'Total Passing Vehicle Volume':'Total', 'Vehicle Volume By Each Direction of Traffic':'Direction'})"
   ]
  },
  {
   "cell_type": "code",
   "execution_count": 172,
   "metadata": {},
   "outputs": [
    {
     "data": {
      "text/html": [
       "<div>\n",
       "<style scoped>\n",
       "    .dataframe tbody tr th:only-of-type {\n",
       "        vertical-align: middle;\n",
       "    }\n",
       "\n",
       "    .dataframe tbody tr th {\n",
       "        vertical-align: top;\n",
       "    }\n",
       "\n",
       "    .dataframe thead th {\n",
       "        text-align: right;\n",
       "    }\n",
       "</style>\n",
       "<table border=\"1\" class=\"dataframe\">\n",
       "  <thead>\n",
       "    <tr style=\"text-align: right;\">\n",
       "      <th></th>\n",
       "      <th>ID</th>\n",
       "      <th>Address</th>\n",
       "      <th>Street</th>\n",
       "      <th>Date</th>\n",
       "      <th>Total</th>\n",
       "      <th>Direction</th>\n",
       "      <th>Latitude</th>\n",
       "      <th>Longitude</th>\n",
       "      <th>Location</th>\n",
       "    </tr>\n",
       "  </thead>\n",
       "  <tbody>\n",
       "    <tr>\n",
       "      <th>0</th>\n",
       "      <td>2</td>\n",
       "      <td>1708 West</td>\n",
       "      <td>71st Street</td>\n",
       "      <td>3/9/2006</td>\n",
       "      <td>14600</td>\n",
       "      <td>East Bound: 6900 / West Bound: 7700</td>\n",
       "      <td>41.764877</td>\n",
       "      <td>-87.666635</td>\n",
       "      <td>(41.764877, -87.666635)</td>\n",
       "    </tr>\n",
       "    <tr>\n",
       "      <th>1</th>\n",
       "      <td>3</td>\n",
       "      <td>1275 West</td>\n",
       "      <td>71st Street</td>\n",
       "      <td>2/28/2006</td>\n",
       "      <td>16500</td>\n",
       "      <td>East Bound: 7800 / West Bound: 8700</td>\n",
       "      <td>41.765008</td>\n",
       "      <td>-87.657067</td>\n",
       "      <td>(41.765008, -87.657067)</td>\n",
       "    </tr>\n",
       "    <tr>\n",
       "      <th>2</th>\n",
       "      <td>5</td>\n",
       "      <td>920 West</td>\n",
       "      <td>71st Street</td>\n",
       "      <td>2/28/2006</td>\n",
       "      <td>18200</td>\n",
       "      <td>East Bound: 8800 / West Bound: 9400</td>\n",
       "      <td>41.765153</td>\n",
       "      <td>-87.647751</td>\n",
       "      <td>(41.765153, -87.647751)</td>\n",
       "    </tr>\n",
       "    <tr>\n",
       "      <th>3</th>\n",
       "      <td>6</td>\n",
       "      <td>758 West</td>\n",
       "      <td>71st Street</td>\n",
       "      <td>2/28/2006</td>\n",
       "      <td>21600</td>\n",
       "      <td>East Bound: 10400 / West Bound: 11200</td>\n",
       "      <td>41.765204</td>\n",
       "      <td>-87.644371</td>\n",
       "      <td>(41.765204, -87.644371)</td>\n",
       "    </tr>\n",
       "    <tr>\n",
       "      <th>4</th>\n",
       "      <td>7</td>\n",
       "      <td>240 East</td>\n",
       "      <td>71st St</td>\n",
       "      <td>2/28/2006</td>\n",
       "      <td>18300</td>\n",
       "      <td>East Bound: 9000 / West Bound: 9300</td>\n",
       "      <td>41.765644</td>\n",
       "      <td>-87.618476</td>\n",
       "      <td>(41.765644, -87.618476)</td>\n",
       "    </tr>\n",
       "  </tbody>\n",
       "</table>\n",
       "</div>"
      ],
      "text/plain": [
       "   ID    Address       Street       Date  Total  \\\n",
       "0   2  1708 West  71st Street   3/9/2006  14600   \n",
       "1   3  1275 West  71st Street  2/28/2006  16500   \n",
       "2   5   920 West  71st Street  2/28/2006  18200   \n",
       "3   6   758 West  71st Street  2/28/2006  21600   \n",
       "4   7   240 East      71st St  2/28/2006  18300   \n",
       "\n",
       "                               Direction   Latitude  Longitude  \\\n",
       "0    East Bound: 6900 / West Bound: 7700  41.764877 -87.666635   \n",
       "1    East Bound: 7800 / West Bound: 8700  41.765008 -87.657067   \n",
       "2    East Bound: 8800 / West Bound: 9400  41.765153 -87.647751   \n",
       "3  East Bound: 10400 / West Bound: 11200  41.765204 -87.644371   \n",
       "4    East Bound: 9000 / West Bound: 9300  41.765644 -87.618476   \n",
       "\n",
       "                  Location  \n",
       "0  (41.764877, -87.666635)  \n",
       "1  (41.765008, -87.657067)  \n",
       "2  (41.765153, -87.647751)  \n",
       "3  (41.765204, -87.644371)  \n",
       "4  (41.765644, -87.618476)  "
      ]
     },
     "execution_count": 172,
     "metadata": {},
     "output_type": "execute_result"
    }
   ],
   "source": [
    "# check the renaming result\n",
    "data.head()"
   ]
  },
  {
   "cell_type": "markdown",
   "metadata": {},
   "source": [
    "Checking the unique values can not only give us information about how many unique values of the feature has but also tell us which features can be used to count. From the following result, it can be found that the ID is unique feature for every data, which means it can be used to count when needed. "
   ]
  },
  {
   "cell_type": "code",
   "execution_count": 173,
   "metadata": {},
   "outputs": [
    {
     "name": "stdout",
     "output_type": "stream",
     "text": [
      "The nunique numbers of ID is: 1279\n",
      "The nunique numbers of Address is: 1203\n",
      "The nunique numbers of Street is: 251\n",
      "The nunique numbers of Date is: 95\n",
      "The nunique numbers of Total is: 398\n",
      "The nunique numbers of Direction is: 1223\n",
      "The nunique numbers of Latitude is: 1272\n",
      "The nunique numbers of Longitude is: 1275\n",
      "The nunique numbers of Location is: 1276\n"
     ]
    }
   ],
   "source": [
    "# check the unique values of every feature\n",
    "for i in data.columns:\n",
    "    print(\"The nunique numbers of \"+ i+ \" is: \" + str(data[i].nunique()))"
   ]
  },
  {
   "cell_type": "code",
   "execution_count": 174,
   "metadata": {},
   "outputs": [],
   "source": [
    "# use the latitute and longitude to get the city information\n",
    "import geocoder\n",
    "def geo_rev(x):\n",
    "    g=geocoder.osm([x['Latitude'], x['Longitude']],method = 'reverse').json\n",
    "    if g:\n",
    "        return g.get('city')\n",
    "        \n",
    "    else:\n",
    "        return 'none'\n",
    "data['city']=data[['Latitude','Longitude']].apply(geo_rev, axis=1)"
   ]
  },
  {
   "cell_type": "code",
   "execution_count": 175,
   "metadata": {},
   "outputs": [
    {
     "data": {
      "text/plain": [
       "Chicago    1266\n",
       "Name: city, dtype: int64"
      ]
     },
     "execution_count": 175,
     "metadata": {},
     "output_type": "execute_result"
    }
   ],
   "source": [
    "# Check how many cities included\n",
    "data['city'].value_counts()"
   ]
  },
  {
   "cell_type": "code",
   "execution_count": 176,
   "metadata": {},
   "outputs": [
    {
     "data": {
      "text/html": [
       "<div>\n",
       "<style scoped>\n",
       "    .dataframe tbody tr th:only-of-type {\n",
       "        vertical-align: middle;\n",
       "    }\n",
       "\n",
       "    .dataframe tbody tr th {\n",
       "        vertical-align: top;\n",
       "    }\n",
       "\n",
       "    .dataframe thead th {\n",
       "        text-align: right;\n",
       "    }\n",
       "</style>\n",
       "<table border=\"1\" class=\"dataframe\">\n",
       "  <thead>\n",
       "    <tr style=\"text-align: right;\">\n",
       "      <th></th>\n",
       "      <th>ID</th>\n",
       "      <th>Address</th>\n",
       "      <th>Street</th>\n",
       "      <th>Date</th>\n",
       "      <th>Total</th>\n",
       "      <th>Direction</th>\n",
       "      <th>Latitude</th>\n",
       "      <th>Longitude</th>\n",
       "      <th>Location</th>\n",
       "      <th>city</th>\n",
       "    </tr>\n",
       "  </thead>\n",
       "  <tbody>\n",
       "    <tr>\n",
       "      <th>0</th>\n",
       "      <td>2</td>\n",
       "      <td>1708 West</td>\n",
       "      <td>71st Street</td>\n",
       "      <td>3/9/2006</td>\n",
       "      <td>14600</td>\n",
       "      <td>East Bound: 6900 / West Bound: 7700</td>\n",
       "      <td>41.764877</td>\n",
       "      <td>-87.666635</td>\n",
       "      <td>(41.764877, -87.666635)</td>\n",
       "      <td>Chicago</td>\n",
       "    </tr>\n",
       "    <tr>\n",
       "      <th>1</th>\n",
       "      <td>3</td>\n",
       "      <td>1275 West</td>\n",
       "      <td>71st Street</td>\n",
       "      <td>2/28/2006</td>\n",
       "      <td>16500</td>\n",
       "      <td>East Bound: 7800 / West Bound: 8700</td>\n",
       "      <td>41.765008</td>\n",
       "      <td>-87.657067</td>\n",
       "      <td>(41.765008, -87.657067)</td>\n",
       "      <td>Chicago</td>\n",
       "    </tr>\n",
       "    <tr>\n",
       "      <th>2</th>\n",
       "      <td>5</td>\n",
       "      <td>920 West</td>\n",
       "      <td>71st Street</td>\n",
       "      <td>2/28/2006</td>\n",
       "      <td>18200</td>\n",
       "      <td>East Bound: 8800 / West Bound: 9400</td>\n",
       "      <td>41.765153</td>\n",
       "      <td>-87.647751</td>\n",
       "      <td>(41.765153, -87.647751)</td>\n",
       "      <td>Chicago</td>\n",
       "    </tr>\n",
       "  </tbody>\n",
       "</table>\n",
       "</div>"
      ],
      "text/plain": [
       "   ID    Address       Street       Date  Total  \\\n",
       "0   2  1708 West  71st Street   3/9/2006  14600   \n",
       "1   3  1275 West  71st Street  2/28/2006  16500   \n",
       "2   5   920 West  71st Street  2/28/2006  18200   \n",
       "\n",
       "                             Direction   Latitude  Longitude  \\\n",
       "0  East Bound: 6900 / West Bound: 7700  41.764877 -87.666635   \n",
       "1  East Bound: 7800 / West Bound: 8700  41.765008 -87.657067   \n",
       "2  East Bound: 8800 / West Bound: 9400  41.765153 -87.647751   \n",
       "\n",
       "                  Location     city  \n",
       "0  (41.764877, -87.666635)  Chicago  \n",
       "1  (41.765008, -87.657067)  Chicago  \n",
       "2  (41.765153, -87.647751)  Chicago  "
      ]
     },
     "execution_count": 176,
     "metadata": {},
     "output_type": "execute_result"
    }
   ],
   "source": [
    "data.head(3)"
   ]
  },
  {
   "cell_type": "code",
   "execution_count": 210,
   "metadata": {},
   "outputs": [
    {
     "name": "stdout",
     "output_type": "stream",
     "text": [
      "(41.692257, -87.720366): Breakfast Club, South Pulaski Road, Mount Greenwood, Oak Lawn, Lake Township, Cook County, Illinois, 60453, United States\n",
      "(41.68508, -87.700584): Cash America Pawn, 11445, South Kedzie Avenue, Mount Greenwood, Merrionette Park, Worth Township, Cook County, Illinois, 60803, United States\n",
      "(41.896495, -87.775191): Austin & Iowa SB, North Austin Boulevard, Ridgeland, Oak Park, Cook County, Illinois, 60302, United States\n",
      "(41.908868, -87.804756): North & Harlem Plaza, West North Avenue, Oak Park, Cook County, Illinois, 60302, United States\n",
      "(41.677257, -87.680696): 119th Street & Western, West 119th Street, Morgan Park, Blue Island, Calumet Township, Cook County, Illinois, 60406, United States\n",
      "(41.735341, -87.693452): 2847, West 87th Street, Evergreen Park, Worth Township, Cook County, Illinois, 60805, United States\n",
      "(41.987853, -87.846528): North East River Road, O'Hare, Park Ridge, Leyden Township, Cook County, Illinois, 60656, United States\n",
      "(41.957636, -87.799463): Forest Preserve Ave & New England WB, West Forest Preserve Drive, Harwood Heights, Norwood Park Township, Cook County, Illinois, 60634, United States\n",
      "(41.91366, -87.805925): 1850, North Harlem Avenue, Beat 2512, Austin, Elmwood Park, Jefferson Township, Cook County, Illinois, 60707, United States\n",
      "(41.7348, -87.724651): 87th Street & Karlov EB, West 87th Street, Ashburn, Hometown, Worth Township, Cook County, Illinois, 60456, United States\n",
      "(41.783408, -87.80116): Advance Auto Parts, 5944, South Harlem Avenue, Clearing, Summit, Lyons Township, Cook County, Illinois, 60501, United States\n",
      "(41.691254, -87.724362): 4401, West 111th Street, Oak Lawn, Worth Township, Cook County, Illinois, 60803, United States\n",
      "(41.707206, -87.720975): 10216, South Pulaski Road, Oak Lawn, Worth Township, Cook County, Illinois, 60453, United States\n"
     ]
    }
   ],
   "source": [
    "# check the address of those with no city\n",
    "data_no_city = data[data['city']!='Chicago']\n",
    "for i in data_no_city['Location']:\n",
    "    lat = i[1:-1].split(\",\")[0]\n",
    "    long = i[1:-1].split(\",\")[1]\n",
    "    print(i + \": \" + geocoder.osm([lat,long], method = 'reverse').json.get('address'))"
   ]
  },
  {
   "cell_type": "markdown",
   "metadata": {},
   "source": [
    "It can be found from above information that those without city information are either township or park. Since there are only 13 data without city information, and the majority (98.98% = 1266 / 1279) of data belongs to Chicago city. I would like to focus our analysis on the city of Chicago."
   ]
  },
  {
   "cell_type": "code",
   "execution_count": 211,
   "metadata": {},
   "outputs": [],
   "source": [
    "# get the data in Chicago and update the data\n",
    "data_chicago = data[data['city']=='Chicago'].reset_index(drop = True)"
   ]
  },
  {
   "cell_type": "code",
   "execution_count": 212,
   "metadata": {},
   "outputs": [
    {
     "data": {
      "text/html": [
       "<div>\n",
       "<style scoped>\n",
       "    .dataframe tbody tr th:only-of-type {\n",
       "        vertical-align: middle;\n",
       "    }\n",
       "\n",
       "    .dataframe tbody tr th {\n",
       "        vertical-align: top;\n",
       "    }\n",
       "\n",
       "    .dataframe thead th {\n",
       "        text-align: right;\n",
       "    }\n",
       "</style>\n",
       "<table border=\"1\" class=\"dataframe\">\n",
       "  <thead>\n",
       "    <tr style=\"text-align: right;\">\n",
       "      <th></th>\n",
       "      <th>ID</th>\n",
       "      <th>Address</th>\n",
       "      <th>Street</th>\n",
       "      <th>Date</th>\n",
       "      <th>Total</th>\n",
       "      <th>Direction</th>\n",
       "      <th>Latitude</th>\n",
       "      <th>Longitude</th>\n",
       "    </tr>\n",
       "  </thead>\n",
       "  <tbody>\n",
       "    <tr>\n",
       "      <th>0</th>\n",
       "      <td>2</td>\n",
       "      <td>1708 West</td>\n",
       "      <td>71st Street</td>\n",
       "      <td>3/9/2006</td>\n",
       "      <td>14600</td>\n",
       "      <td>East Bound: 6900 / West Bound: 7700</td>\n",
       "      <td>41.764877</td>\n",
       "      <td>-87.666635</td>\n",
       "    </tr>\n",
       "    <tr>\n",
       "      <th>1</th>\n",
       "      <td>3</td>\n",
       "      <td>1275 West</td>\n",
       "      <td>71st Street</td>\n",
       "      <td>2/28/2006</td>\n",
       "      <td>16500</td>\n",
       "      <td>East Bound: 7800 / West Bound: 8700</td>\n",
       "      <td>41.765008</td>\n",
       "      <td>-87.657067</td>\n",
       "    </tr>\n",
       "    <tr>\n",
       "      <th>2</th>\n",
       "      <td>5</td>\n",
       "      <td>920 West</td>\n",
       "      <td>71st Street</td>\n",
       "      <td>2/28/2006</td>\n",
       "      <td>18200</td>\n",
       "      <td>East Bound: 8800 / West Bound: 9400</td>\n",
       "      <td>41.765153</td>\n",
       "      <td>-87.647751</td>\n",
       "    </tr>\n",
       "    <tr>\n",
       "      <th>3</th>\n",
       "      <td>6</td>\n",
       "      <td>758 West</td>\n",
       "      <td>71st Street</td>\n",
       "      <td>2/28/2006</td>\n",
       "      <td>21600</td>\n",
       "      <td>East Bound: 10400 / West Bound: 11200</td>\n",
       "      <td>41.765204</td>\n",
       "      <td>-87.644371</td>\n",
       "    </tr>\n",
       "    <tr>\n",
       "      <th>4</th>\n",
       "      <td>7</td>\n",
       "      <td>240 East</td>\n",
       "      <td>71st St</td>\n",
       "      <td>2/28/2006</td>\n",
       "      <td>18300</td>\n",
       "      <td>East Bound: 9000 / West Bound: 9300</td>\n",
       "      <td>41.765644</td>\n",
       "      <td>-87.618476</td>\n",
       "    </tr>\n",
       "  </tbody>\n",
       "</table>\n",
       "</div>"
      ],
      "text/plain": [
       "   ID    Address       Street       Date  Total  \\\n",
       "0   2  1708 West  71st Street   3/9/2006  14600   \n",
       "1   3  1275 West  71st Street  2/28/2006  16500   \n",
       "2   5   920 West  71st Street  2/28/2006  18200   \n",
       "3   6   758 West  71st Street  2/28/2006  21600   \n",
       "4   7   240 East      71st St  2/28/2006  18300   \n",
       "\n",
       "                               Direction   Latitude  Longitude  \n",
       "0    East Bound: 6900 / West Bound: 7700  41.764877 -87.666635  \n",
       "1    East Bound: 7800 / West Bound: 8700  41.765008 -87.657067  \n",
       "2    East Bound: 8800 / West Bound: 9400  41.765153 -87.647751  \n",
       "3  East Bound: 10400 / West Bound: 11200  41.765204 -87.644371  \n",
       "4    East Bound: 9000 / West Bound: 9300  41.765644 -87.618476  "
      ]
     },
     "execution_count": 212,
     "metadata": {},
     "output_type": "execute_result"
    }
   ],
   "source": [
    "# drop some irrelevant columns\n",
    "data_chicago = data_chicago.drop(['Location','city'],1)\n",
    "data_chicago.head()"
   ]
  },
  {
   "cell_type": "code",
   "execution_count": 213,
   "metadata": {},
   "outputs": [
    {
     "data": {
      "text/html": [
       "<div>\n",
       "<style scoped>\n",
       "    .dataframe tbody tr th:only-of-type {\n",
       "        vertical-align: middle;\n",
       "    }\n",
       "\n",
       "    .dataframe tbody tr th {\n",
       "        vertical-align: top;\n",
       "    }\n",
       "\n",
       "    .dataframe thead th {\n",
       "        text-align: right;\n",
       "    }\n",
       "</style>\n",
       "<table border=\"1\" class=\"dataframe\">\n",
       "  <thead>\n",
       "    <tr style=\"text-align: right;\">\n",
       "      <th></th>\n",
       "      <th>ID</th>\n",
       "      <th>Address</th>\n",
       "      <th>Street</th>\n",
       "      <th>Date</th>\n",
       "      <th>Total</th>\n",
       "      <th>Direction</th>\n",
       "      <th>Latitude</th>\n",
       "      <th>Longitude</th>\n",
       "      <th>year</th>\n",
       "      <th>month</th>\n",
       "      <th>day</th>\n",
       "    </tr>\n",
       "  </thead>\n",
       "  <tbody>\n",
       "    <tr>\n",
       "      <th>0</th>\n",
       "      <td>2</td>\n",
       "      <td>1708 West</td>\n",
       "      <td>71st Street</td>\n",
       "      <td>2006-03-09</td>\n",
       "      <td>14600</td>\n",
       "      <td>East Bound: 6900 / West Bound: 7700</td>\n",
       "      <td>41.764877</td>\n",
       "      <td>-87.666635</td>\n",
       "      <td>2006</td>\n",
       "      <td>3</td>\n",
       "      <td>Thursday</td>\n",
       "    </tr>\n",
       "    <tr>\n",
       "      <th>1</th>\n",
       "      <td>3</td>\n",
       "      <td>1275 West</td>\n",
       "      <td>71st Street</td>\n",
       "      <td>2006-02-28</td>\n",
       "      <td>16500</td>\n",
       "      <td>East Bound: 7800 / West Bound: 8700</td>\n",
       "      <td>41.765008</td>\n",
       "      <td>-87.657067</td>\n",
       "      <td>2006</td>\n",
       "      <td>2</td>\n",
       "      <td>Tuesday</td>\n",
       "    </tr>\n",
       "    <tr>\n",
       "      <th>2</th>\n",
       "      <td>5</td>\n",
       "      <td>920 West</td>\n",
       "      <td>71st Street</td>\n",
       "      <td>2006-02-28</td>\n",
       "      <td>18200</td>\n",
       "      <td>East Bound: 8800 / West Bound: 9400</td>\n",
       "      <td>41.765153</td>\n",
       "      <td>-87.647751</td>\n",
       "      <td>2006</td>\n",
       "      <td>2</td>\n",
       "      <td>Tuesday</td>\n",
       "    </tr>\n",
       "    <tr>\n",
       "      <th>3</th>\n",
       "      <td>6</td>\n",
       "      <td>758 West</td>\n",
       "      <td>71st Street</td>\n",
       "      <td>2006-02-28</td>\n",
       "      <td>21600</td>\n",
       "      <td>East Bound: 10400 / West Bound: 11200</td>\n",
       "      <td>41.765204</td>\n",
       "      <td>-87.644371</td>\n",
       "      <td>2006</td>\n",
       "      <td>2</td>\n",
       "      <td>Tuesday</td>\n",
       "    </tr>\n",
       "    <tr>\n",
       "      <th>4</th>\n",
       "      <td>7</td>\n",
       "      <td>240 East</td>\n",
       "      <td>71st St</td>\n",
       "      <td>2006-02-28</td>\n",
       "      <td>18300</td>\n",
       "      <td>East Bound: 9000 / West Bound: 9300</td>\n",
       "      <td>41.765644</td>\n",
       "      <td>-87.618476</td>\n",
       "      <td>2006</td>\n",
       "      <td>2</td>\n",
       "      <td>Tuesday</td>\n",
       "    </tr>\n",
       "  </tbody>\n",
       "</table>\n",
       "</div>"
      ],
      "text/plain": [
       "   ID    Address       Street       Date  Total  \\\n",
       "0   2  1708 West  71st Street 2006-03-09  14600   \n",
       "1   3  1275 West  71st Street 2006-02-28  16500   \n",
       "2   5   920 West  71st Street 2006-02-28  18200   \n",
       "3   6   758 West  71st Street 2006-02-28  21600   \n",
       "4   7   240 East      71st St 2006-02-28  18300   \n",
       "\n",
       "                               Direction   Latitude  Longitude  year  month  \\\n",
       "0    East Bound: 6900 / West Bound: 7700  41.764877 -87.666635  2006      3   \n",
       "1    East Bound: 7800 / West Bound: 8700  41.765008 -87.657067  2006      2   \n",
       "2    East Bound: 8800 / West Bound: 9400  41.765153 -87.647751  2006      2   \n",
       "3  East Bound: 10400 / West Bound: 11200  41.765204 -87.644371  2006      2   \n",
       "4    East Bound: 9000 / West Bound: 9300  41.765644 -87.618476  2006      2   \n",
       "\n",
       "        day  \n",
       "0  Thursday  \n",
       "1   Tuesday  \n",
       "2   Tuesday  \n",
       "3   Tuesday  \n",
       "4   Tuesday  "
      ]
     },
     "execution_count": 213,
     "metadata": {},
     "output_type": "execute_result"
    }
   ],
   "source": [
    "# change the date type from object to datetime\n",
    "data_chicago['Date'] = pd.to_datetime(data_chicago['Date'])\n",
    "\n",
    "# build new feature of year, month and day \n",
    "data_chicago['year'] = data_chicago['Date'].dt.year\n",
    "data_chicago['month'] = data_chicago['Date'].dt.month\n",
    "data_chicago['day'] = data_chicago['Date'].dt.day_name()\n",
    "\n",
    "# check and review the data \n",
    "data_chicago.head()"
   ]
  },
  {
   "cell_type": "code",
   "execution_count": 214,
   "metadata": {},
   "outputs": [
    {
     "data": {
      "text/html": [
       "<div>\n",
       "<style scoped>\n",
       "    .dataframe tbody tr th:only-of-type {\n",
       "        vertical-align: middle;\n",
       "    }\n",
       "\n",
       "    .dataframe tbody tr th {\n",
       "        vertical-align: top;\n",
       "    }\n",
       "\n",
       "    .dataframe thead th {\n",
       "        text-align: right;\n",
       "    }\n",
       "</style>\n",
       "<table border=\"1\" class=\"dataframe\">\n",
       "  <thead>\n",
       "    <tr style=\"text-align: right;\">\n",
       "      <th></th>\n",
       "      <th>ID</th>\n",
       "      <th>Address</th>\n",
       "      <th>Street</th>\n",
       "      <th>Date</th>\n",
       "      <th>Total</th>\n",
       "      <th>Latitude</th>\n",
       "      <th>Longitude</th>\n",
       "      <th>year</th>\n",
       "      <th>month</th>\n",
       "      <th>day</th>\n",
       "      <th>0_direction</th>\n",
       "      <th>0_volume</th>\n",
       "      <th>1_direction</th>\n",
       "      <th>1_volume</th>\n",
       "    </tr>\n",
       "  </thead>\n",
       "  <tbody>\n",
       "    <tr>\n",
       "      <th>0</th>\n",
       "      <td>2</td>\n",
       "      <td>1708 West</td>\n",
       "      <td>71st Street</td>\n",
       "      <td>2006-03-09</td>\n",
       "      <td>14600</td>\n",
       "      <td>41.764877</td>\n",
       "      <td>-87.666635</td>\n",
       "      <td>2006</td>\n",
       "      <td>3</td>\n",
       "      <td>Thursday</td>\n",
       "      <td>East</td>\n",
       "      <td>6900</td>\n",
       "      <td>West</td>\n",
       "      <td>7700</td>\n",
       "    </tr>\n",
       "    <tr>\n",
       "      <th>1</th>\n",
       "      <td>3</td>\n",
       "      <td>1275 West</td>\n",
       "      <td>71st Street</td>\n",
       "      <td>2006-02-28</td>\n",
       "      <td>16500</td>\n",
       "      <td>41.765008</td>\n",
       "      <td>-87.657067</td>\n",
       "      <td>2006</td>\n",
       "      <td>2</td>\n",
       "      <td>Tuesday</td>\n",
       "      <td>East</td>\n",
       "      <td>7800</td>\n",
       "      <td>West</td>\n",
       "      <td>8700</td>\n",
       "    </tr>\n",
       "    <tr>\n",
       "      <th>2</th>\n",
       "      <td>5</td>\n",
       "      <td>920 West</td>\n",
       "      <td>71st Street</td>\n",
       "      <td>2006-02-28</td>\n",
       "      <td>18200</td>\n",
       "      <td>41.765153</td>\n",
       "      <td>-87.647751</td>\n",
       "      <td>2006</td>\n",
       "      <td>2</td>\n",
       "      <td>Tuesday</td>\n",
       "      <td>East</td>\n",
       "      <td>8800</td>\n",
       "      <td>West</td>\n",
       "      <td>9400</td>\n",
       "    </tr>\n",
       "    <tr>\n",
       "      <th>3</th>\n",
       "      <td>6</td>\n",
       "      <td>758 West</td>\n",
       "      <td>71st Street</td>\n",
       "      <td>2006-02-28</td>\n",
       "      <td>21600</td>\n",
       "      <td>41.765204</td>\n",
       "      <td>-87.644371</td>\n",
       "      <td>2006</td>\n",
       "      <td>2</td>\n",
       "      <td>Tuesday</td>\n",
       "      <td>East</td>\n",
       "      <td>10400</td>\n",
       "      <td>West</td>\n",
       "      <td>11200</td>\n",
       "    </tr>\n",
       "    <tr>\n",
       "      <th>4</th>\n",
       "      <td>7</td>\n",
       "      <td>240 East</td>\n",
       "      <td>71st St</td>\n",
       "      <td>2006-02-28</td>\n",
       "      <td>18300</td>\n",
       "      <td>41.765644</td>\n",
       "      <td>-87.618476</td>\n",
       "      <td>2006</td>\n",
       "      <td>2</td>\n",
       "      <td>Tuesday</td>\n",
       "      <td>East</td>\n",
       "      <td>9000</td>\n",
       "      <td>West</td>\n",
       "      <td>9300</td>\n",
       "    </tr>\n",
       "  </tbody>\n",
       "</table>\n",
       "</div>"
      ],
      "text/plain": [
       "   ID    Address       Street       Date  Total   Latitude  Longitude  year  \\\n",
       "0   2  1708 West  71st Street 2006-03-09  14600  41.764877 -87.666635  2006   \n",
       "1   3  1275 West  71st Street 2006-02-28  16500  41.765008 -87.657067  2006   \n",
       "2   5   920 West  71st Street 2006-02-28  18200  41.765153 -87.647751  2006   \n",
       "3   6   758 West  71st Street 2006-02-28  21600  41.765204 -87.644371  2006   \n",
       "4   7   240 East      71st St 2006-02-28  18300  41.765644 -87.618476  2006   \n",
       "\n",
       "   month       day 0_direction  0_volume 1_direction  1_volume  \n",
       "0      3  Thursday        East      6900        West      7700  \n",
       "1      2   Tuesday        East      7800        West      8700  \n",
       "2      2   Tuesday        East      8800        West      9400  \n",
       "3      2   Tuesday        East     10400        West     11200  \n",
       "4      2   Tuesday        East      9000        West      9300  "
      ]
     },
     "execution_count": 214,
     "metadata": {},
     "output_type": "execute_result"
    }
   ],
   "source": [
    "# Split the 'Direction' features into four new features: two direction + corresponding volumes\n",
    "data_chicago['0_direction'] = data_chicago['Direction'].str.split('/').str[0].str.split(':').str[0].str[:-6].str.strip()\n",
    "data_chicago['0_volume'] = data_chicago['Direction'].str.split('/').str[0].str.split(':').str[1].astype(np.int64)\n",
    "data_chicago['1_direction'] = data_chicago['Direction'].str.split('/').str[1].str.split(':').str[0].str[:-6].str.strip()\n",
    "data_chicago['1_volume'] = data_chicago['Direction'].str.split('/ ').str[1].str.split(':').str[1].replace(np.nan, 0).astype(np.int64)\n",
    "data_chicago = data_chicago.drop('Direction', 1)\n",
    "data_chicago.head()"
   ]
  },
  {
   "cell_type": "code",
   "execution_count": 215,
   "metadata": {},
   "outputs": [
    {
     "data": {
      "text/plain": [
       "North    640\n",
       "East     557\n",
       "South     39\n",
       "West      30\n",
       "Name: 0_direction, dtype: int64"
      ]
     },
     "execution_count": 215,
     "metadata": {},
     "output_type": "execute_result"
    }
   ],
   "source": [
    "# check what kinds of values included in '0_direction'\n",
    "data_chicago['0_direction'].value_counts()"
   ]
  },
  {
   "cell_type": "code",
   "execution_count": 216,
   "metadata": {},
   "outputs": [
    {
     "data": {
      "text/plain": [
       "South           613\n",
       "West            529\n",
       "                 54\n",
       "Oneway South     39\n",
       "Oneway West      30\n",
       "Oneway North      1\n",
       "Name: 1_direction, dtype: int64"
      ]
     },
     "execution_count": 216,
     "metadata": {},
     "output_type": "execute_result"
    }
   ],
   "source": [
    "# check what kinds of values included in '1_direction'\n",
    "data_chicago['1_direction'].value_counts()"
   ]
  },
  {
   "cell_type": "markdown",
   "metadata": {},
   "source": [
    "It is know that there should be at most four directions. However, there are more special situations in feature['1_direction']. I will unify these values. For example, since the \"0_direction\" and \"1_direction\" are splitted from the previous feature \"direction\", they should always be the opposite. When the total volumes is same with the volumes in [\"0_direction\"], it means that volumes of the opposite direction is 0 and vice verse."
   ]
  },
  {
   "cell_type": "code",
   "execution_count": 217,
   "metadata": {},
   "outputs": [
    {
     "data": {
      "text/plain": [
       "South    640\n",
       "West     557\n",
       "North     39\n",
       "East      30\n",
       "Name: 1_direction, dtype: int64"
      ]
     },
     "execution_count": 217,
     "metadata": {},
     "output_type": "execute_result"
    }
   ],
   "source": [
    "# unify the direction in \"1_direction\"\n",
    "dic={'South':\"North\",\"North\":\"South\",\"East\":\"West\",\"West\":\"East\"}\n",
    "\n",
    "for i in range(1266):   \n",
    "    if data_chicago.loc[i,'Total']==data_chicago.loc[i,\"0_volume\"]:\n",
    "        data_chicago.loc[i,'1_volume'] = 0\n",
    "    data_chicago.loc[i,'1_direction'] = dic[data_chicago.loc[i,\"0_direction\"]]\n",
    "data_chicago['1_direction'].value_counts()"
   ]
  },
  {
   "cell_type": "code",
   "execution_count": 218,
   "metadata": {},
   "outputs": [
    {
     "data": {
      "text/plain": [
       "Ave           597\n",
       "St            407\n",
       "Rd             85\n",
       "Street         50\n",
       "Dr             50\n",
       "Blvd           43\n",
       "Broadway        7\n",
       "Pkwy            4\n",
       "ST              3\n",
       "Ct              2\n",
       "Hwy             2\n",
       "L               2\n",
       "O               2\n",
       "Plaisance       2\n",
       "83rdStreet      1\n",
       "II              1\n",
       "Plaissance      1\n",
       "CT              1\n",
       "rd)             1\n",
       "pass)           1\n",
       "Pl              1\n",
       "(lower)         1\n",
       "RD              1\n",
       "PL              1\n",
       "Name: Street, dtype: int64"
      ]
     },
     "execution_count": 218,
     "metadata": {},
     "output_type": "execute_result"
    }
   ],
   "source": [
    "# Check the abbreviation of the name of \"Street\" \n",
    "data_chicago['Street'].str.split(' ').str[-1].value_counts()"
   ]
  },
  {
   "cell_type": "markdown",
   "metadata": {},
   "source": [
    "Based on above information, it is easily to found that there are some duplicate abbreviations and some name are not abbreviated as expected. All can be summarized as following:\n",
    "- Street: St;\n",
    "- ST: St;\n",
    "- RD: Rd;\n",
    "- CT: Ct;\n",
    "- PL: Pl;\n",
    "- Plaissance: Plaisance;\n",
    "- Western Ave (over pass): Western Ave;\n",
    "- Wacker Dr (lower):Wacker Dr;\n",
    "- Western Ave (frontage rd):vWestern Ave\n",
    "- 83rdStreet: 83rd St"
   ]
  },
  {
   "cell_type": "code",
   "execution_count": 219,
   "metadata": {},
   "outputs": [
    {
     "data": {
      "text/plain": [
       "Ave          599\n",
       "St           460\n",
       "Rd            86\n",
       "Dr            51\n",
       "Blvd          43\n",
       "Broadway       7\n",
       "Pkwy           4\n",
       "Ct             3\n",
       "Plaisance      3\n",
       "Hwy            2\n",
       "L              2\n",
       "O              2\n",
       "Pl             2\n",
       "83rdSt         1\n",
       "II             1\n",
       "Name: Street, dtype: int64"
      ]
     },
     "execution_count": 219,
     "metadata": {},
     "output_type": "execute_result"
    }
   ],
   "source": [
    "# modify the abbreviations of streets\n",
    "data_chicago['Street']=data_chicago['Street'].replace({\"Western Ave (over pass)\":\"Western Ave\",\"Wacker Dr (lower)\":\"Wacker Dr\", \"Western Ave (frontage rd)\":\"Western Ave\", \"Plaissance\":\"Plaisance\"},regex=False)\n",
    "data_chicago['Street']=data_chicago['Street'].replace({'Street':'St', \"ST\":\"St\",\"RD\":\"Rd\",\"CT\":\"Ct\",\"PL\":\"Pl\"},regex = True)\n",
    "data_chicago['Street']=data_chicago['Street'].apply(lambda s: s.replace(\"83rdStreet\",\"83rd  St\"))\n",
    "data_chicago['Street']=data_chicago['Street'].apply(lambda s: s.replace(\"Plaissance\",\"Plaisance\"))\n",
    "\n",
    "data_chicago['Street'].str.split(' ').str[-1].value_counts()"
   ]
  },
  {
   "cell_type": "code",
   "execution_count": 220,
   "metadata": {},
   "outputs": [
    {
     "data": {
      "text/html": [
       "<div>\n",
       "<style scoped>\n",
       "    .dataframe tbody tr th:only-of-type {\n",
       "        vertical-align: middle;\n",
       "    }\n",
       "\n",
       "    .dataframe tbody tr th {\n",
       "        vertical-align: top;\n",
       "    }\n",
       "\n",
       "    .dataframe thead th {\n",
       "        text-align: right;\n",
       "    }\n",
       "</style>\n",
       "<table border=\"1\" class=\"dataframe\">\n",
       "  <thead>\n",
       "    <tr style=\"text-align: right;\">\n",
       "      <th></th>\n",
       "      <th>ID</th>\n",
       "      <th>Address</th>\n",
       "      <th>Street</th>\n",
       "      <th>Date</th>\n",
       "      <th>Total</th>\n",
       "      <th>Latitude</th>\n",
       "      <th>Longitude</th>\n",
       "      <th>year</th>\n",
       "      <th>month</th>\n",
       "      <th>day</th>\n",
       "      <th>0_direction</th>\n",
       "      <th>0_volume</th>\n",
       "      <th>1_direction</th>\n",
       "      <th>1_volume</th>\n",
       "    </tr>\n",
       "  </thead>\n",
       "  <tbody>\n",
       "    <tr>\n",
       "      <th>134</th>\n",
       "      <td>156</td>\n",
       "      <td>9621 South</td>\n",
       "      <td>Avenue L</td>\n",
       "      <td>2006-03-21</td>\n",
       "      <td>5000</td>\n",
       "      <td>41.720702</td>\n",
       "      <td>-87.536499</td>\n",
       "      <td>2006</td>\n",
       "      <td>3</td>\n",
       "      <td>Tuesday</td>\n",
       "      <td>North</td>\n",
       "      <td>3200</td>\n",
       "      <td>South</td>\n",
       "      <td>1800</td>\n",
       "    </tr>\n",
       "    <tr>\n",
       "      <th>135</th>\n",
       "      <td>157</td>\n",
       "      <td>10129 South</td>\n",
       "      <td>Avenue L</td>\n",
       "      <td>2006-03-21</td>\n",
       "      <td>4200</td>\n",
       "      <td>41.711118</td>\n",
       "      <td>-87.536485</td>\n",
       "      <td>2006</td>\n",
       "      <td>3</td>\n",
       "      <td>Tuesday</td>\n",
       "      <td>North</td>\n",
       "      <td>2100</td>\n",
       "      <td>South</td>\n",
       "      <td>2100</td>\n",
       "    </tr>\n",
       "  </tbody>\n",
       "</table>\n",
       "</div>"
      ],
      "text/plain": [
       "      ID      Address    Street       Date  Total   Latitude  Longitude  year  \\\n",
       "134  156   9621 South  Avenue L 2006-03-21   5000  41.720702 -87.536499  2006   \n",
       "135  157  10129 South  Avenue L 2006-03-21   4200  41.711118 -87.536485  2006   \n",
       "\n",
       "     month      day 0_direction  0_volume 1_direction  1_volume  \n",
       "134      3  Tuesday       North      3200       South      1800  \n",
       "135      3  Tuesday       North      2100       South      2100  "
      ]
     },
     "execution_count": 220,
     "metadata": {},
     "output_type": "execute_result"
    }
   ],
   "source": [
    "data_chicago[data_chicago['Street'].str.split(' ').str[-1]=='L']"
   ]
  },
  {
   "cell_type": "code",
   "execution_count": 151,
   "metadata": {},
   "outputs": [
    {
     "data": {
      "text/html": [
       "<div>\n",
       "<style scoped>\n",
       "    .dataframe tbody tr th:only-of-type {\n",
       "        vertical-align: middle;\n",
       "    }\n",
       "\n",
       "    .dataframe tbody tr th {\n",
       "        vertical-align: top;\n",
       "    }\n",
       "\n",
       "    .dataframe thead th {\n",
       "        text-align: right;\n",
       "    }\n",
       "</style>\n",
       "<table border=\"1\" class=\"dataframe\">\n",
       "  <thead>\n",
       "    <tr style=\"text-align: right;\">\n",
       "      <th></th>\n",
       "      <th>ID</th>\n",
       "      <th>Address</th>\n",
       "      <th>Street</th>\n",
       "      <th>Date</th>\n",
       "      <th>Total</th>\n",
       "      <th>Latitude</th>\n",
       "      <th>Longitude</th>\n",
       "      <th>year</th>\n",
       "      <th>month</th>\n",
       "      <th>day</th>\n",
       "      <th>0_direction</th>\n",
       "      <th>0_volume</th>\n",
       "      <th>1_direction</th>\n",
       "      <th>1_volume</th>\n",
       "    </tr>\n",
       "  </thead>\n",
       "  <tbody>\n",
       "    <tr>\n",
       "      <th>696</th>\n",
       "      <td>751</td>\n",
       "      <td>11233 South</td>\n",
       "      <td>Avenue O</td>\n",
       "      <td>2006-10-18</td>\n",
       "      <td>16000</td>\n",
       "      <td>41.690863</td>\n",
       "      <td>-87.540104</td>\n",
       "      <td>2006</td>\n",
       "      <td>10</td>\n",
       "      <td>Wednesday</td>\n",
       "      <td>North</td>\n",
       "      <td>8100</td>\n",
       "      <td>South</td>\n",
       "      <td>7900</td>\n",
       "    </tr>\n",
       "    <tr>\n",
       "      <th>1191</th>\n",
       "      <td>1299</td>\n",
       "      <td>10928 South</td>\n",
       "      <td>Avenue O</td>\n",
       "      <td>2006-10-18</td>\n",
       "      <td>12400</td>\n",
       "      <td>41.696434</td>\n",
       "      <td>-87.540090</td>\n",
       "      <td>2006</td>\n",
       "      <td>10</td>\n",
       "      <td>Wednesday</td>\n",
       "      <td>North</td>\n",
       "      <td>7000</td>\n",
       "      <td>South</td>\n",
       "      <td>5400</td>\n",
       "    </tr>\n",
       "  </tbody>\n",
       "</table>\n",
       "</div>"
      ],
      "text/plain": [
       "        ID      Address    Street       Date  Total   Latitude  Longitude  \\\n",
       "696    751  11233 South  Avenue O 2006-10-18  16000  41.690863 -87.540104   \n",
       "1191  1299  10928 South  Avenue O 2006-10-18  12400  41.696434 -87.540090   \n",
       "\n",
       "      year  month        day 0_direction  0_volume 1_direction  1_volume  \n",
       "696   2006     10  Wednesday       North      8100       South      7900  \n",
       "1191  2006     10  Wednesday       North      7000       South      5400  "
      ]
     },
     "execution_count": 151,
     "metadata": {},
     "output_type": "execute_result"
    }
   ],
   "source": [
    "data_chicago[data_chicago['Street'].str.split(' ').str[-1]=='O']"
   ]
  },
  {
   "cell_type": "code",
   "execution_count": 152,
   "metadata": {},
   "outputs": [
    {
     "data": {
      "text/html": [
       "<div>\n",
       "<style scoped>\n",
       "    .dataframe tbody tr th:only-of-type {\n",
       "        vertical-align: middle;\n",
       "    }\n",
       "\n",
       "    .dataframe tbody tr th {\n",
       "        vertical-align: top;\n",
       "    }\n",
       "\n",
       "    .dataframe thead th {\n",
       "        text-align: right;\n",
       "    }\n",
       "</style>\n",
       "<table border=\"1\" class=\"dataframe\">\n",
       "  <thead>\n",
       "    <tr style=\"text-align: right;\">\n",
       "      <th></th>\n",
       "      <th>ID</th>\n",
       "      <th>Address</th>\n",
       "      <th>Street</th>\n",
       "      <th>Date</th>\n",
       "      <th>Total</th>\n",
       "      <th>Latitude</th>\n",
       "      <th>Longitude</th>\n",
       "      <th>year</th>\n",
       "      <th>month</th>\n",
       "      <th>day</th>\n",
       "      <th>0_direction</th>\n",
       "      <th>0_volume</th>\n",
       "      <th>1_direction</th>\n",
       "      <th>1_volume</th>\n",
       "    </tr>\n",
       "  </thead>\n",
       "  <tbody>\n",
       "    <tr>\n",
       "      <th>343</th>\n",
       "      <td>375</td>\n",
       "      <td>2701 West</td>\n",
       "      <td>Pope John Paul II</td>\n",
       "      <td>2006-05-09</td>\n",
       "      <td>7000</td>\n",
       "      <td>41.815579</td>\n",
       "      <td>-87.692019</td>\n",
       "      <td>2006</td>\n",
       "      <td>5</td>\n",
       "      <td>Tuesday</td>\n",
       "      <td>West</td>\n",
       "      <td>7000</td>\n",
       "      <td>East</td>\n",
       "      <td>0</td>\n",
       "    </tr>\n",
       "  </tbody>\n",
       "</table>\n",
       "</div>"
      ],
      "text/plain": [
       "      ID    Address             Street       Date  Total   Latitude  \\\n",
       "343  375  2701 West  Pope John Paul II 2006-05-09   7000  41.815579   \n",
       "\n",
       "     Longitude  year  month      day 0_direction  0_volume 1_direction  \\\n",
       "343 -87.692019  2006      5  Tuesday        West      7000        East   \n",
       "\n",
       "     1_volume  \n",
       "343         0  "
      ]
     },
     "execution_count": 152,
     "metadata": {},
     "output_type": "execute_result"
    }
   ],
   "source": [
    "# check the detailed information of \"II\"\n",
    "data_chicago[data_chicago['Street'].str.split(' ').str[-1]=='II']"
   ]
  },
  {
   "cell_type": "code",
   "execution_count": 153,
   "metadata": {},
   "outputs": [
    {
     "data": {
      "text/plain": [
       "Ave          599\n",
       "St           460\n",
       "Rd            86\n",
       "Dr            51\n",
       "Blvd          43\n",
       "Broadway       7\n",
       "Pkwy           4\n",
       "Ct             3\n",
       "Plaisance      3\n",
       "Hwy            2\n",
       "L              2\n",
       "O              2\n",
       "Pl             2\n",
       "83rdSt         1\n",
       "II             1\n",
       "Name: Street, dtype: int64"
      ]
     },
     "execution_count": 153,
     "metadata": {},
     "output_type": "execute_result"
    }
   ],
   "source": [
    "# Check if the abbrivative has been changed\n",
    "data_chicago['Street'].str.split(' ').str[-1].value_counts()"
   ]
  },
  {
   "cell_type": "code",
   "execution_count": 221,
   "metadata": {},
   "outputs": [],
   "source": [
    "# save the datafile \n",
    "data_chicago.to_csv('data_chicago.csv')"
   ]
  },
  {
   "cell_type": "markdown",
   "metadata": {},
   "source": [
    "## Q1: What is the busiest street?"
   ]
  },
  {
   "cell_type": "code",
   "execution_count": 277,
   "metadata": {},
   "outputs": [
    {
     "data": {
      "text/plain": [
       "Street\n",
       "Western Ave    1154200\n",
       "Name: Total, dtype: int64"
      ]
     },
     "execution_count": 277,
     "metadata": {},
     "output_type": "execute_result"
    }
   ],
   "source": [
    "# check the busiest street\n",
    "data_chicago.groupby('Street')['Total'].sum().sort_values(ascending = False).head(1)"
   ]
  },
  {
   "cell_type": "markdown",
   "metadata": {},
   "source": [
    "Based on all the data we have, it is easily to find that the busiest street is \"Western Ave\". However, since this is sample counts that will be taken to used to estimate the whole traffic in future, I have to check the counts distribution and if the sample is selected randomly as following."
   ]
  },
  {
   "cell_type": "code",
   "execution_count": 234,
   "metadata": {},
   "outputs": [
    {
     "data": {
      "text/plain": [
       "Western Ave          34\n",
       "Damen Ave            33\n",
       "Ashland Ave          31\n",
       "Pulaski Rd           26\n",
       "Halsted St           26\n",
       "                     ..\n",
       "Yates Blvd            1\n",
       "South Chicago Ave     1\n",
       "95Th St               1\n",
       "57th St               1\n",
       "106th St              1\n",
       "Name: Street, Length: 231, dtype: int64"
      ]
     },
     "execution_count": 234,
     "metadata": {},
     "output_type": "execute_result"
    }
   ],
   "source": [
    "# Street Vs. count times\n",
    "data_chicago['Street'].value_counts()"
   ]
  },
  {
   "cell_type": "code",
   "execution_count": 271,
   "metadata": {},
   "outputs": [
    {
     "data": {
      "text/plain": [
       "(array([ 0,  1,  2,  3,  4,  5,  6,  7,  8,  9, 10, 11, 12, 13, 14, 15, 16,\n",
       "        17, 18, 19, 20, 21, 22, 23, 24, 25, 26, 27, 28, 29]),\n",
       " <a list of 30 Text major ticklabel objects>)"
      ]
     },
     "execution_count": 271,
     "metadata": {},
     "output_type": "execute_result"
    },
    {
     "data": {
      "image/png": "[encoded data removed]",
      "text/plain": [
       "<Figure size 1152x360 with 1 Axes>"
      ]
     },
     "metadata": {
      "needs_background": "light"
     },
     "output_type": "display_data"
    }
   ],
   "source": [
    "# Visualization of Street Vs. count times\n",
    "data_chicago['Street'].value_counts().sort_values(ascending=False).head(30).plot(kind='bar',figsize = (16,5))\n",
    "plt.xticks(rotation=75)"
   ]
  },
  {
   "cell_type": "markdown",
   "metadata": {},
   "source": [
    "From the above information, it is easily to find that streets are not countted randomly,for example, some streets are countted too many times compared with others, while some streets are only counted once,which has raise a severe **selection bias** problem."
   ]
  },
  {
   "cell_type": "code",
   "execution_count": 294,
   "metadata": {},
   "outputs": [
    {
     "data": {
      "text/plain": [
       "Counter({34: 1,\n",
       "         33: 1,\n",
       "         31: 1,\n",
       "         26: 2,\n",
       "         23: 1,\n",
       "         22: 1,\n",
       "         20: 1,\n",
       "         19: 2,\n",
       "         18: 1,\n",
       "         17: 3,\n",
       "         16: 1,\n",
       "         15: 2,\n",
       "         14: 3,\n",
       "         13: 5,\n",
       "         12: 6,\n",
       "         11: 4,\n",
       "         10: 11,\n",
       "         9: 9,\n",
       "         8: 6,\n",
       "         7: 12,\n",
       "         6: 13,\n",
       "         5: 7,\n",
       "         4: 15,\n",
       "         3: 15,\n",
       "         2: 26,\n",
       "         1: 82})"
      ]
     },
     "execution_count": 294,
     "metadata": {},
     "output_type": "execute_result"
    }
   ],
   "source": [
    "# The distribution of count numbers of streets\n",
    "import collections\n",
    "street_counts = data_chicago['Street'].value_counts().sort_values(ascending=False).values\n",
    "collections.Counter(street_counts)"
   ]
  },
  {
   "cell_type": "code",
   "execution_count": 310,
   "metadata": {},
   "outputs": [
    {
     "data": {
      "text/plain": [
       "<matplotlib.axes._subplots.AxesSubplot at 0x2b5d61c3250>"
      ]
     },
     "execution_count": 310,
     "metadata": {},
     "output_type": "execute_result"
    },
    {
     "data": {
      "image/png": "[encoded data removed]",
      "text/plain": [
       "<Figure size 432x288 with 1 Axes>"
      ]
     },
     "metadata": {
      "needs_background": "light"
     },
     "output_type": "display_data"
    }
   ],
   "source": [
    "# Visulation of distribution of counts numbers of streets\n",
    "sns.histplot(street_counts, kde=True,bins =34)"
   ]
  },
  {
   "cell_type": "code",
   "execution_count": 270,
   "metadata": {},
   "outputs": [
    {
     "data": {
      "text/plain": [
       "<seaborn.axisgrid.FacetGrid at 0x2b5d26e26a0>"
      ]
     },
     "execution_count": 270,
     "metadata": {},
     "output_type": "execute_result"
    },
    {
     "data": {
      "image/png": "[encoded data removed]",
      "text/plain": [
       "<Figure size 360x360 with 1 Axes>"
      ]
     },
     "metadata": {
      "needs_background": "light"
     },
     "output_type": "display_data"
    }
   ],
   "source": [
    "sns.displot(data_chicago['month'],bins =12,kde=True)"
   ]
  },
  {
   "cell_type": "code",
   "execution_count": null,
   "metadata": {},
   "outputs": [],
   "source": [
    "plt.subplot(1,2,1)"
   ]
  },
  {
   "cell_type": "code",
   "execution_count": 328,
   "metadata": {},
   "outputs": [
    {
     "data": {
      "text/plain": [
       "Tuesday      444\n",
       "Thursday     350\n",
       "Wednesday    338\n",
       "Monday       128\n",
       "Friday         5\n",
       "Sunday         1\n",
       "Name: day, dtype: int64"
      ]
     },
     "execution_count": 328,
     "metadata": {},
     "output_type": "execute_result"
    }
   ],
   "source": [
    "data_chicago['day'].value_counts()"
   ]
  },
  {
   "cell_type": "code",
   "execution_count": 324,
   "metadata": {},
   "outputs": [
    {
     "data": {
      "text/plain": [
       "(array([0, 1, 2, 3, 4, 5]), <a list of 6 Text major ticklabel objects>)"
      ]
     },
     "execution_count": 324,
     "metadata": {},
     "output_type": "execute_result"
    },
    {
     "data": {
      "image/png": "[encoded data removed]",
      "text/plain": [
       "<Figure size 432x288 with 1 Axes>"
      ]
     },
     "metadata": {
      "needs_background": "light"
     },
     "output_type": "display_data"
    }
   ],
   "source": [
    "\n",
    "data_chicago['day'].value_counts().plot(kind = 'bar')\n",
    "plt.xticks(rotation=0)"
   ]
  },
  {
   "cell_type": "code",
   "execution_count": null,
   "metadata": {},
   "outputs": [],
   "source": []
  }
 ],
 "metadata": {
  "kernelspec": {
   "display_name": "Python 3",
   "language": "python",
   "name": "python3"
  },
  "language_info": {
   "codemirror_mode": {
    "name": "ipython",
    "version": 3
   },
   "file_extension": ".py",
   "mimetype": "text/x-python",
   "name": "python",
   "nbconvert_exporter": "python",
   "pygments_lexer": "ipython3",
   "version": "3.8.3"
  }
 },
 "nbformat": 4,
 "nbformat_minor": 4
}
