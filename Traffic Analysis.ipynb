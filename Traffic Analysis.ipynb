{
 "cells": [
  {
   "cell_type": "markdown",
   "metadata": {},
   "source": [
    "# Traffic Analysis"
   ]
  },
  {
   "cell_type": "markdown",
   "metadata": {},
   "source": [
    "&nbsp; &nbsp; &nbsp; Average Daily Traffic counts are analogous to a census count of vehicles on city streets. There counts provide a close approximation to the actual number of vehicles passing through a given location on an average weekday. Since it is not possible to count every vehicle on every city street, sample counts are taken along streets to get an estimate of traffic on half-mile or one-mile street segments.<br /> \n",
    "\n",
    "&nbsp; &nbsp; &nbsp; Herein, I will perform data cleaning and feature engineering, analyze the traffic data to answer the required questions and try to explore more."
   ]
  },
  {
   "cell_type": "code",
   "execution_count": 1,
   "metadata": {},
   "outputs": [],
   "source": [
    "# import the necessary libraries\n",
    "import pandas as pd\n",
    "import numpy as np\n",
    "import matplotlib.pyplot as plt\n",
    "import seaborn as sns\n",
    "\n",
    "%matplotlib inline"
   ]
  },
  {
   "cell_type": "markdown",
   "metadata": {},
   "source": [
    "## Table of Contents\n",
    "1. [Load Data](#load)\n",
    "2. [Data Cleaning and Feature Engineering](#cleaning)\n",
    "3. [Q1: What's the busiest street?](#street)\n",
    "4. [Q2: What's the busiest month?](#month)\n",
    "5. [Q3: Is there a busiest direction?](#direction)\n",
    "6. [Q4: What else?](#else)  \n",
    "  [Q4.1: What is the busiest street in the busiest month?](#4.1)  \n",
    "  [Q4.2: What is the busiest street in the busiest direction?](#4.2)  \n",
    "  [Q4.3: What is the busiest street in each direction?](#4.3)  \n",
    "  [Q4.4: East-west direction vs. South-north direction?](#4.5)  \n",
    "7. [Summary of Preprocessing Data](#summary)\n",
    "8. [Results and Insights](#result)"
   ]
  },
  {
   "cell_type": "markdown",
   "metadata": {},
   "source": [
    "<a id='load'></a>\n",
    "### 1. Load Data"
   ]
  },
  {
   "cell_type": "code",
   "execution_count": 2,
   "metadata": {},
   "outputs": [
    {
     "data": {
      "text/html": [
       "<div>\n",
       "<style scoped>\n",
       "    .dataframe tbody tr th:only-of-type {\n",
       "        vertical-align: middle;\n",
       "    }\n",
       "\n",
       "    .dataframe tbody tr th {\n",
       "        vertical-align: top;\n",
       "    }\n",
       "\n",
       "    .dataframe thead th {\n",
       "        text-align: right;\n",
       "    }\n",
       "</style>\n",
       "<table border=\"1\" class=\"dataframe\">\n",
       "  <thead>\n",
       "    <tr style=\"text-align: right;\">\n",
       "      <th></th>\n",
       "      <th>ID</th>\n",
       "      <th>Traffic Volume Count Location  Address</th>\n",
       "      <th>Street</th>\n",
       "      <th>Date of Count</th>\n",
       "      <th>Total Passing Vehicle Volume</th>\n",
       "      <th>Vehicle Volume By Each Direction of Traffic</th>\n",
       "      <th>Latitude</th>\n",
       "      <th>Longitude</th>\n",
       "      <th>Location</th>\n",
       "    </tr>\n",
       "  </thead>\n",
       "  <tbody>\n",
       "    <tr>\n",
       "      <th>0</th>\n",
       "      <td>2</td>\n",
       "      <td>1708 West</td>\n",
       "      <td>71st Street</td>\n",
       "      <td>3/9/2006</td>\n",
       "      <td>14600</td>\n",
       "      <td>East Bound: 6900 / West Bound: 7700</td>\n",
       "      <td>41.764877</td>\n",
       "      <td>-87.666635</td>\n",
       "      <td>(41.764877, -87.666635)</td>\n",
       "    </tr>\n",
       "    <tr>\n",
       "      <th>1</th>\n",
       "      <td>3</td>\n",
       "      <td>1275 West</td>\n",
       "      <td>71st Street</td>\n",
       "      <td>2/28/2006</td>\n",
       "      <td>16500</td>\n",
       "      <td>East Bound: 7800 / West Bound: 8700</td>\n",
       "      <td>41.765008</td>\n",
       "      <td>-87.657067</td>\n",
       "      <td>(41.765008, -87.657067)</td>\n",
       "    </tr>\n",
       "    <tr>\n",
       "      <th>2</th>\n",
       "      <td>5</td>\n",
       "      <td>920 West</td>\n",
       "      <td>71st Street</td>\n",
       "      <td>2/28/2006</td>\n",
       "      <td>18200</td>\n",
       "      <td>East Bound: 8800 / West Bound: 9400</td>\n",
       "      <td>41.765153</td>\n",
       "      <td>-87.647751</td>\n",
       "      <td>(41.765153, -87.647751)</td>\n",
       "    </tr>\n",
       "    <tr>\n",
       "      <th>3</th>\n",
       "      <td>6</td>\n",
       "      <td>758 West</td>\n",
       "      <td>71st Street</td>\n",
       "      <td>2/28/2006</td>\n",
       "      <td>21600</td>\n",
       "      <td>East Bound: 10400 / West Bound: 11200</td>\n",
       "      <td>41.765204</td>\n",
       "      <td>-87.644371</td>\n",
       "      <td>(41.765204, -87.644371)</td>\n",
       "    </tr>\n",
       "    <tr>\n",
       "      <th>4</th>\n",
       "      <td>7</td>\n",
       "      <td>240 East</td>\n",
       "      <td>71st St</td>\n",
       "      <td>2/28/2006</td>\n",
       "      <td>18300</td>\n",
       "      <td>East Bound: 9000 / West Bound: 9300</td>\n",
       "      <td>41.765644</td>\n",
       "      <td>-87.618476</td>\n",
       "      <td>(41.765644, -87.618476)</td>\n",
       "    </tr>\n",
       "  </tbody>\n",
       "</table>\n",
       "</div>"
      ],
      "text/plain": [
       "   ID  Traffic Volume Count Location  Address       Street Date of Count  \\\n",
       "0    2                              1708 West  71st Street      3/9/2006   \n",
       "1    3                              1275 West  71st Street     2/28/2006   \n",
       "2    5                               920 West  71st Street     2/28/2006   \n",
       "3    6                               758 West  71st Street     2/28/2006   \n",
       "4    7                               240 East      71st St     2/28/2006   \n",
       "\n",
       "   Total Passing Vehicle Volume Vehicle Volume By Each Direction of Traffic  \\\n",
       "0                         14600         East Bound: 6900 / West Bound: 7700   \n",
       "1                         16500         East Bound: 7800 / West Bound: 8700   \n",
       "2                         18200         East Bound: 8800 / West Bound: 9400   \n",
       "3                         21600       East Bound: 10400 / West Bound: 11200   \n",
       "4                         18300         East Bound: 9000 / West Bound: 9300   \n",
       "\n",
       "    Latitude  Longitude                 Location  \n",
       "0  41.764877 -87.666635  (41.764877, -87.666635)  \n",
       "1  41.765008 -87.657067  (41.765008, -87.657067)  \n",
       "2  41.765153 -87.647751  (41.765153, -87.647751)  \n",
       "3  41.765204 -87.644371  (41.765204, -87.644371)  \n",
       "4  41.765644 -87.618476  (41.765644, -87.618476)  "
      ]
     },
     "execution_count": 2,
     "metadata": {},
     "output_type": "execute_result"
    }
   ],
   "source": [
    "# load data\n",
    "data = pd.read_csv('C:/Users/xiaoj/Downloads/Average_Daily_Traffic_Counts.csv')\n",
    "data.head()"
   ]
  },
  {
   "cell_type": "code",
   "execution_count": 3,
   "metadata": {},
   "outputs": [
    {
     "name": "stdout",
     "output_type": "stream",
     "text": [
      "<class 'pandas.core.frame.DataFrame'>\n",
      "RangeIndex: 1279 entries, 0 to 1278\n",
      "Data columns (total 9 columns):\n",
      " #   Column                                       Non-Null Count  Dtype  \n",
      "---  ------                                       --------------  -----  \n",
      " 0   ID                                           1279 non-null   int64  \n",
      " 1   Traffic Volume Count Location  Address       1279 non-null   object \n",
      " 2   Street                                       1279 non-null   object \n",
      " 3   Date of Count                                1279 non-null   object \n",
      " 4   Total Passing Vehicle Volume                 1279 non-null   int64  \n",
      " 5   Vehicle Volume By Each Direction of Traffic  1279 non-null   object \n",
      " 6   Latitude                                     1279 non-null   float64\n",
      " 7   Longitude                                    1279 non-null   float64\n",
      " 8   Location                                     1279 non-null   object \n",
      "dtypes: float64(2), int64(2), object(5)\n",
      "memory usage: 90.1+ KB\n"
     ]
    }
   ],
   "source": [
    "# check the null values and total data\n",
    "data.info()"
   ]
  },
  {
   "cell_type": "markdown",
   "metadata": {},
   "source": [
    "It can be seen that the data is not big (only 1279) and also there are non-null values. However, there are several obvious problems:\n",
    "- The features' names are too long to take easily;\n",
    "- The type of \"Date of Count\" is object instead of date;\n",
    "- Vehicle volumes in the opposite directions are recorded in the same column;\n",
    "- Some of the streets' names are inconsistent, such as Street vs. St;\n",
    "\n",
    "I will firstly deal with these problems and explore more."
   ]
  },
  {
   "cell_type": "markdown",
   "metadata": {},
   "source": [
    "<a id='cleaning'></a>\n",
    "## 2. Data Cleaning and Feature Engineering"
   ]
  },
  {
   "cell_type": "code",
   "execution_count": 4,
   "metadata": {},
   "outputs": [
    {
     "data": {
      "text/plain": [
       "Index(['ID ', 'Traffic Volume Count Location  Address', 'Street',\n",
       "       'Date of Count', 'Total Passing Vehicle Volume',\n",
       "       'Vehicle Volume By Each Direction of Traffic', 'Latitude', 'Longitude',\n",
       "       'Location'],\n",
       "      dtype='object')"
      ]
     },
     "execution_count": 4,
     "metadata": {},
     "output_type": "execute_result"
    }
   ],
   "source": [
    "# check all the columns\n",
    "data.columns"
   ]
  },
  {
   "cell_type": "code",
   "execution_count": 5,
   "metadata": {},
   "outputs": [
    {
     "data": {
      "text/html": [
       "<div>\n",
       "<style scoped>\n",
       "    .dataframe tbody tr th:only-of-type {\n",
       "        vertical-align: middle;\n",
       "    }\n",
       "\n",
       "    .dataframe tbody tr th {\n",
       "        vertical-align: top;\n",
       "    }\n",
       "\n",
       "    .dataframe thead th {\n",
       "        text-align: right;\n",
       "    }\n",
       "</style>\n",
       "<table border=\"1\" class=\"dataframe\">\n",
       "  <thead>\n",
       "    <tr style=\"text-align: right;\">\n",
       "      <th></th>\n",
       "      <th>ID</th>\n",
       "      <th>Address</th>\n",
       "      <th>Street</th>\n",
       "      <th>Date</th>\n",
       "      <th>Total</th>\n",
       "      <th>Direction</th>\n",
       "      <th>Latitude</th>\n",
       "      <th>Longitude</th>\n",
       "      <th>Location</th>\n",
       "    </tr>\n",
       "  </thead>\n",
       "  <tbody>\n",
       "    <tr>\n",
       "      <th>0</th>\n",
       "      <td>2</td>\n",
       "      <td>1708 West</td>\n",
       "      <td>71st Street</td>\n",
       "      <td>3/9/2006</td>\n",
       "      <td>14600</td>\n",
       "      <td>East Bound: 6900 / West Bound: 7700</td>\n",
       "      <td>41.764877</td>\n",
       "      <td>-87.666635</td>\n",
       "      <td>(41.764877, -87.666635)</td>\n",
       "    </tr>\n",
       "    <tr>\n",
       "      <th>1</th>\n",
       "      <td>3</td>\n",
       "      <td>1275 West</td>\n",
       "      <td>71st Street</td>\n",
       "      <td>2/28/2006</td>\n",
       "      <td>16500</td>\n",
       "      <td>East Bound: 7800 / West Bound: 8700</td>\n",
       "      <td>41.765008</td>\n",
       "      <td>-87.657067</td>\n",
       "      <td>(41.765008, -87.657067)</td>\n",
       "    </tr>\n",
       "    <tr>\n",
       "      <th>2</th>\n",
       "      <td>5</td>\n",
       "      <td>920 West</td>\n",
       "      <td>71st Street</td>\n",
       "      <td>2/28/2006</td>\n",
       "      <td>18200</td>\n",
       "      <td>East Bound: 8800 / West Bound: 9400</td>\n",
       "      <td>41.765153</td>\n",
       "      <td>-87.647751</td>\n",
       "      <td>(41.765153, -87.647751)</td>\n",
       "    </tr>\n",
       "    <tr>\n",
       "      <th>3</th>\n",
       "      <td>6</td>\n",
       "      <td>758 West</td>\n",
       "      <td>71st Street</td>\n",
       "      <td>2/28/2006</td>\n",
       "      <td>21600</td>\n",
       "      <td>East Bound: 10400 / West Bound: 11200</td>\n",
       "      <td>41.765204</td>\n",
       "      <td>-87.644371</td>\n",
       "      <td>(41.765204, -87.644371)</td>\n",
       "    </tr>\n",
       "    <tr>\n",
       "      <th>4</th>\n",
       "      <td>7</td>\n",
       "      <td>240 East</td>\n",
       "      <td>71st St</td>\n",
       "      <td>2/28/2006</td>\n",
       "      <td>18300</td>\n",
       "      <td>East Bound: 9000 / West Bound: 9300</td>\n",
       "      <td>41.765644</td>\n",
       "      <td>-87.618476</td>\n",
       "      <td>(41.765644, -87.618476)</td>\n",
       "    </tr>\n",
       "  </tbody>\n",
       "</table>\n",
       "</div>"
      ],
      "text/plain": [
       "   ID    Address       Street       Date  Total  \\\n",
       "0   2  1708 West  71st Street   3/9/2006  14600   \n",
       "1   3  1275 West  71st Street  2/28/2006  16500   \n",
       "2   5   920 West  71st Street  2/28/2006  18200   \n",
       "3   6   758 West  71st Street  2/28/2006  21600   \n",
       "4   7   240 East      71st St  2/28/2006  18300   \n",
       "\n",
       "                               Direction   Latitude  Longitude  \\\n",
       "0    East Bound: 6900 / West Bound: 7700  41.764877 -87.666635   \n",
       "1    East Bound: 7800 / West Bound: 8700  41.765008 -87.657067   \n",
       "2    East Bound: 8800 / West Bound: 9400  41.765153 -87.647751   \n",
       "3  East Bound: 10400 / West Bound: 11200  41.765204 -87.644371   \n",
       "4    East Bound: 9000 / West Bound: 9300  41.765644 -87.618476   \n",
       "\n",
       "                  Location  \n",
       "0  (41.764877, -87.666635)  \n",
       "1  (41.765008, -87.657067)  \n",
       "2  (41.765153, -87.647751)  \n",
       "3  (41.765204, -87.644371)  \n",
       "4  (41.765644, -87.618476)  "
      ]
     },
     "execution_count": 5,
     "metadata": {},
     "output_type": "execute_result"
    }
   ],
   "source": [
    "# rename the column names\n",
    "data = data.rename(columns = {\"ID \":\"ID\", 'Traffic Volume Count Location  Address':\"Address\", 'Date of Count':'Date', 'Total Passing Vehicle Volume':'Total', 'Vehicle Volume By Each Direction of Traffic':'Direction'})\n",
    "\n",
    "# check the result after renmaing\n",
    "data.head()"
   ]
  },
  {
   "cell_type": "markdown",
   "metadata": {},
   "source": [
    "Checking the unique values can not only give us information about how many unique values of the feature has but also tell us which features can be used to count. From the following result, it can be found that the ID is unique feature for every data, which means it can be used to count when needed. "
   ]
  },
  {
   "cell_type": "code",
   "execution_count": 6,
   "metadata": {},
   "outputs": [
    {
     "name": "stdout",
     "output_type": "stream",
     "text": [
      "The nunique numbers of ID is: 1279\n",
      "The nunique numbers of Address is: 1203\n",
      "The nunique numbers of Street is: 251\n",
      "The nunique numbers of Date is: 95\n",
      "The nunique numbers of Total is: 398\n",
      "The nunique numbers of Direction is: 1223\n",
      "The nunique numbers of Latitude is: 1272\n",
      "The nunique numbers of Longitude is: 1275\n",
      "The nunique numbers of Location is: 1276\n"
     ]
    }
   ],
   "source": [
    "# check the unique values of every feature\n",
    "for i in data.columns:\n",
    "    print(\"The nunique numbers of \"+ i+ \" is: \" + str(data[i].nunique()))"
   ]
  },
  {
   "cell_type": "code",
   "execution_count": 7,
   "metadata": {},
   "outputs": [],
   "source": [
    "# use the latitute and longitude to get the city information\n",
    "import geocoder\n",
    "def geo_rev(x):\n",
    "    g=geocoder.osm([x['Latitude'], x['Longitude']],method = 'reverse').json\n",
    "    if g:\n",
    "        return g.get('city')\n",
    "        \n",
    "    else:\n",
    "        return 'none'\n",
    "data['city']=data[['Latitude','Longitude']].apply(geo_rev, axis=1)"
   ]
  },
  {
   "cell_type": "code",
   "execution_count": 8,
   "metadata": {},
   "outputs": [
    {
     "data": {
      "text/plain": [
       "Chicago    1266\n",
       "Name: city, dtype: int64"
      ]
     },
     "execution_count": 8,
     "metadata": {},
     "output_type": "execute_result"
    }
   ],
   "source": [
    "# Check how many cities included\n",
    "data['city'].value_counts()"
   ]
  },
  {
   "cell_type": "code",
   "execution_count": 9,
   "metadata": {},
   "outputs": [
    {
     "name": "stdout",
     "output_type": "stream",
     "text": [
      "(41.692257, -87.720366): Breakfast Club, South Pulaski Road, Mount Greenwood, Oak Lawn, Lake Township, Cook County, Illinois, 60453, United States\n",
      "(41.68508, -87.700584): Cash America Pawn, 11445, South Kedzie Avenue, Mount Greenwood, Merrionette Park, Worth Township, Cook County, Illinois, 60803, United States\n",
      "(41.896495, -87.775191): Austin & Iowa SB, North Austin Boulevard, Ridgeland, Oak Park, Cook County, Illinois, 60302, United States\n",
      "(41.908868, -87.804756): North & Harlem Plaza, West North Avenue, Oak Park, Cook County, Illinois, 60302, United States\n",
      "(41.677257, -87.680696): 119th Street & Western, West 119th Street, Morgan Park, Blue Island, Calumet Township, Cook County, Illinois, 60406, United States\n",
      "(41.735341, -87.693452): 2847, West 87th Street, Evergreen Park, Worth Township, Cook County, Illinois, 60805, United States\n",
      "(41.987853, -87.846528): North East River Road, O'Hare, Park Ridge, Leyden Township, Cook County, Illinois, 60656, United States\n",
      "(41.957636, -87.799463): Forest Preserve Ave & New England WB, West Forest Preserve Drive, Harwood Heights, Norwood Park Township, Cook County, Illinois, 60634, United States\n",
      "(41.91366, -87.805925): 1850, North Harlem Avenue, Beat 2512, Austin, Elmwood Park, Jefferson Township, Cook County, Illinois, 60707, United States\n",
      "(41.7348, -87.724651): 87th Street & Karlov EB, West 87th Street, Ashburn, Hometown, Worth Township, Cook County, Illinois, 60456, United States\n",
      "(41.783408, -87.80116): Advance Auto Parts, 5944, South Harlem Avenue, Clearing, Summit, Lyons Township, Cook County, Illinois, 60501, United States\n",
      "(41.691254, -87.724362): 4401, West 111th Street, Oak Lawn, Worth Township, Cook County, Illinois, 60803, United States\n",
      "(41.707206, -87.720975): 10216, South Pulaski Road, Oak Lawn, Worth Township, Cook County, Illinois, 60453, United States\n"
     ]
    }
   ],
   "source": [
    "# check the address of those with no city\n",
    "data_no_city = data[data['city']!='Chicago']\n",
    "for i in data_no_city['Location']:\n",
    "    lat = i[1:-1].split(\",\")[0]\n",
    "    long = i[1:-1].split(\",\")[1]\n",
    "    print(i + \": \" + geocoder.osm([lat,long], method = 'reverse').json.get('address'))"
   ]
  },
  {
   "cell_type": "markdown",
   "metadata": {},
   "source": [
    "It can be found from above information that those without city information are either township or park. Since there are only 13 data without city information, and the majority (98.98% = 1266 / 1279) of data belongs to Chicago city. I would like to focus this analysis on the city of Chicago."
   ]
  },
  {
   "cell_type": "code",
   "execution_count": 10,
   "metadata": {},
   "outputs": [
    {
     "data": {
      "text/html": [
       "<div>\n",
       "<style scoped>\n",
       "    .dataframe tbody tr th:only-of-type {\n",
       "        vertical-align: middle;\n",
       "    }\n",
       "\n",
       "    .dataframe tbody tr th {\n",
       "        vertical-align: top;\n",
       "    }\n",
       "\n",
       "    .dataframe thead th {\n",
       "        text-align: right;\n",
       "    }\n",
       "</style>\n",
       "<table border=\"1\" class=\"dataframe\">\n",
       "  <thead>\n",
       "    <tr style=\"text-align: right;\">\n",
       "      <th></th>\n",
       "      <th>ID</th>\n",
       "      <th>Address</th>\n",
       "      <th>Street</th>\n",
       "      <th>Date</th>\n",
       "      <th>Total</th>\n",
       "      <th>Direction</th>\n",
       "      <th>Latitude</th>\n",
       "      <th>Longitude</th>\n",
       "    </tr>\n",
       "  </thead>\n",
       "  <tbody>\n",
       "    <tr>\n",
       "      <th>0</th>\n",
       "      <td>2</td>\n",
       "      <td>1708 West</td>\n",
       "      <td>71st Street</td>\n",
       "      <td>3/9/2006</td>\n",
       "      <td>14600</td>\n",
       "      <td>East Bound: 6900 / West Bound: 7700</td>\n",
       "      <td>41.764877</td>\n",
       "      <td>-87.666635</td>\n",
       "    </tr>\n",
       "    <tr>\n",
       "      <th>1</th>\n",
       "      <td>3</td>\n",
       "      <td>1275 West</td>\n",
       "      <td>71st Street</td>\n",
       "      <td>2/28/2006</td>\n",
       "      <td>16500</td>\n",
       "      <td>East Bound: 7800 / West Bound: 8700</td>\n",
       "      <td>41.765008</td>\n",
       "      <td>-87.657067</td>\n",
       "    </tr>\n",
       "    <tr>\n",
       "      <th>2</th>\n",
       "      <td>5</td>\n",
       "      <td>920 West</td>\n",
       "      <td>71st Street</td>\n",
       "      <td>2/28/2006</td>\n",
       "      <td>18200</td>\n",
       "      <td>East Bound: 8800 / West Bound: 9400</td>\n",
       "      <td>41.765153</td>\n",
       "      <td>-87.647751</td>\n",
       "    </tr>\n",
       "  </tbody>\n",
       "</table>\n",
       "</div>"
      ],
      "text/plain": [
       "   ID    Address       Street       Date  Total  \\\n",
       "0   2  1708 West  71st Street   3/9/2006  14600   \n",
       "1   3  1275 West  71st Street  2/28/2006  16500   \n",
       "2   5   920 West  71st Street  2/28/2006  18200   \n",
       "\n",
       "                             Direction   Latitude  Longitude  \n",
       "0  East Bound: 6900 / West Bound: 7700  41.764877 -87.666635  \n",
       "1  East Bound: 7800 / West Bound: 8700  41.765008 -87.657067  \n",
       "2  East Bound: 8800 / West Bound: 9400  41.765153 -87.647751  "
      ]
     },
     "execution_count": 10,
     "metadata": {},
     "output_type": "execute_result"
    }
   ],
   "source": [
    "data_chicago = data[data['city']=='Chicago'].reset_index(drop = True)\n",
    "\n",
    "# drop some irrelevant columns\n",
    "data_chicago = data_chicago.drop(['Location','city'],1)\n",
    "data_chicago.head(3)"
   ]
  },
  {
   "cell_type": "code",
   "execution_count": 11,
   "metadata": {},
   "outputs": [
    {
     "data": {
      "text/html": [
       "<div>\n",
       "<style scoped>\n",
       "    .dataframe tbody tr th:only-of-type {\n",
       "        vertical-align: middle;\n",
       "    }\n",
       "\n",
       "    .dataframe tbody tr th {\n",
       "        vertical-align: top;\n",
       "    }\n",
       "\n",
       "    .dataframe thead th {\n",
       "        text-align: right;\n",
       "    }\n",
       "</style>\n",
       "<table border=\"1\" class=\"dataframe\">\n",
       "  <thead>\n",
       "    <tr style=\"text-align: right;\">\n",
       "      <th></th>\n",
       "      <th>ID</th>\n",
       "      <th>Address</th>\n",
       "      <th>Street</th>\n",
       "      <th>Total</th>\n",
       "      <th>Direction</th>\n",
       "      <th>Latitude</th>\n",
       "      <th>Longitude</th>\n",
       "      <th>year</th>\n",
       "      <th>month</th>\n",
       "      <th>day</th>\n",
       "    </tr>\n",
       "  </thead>\n",
       "  <tbody>\n",
       "    <tr>\n",
       "      <th>0</th>\n",
       "      <td>2</td>\n",
       "      <td>1708 West</td>\n",
       "      <td>71st Street</td>\n",
       "      <td>14600</td>\n",
       "      <td>East Bound: 6900 / West Bound: 7700</td>\n",
       "      <td>41.764877</td>\n",
       "      <td>-87.666635</td>\n",
       "      <td>2006</td>\n",
       "      <td>3</td>\n",
       "      <td>Thursday</td>\n",
       "    </tr>\n",
       "    <tr>\n",
       "      <th>1</th>\n",
       "      <td>3</td>\n",
       "      <td>1275 West</td>\n",
       "      <td>71st Street</td>\n",
       "      <td>16500</td>\n",
       "      <td>East Bound: 7800 / West Bound: 8700</td>\n",
       "      <td>41.765008</td>\n",
       "      <td>-87.657067</td>\n",
       "      <td>2006</td>\n",
       "      <td>2</td>\n",
       "      <td>Tuesday</td>\n",
       "    </tr>\n",
       "    <tr>\n",
       "      <th>2</th>\n",
       "      <td>5</td>\n",
       "      <td>920 West</td>\n",
       "      <td>71st Street</td>\n",
       "      <td>18200</td>\n",
       "      <td>East Bound: 8800 / West Bound: 9400</td>\n",
       "      <td>41.765153</td>\n",
       "      <td>-87.647751</td>\n",
       "      <td>2006</td>\n",
       "      <td>2</td>\n",
       "      <td>Tuesday</td>\n",
       "    </tr>\n",
       "  </tbody>\n",
       "</table>\n",
       "</div>"
      ],
      "text/plain": [
       "   ID    Address       Street  Total                            Direction  \\\n",
       "0   2  1708 West  71st Street  14600  East Bound: 6900 / West Bound: 7700   \n",
       "1   3  1275 West  71st Street  16500  East Bound: 7800 / West Bound: 8700   \n",
       "2   5   920 West  71st Street  18200  East Bound: 8800 / West Bound: 9400   \n",
       "\n",
       "    Latitude  Longitude  year  month       day  \n",
       "0  41.764877 -87.666635  2006      3  Thursday  \n",
       "1  41.765008 -87.657067  2006      2   Tuesday  \n",
       "2  41.765153 -87.647751  2006      2   Tuesday  "
      ]
     },
     "execution_count": 11,
     "metadata": {},
     "output_type": "execute_result"
    }
   ],
   "source": [
    "# change the date type from object to datetime\n",
    "data_chicago['Date'] = pd.to_datetime(data_chicago['Date'])\n",
    "\n",
    "# build new feature of year, month and day \n",
    "data_chicago['year'] = data_chicago['Date'].dt.year\n",
    "data_chicago['month'] = data_chicago['Date'].dt.month\n",
    "data_chicago['day'] = data_chicago['Date'].dt.day_name()\n",
    "data_chicago = data_chicago.drop('Date', 1)\n",
    "\n",
    "# check and review the data \n",
    "data_chicago.head(3)"
   ]
  },
  {
   "cell_type": "code",
   "execution_count": 12,
   "metadata": {},
   "outputs": [
    {
     "data": {
      "text/plain": [
       "2006    1257\n",
       "2007       9\n",
       "Name: year, dtype: int64"
      ]
     },
     "execution_count": 12,
     "metadata": {},
     "output_type": "execute_result"
    }
   ],
   "source": [
    "# Check how many years included in the dataset\n",
    "data_chicago['year'].value_counts()"
   ]
  },
  {
   "cell_type": "code",
   "execution_count": 13,
   "metadata": {},
   "outputs": [
    {
     "data": {
      "text/plain": [
       "Street\n",
       "51st St             1\n",
       "Canal St            1\n",
       "Clinton St          1\n",
       "Congress Pkwy       1\n",
       "Dearborn St         1\n",
       "Hollywood Ave       1\n",
       "Milwaukee Ave       1\n",
       "State St            1\n",
       "Stony Island Ave    1\n",
       "Name: ID, dtype: int64"
      ]
     },
     "execution_count": 13,
     "metadata": {},
     "output_type": "execute_result"
    }
   ],
   "source": [
    "# Check how many street are counted and how many times counted\n",
    "data_chicago[data_chicago['year']==2007].groupby('Street')['ID'].count()"
   ]
  },
  {
   "cell_type": "markdown",
   "metadata": {},
   "source": [
    "From the above two information, it is easily to find that most of data were recorded in 2006, only 0.71 (9/1263) were recorded in 2007. And there are only 9 streets recorded, and each of them were recorded once. So, I would like to make the 2nd assumption. This project will only focus on **the city of Chicago in 2006**."
   ]
  },
  {
   "cell_type": "code",
   "execution_count": 14,
   "metadata": {},
   "outputs": [
    {
     "data": {
      "text/plain": [
       "(1257, 9)"
      ]
     },
     "execution_count": 14,
     "metadata": {},
     "output_type": "execute_result"
    }
   ],
   "source": [
    "data_chicago_06 = data_chicago[data_chicago['year']== 2006]\n",
    "data_chicago_06 = data_chicago_06.drop('year',1).reset_index(drop = True)\n",
    "data_chicago_06.shape"
   ]
  },
  {
   "cell_type": "code",
   "execution_count": 15,
   "metadata": {},
   "outputs": [
    {
     "data": {
      "text/plain": [
       "Tuesday      438\n",
       "Thursday     350\n",
       "Wednesday    335\n",
       "Monday       128\n",
       "Friday         5\n",
       "Sunday         1\n",
       "Name: day, dtype: int64"
      ]
     },
     "execution_count": 15,
     "metadata": {},
     "output_type": "execute_result"
    }
   ],
   "source": [
    "# check the day of week distribution\n",
    "data_chicago_06['day'].value_counts()"
   ]
  },
  {
   "cell_type": "code",
   "execution_count": 16,
   "metadata": {},
   "outputs": [
    {
     "data": {
      "text/plain": [
       "([0, 1, 2, 3, 4, 5], <a list of 6 Text major ticklabel objects>)"
      ]
     },
     "execution_count": 16,
     "metadata": {},
     "output_type": "execute_result"
    },
    {
     "data": {
      "image/png": "[encoded data removed]",
      "text/plain": [
       "<Figure size 360x360 with 1 Axes>"
      ]
     },
     "metadata": {
      "needs_background": "light"
     },
     "output_type": "display_data"
    }
   ],
   "source": [
    "# visualization of day distribution\n",
    "sns.displot(data_chicago_06['day'])\n",
    "plt.xticks(rotation=20)"
   ]
  },
  {
   "cell_type": "markdown",
   "metadata": {},
   "source": [
    "It can be found that most of the data were collected from Tues to Thurs, some were also collected on Monday. There are no data on Saturday and very few data on Friday and Sunday. I would like to focus on from Monday to Thursday in this project. Since they are working day. Since workday and weekend are really different for some streets, therefore if we want to invovle friday to sunday analysis, more data should be collected. "
   ]
  },
  {
   "cell_type": "code",
   "execution_count": 17,
   "metadata": {},
   "outputs": [
    {
     "data": {
      "text/plain": [
       "(1251, 9)"
      ]
     },
     "execution_count": 17,
     "metadata": {},
     "output_type": "execute_result"
    }
   ],
   "source": [
    "data_chicago_06_day =data_chicago_06[data_chicago_06['day'].isin(['Monday','Tuesday','Wednesday','Thursday'])].reset_index(drop=True)\n",
    "data_chicago_06_day.shape"
   ]
  },
  {
   "cell_type": "code",
   "execution_count": 18,
   "metadata": {},
   "outputs": [
    {
     "data": {
      "text/html": [
       "<div>\n",
       "<style scoped>\n",
       "    .dataframe tbody tr th:only-of-type {\n",
       "        vertical-align: middle;\n",
       "    }\n",
       "\n",
       "    .dataframe tbody tr th {\n",
       "        vertical-align: top;\n",
       "    }\n",
       "\n",
       "    .dataframe thead th {\n",
       "        text-align: right;\n",
       "    }\n",
       "</style>\n",
       "<table border=\"1\" class=\"dataframe\">\n",
       "  <thead>\n",
       "    <tr style=\"text-align: right;\">\n",
       "      <th></th>\n",
       "      <th>ID</th>\n",
       "      <th>Address</th>\n",
       "      <th>Street</th>\n",
       "      <th>Total</th>\n",
       "      <th>Latitude</th>\n",
       "      <th>Longitude</th>\n",
       "      <th>month</th>\n",
       "      <th>day</th>\n",
       "      <th>0_direction</th>\n",
       "      <th>0_volume</th>\n",
       "      <th>1_direction</th>\n",
       "      <th>1_volume</th>\n",
       "    </tr>\n",
       "  </thead>\n",
       "  <tbody>\n",
       "    <tr>\n",
       "      <th>0</th>\n",
       "      <td>2</td>\n",
       "      <td>1708 West</td>\n",
       "      <td>71st Street</td>\n",
       "      <td>14600</td>\n",
       "      <td>41.764877</td>\n",
       "      <td>-87.666635</td>\n",
       "      <td>3</td>\n",
       "      <td>Thursday</td>\n",
       "      <td>East</td>\n",
       "      <td>6900</td>\n",
       "      <td>West</td>\n",
       "      <td>7700</td>\n",
       "    </tr>\n",
       "    <tr>\n",
       "      <th>1</th>\n",
       "      <td>3</td>\n",
       "      <td>1275 West</td>\n",
       "      <td>71st Street</td>\n",
       "      <td>16500</td>\n",
       "      <td>41.765008</td>\n",
       "      <td>-87.657067</td>\n",
       "      <td>2</td>\n",
       "      <td>Tuesday</td>\n",
       "      <td>East</td>\n",
       "      <td>7800</td>\n",
       "      <td>West</td>\n",
       "      <td>8700</td>\n",
       "    </tr>\n",
       "    <tr>\n",
       "      <th>2</th>\n",
       "      <td>5</td>\n",
       "      <td>920 West</td>\n",
       "      <td>71st Street</td>\n",
       "      <td>18200</td>\n",
       "      <td>41.765153</td>\n",
       "      <td>-87.647751</td>\n",
       "      <td>2</td>\n",
       "      <td>Tuesday</td>\n",
       "      <td>East</td>\n",
       "      <td>8800</td>\n",
       "      <td>West</td>\n",
       "      <td>9400</td>\n",
       "    </tr>\n",
       "  </tbody>\n",
       "</table>\n",
       "</div>"
      ],
      "text/plain": [
       "   ID    Address       Street  Total   Latitude  Longitude  month       day  \\\n",
       "0   2  1708 West  71st Street  14600  41.764877 -87.666635      3  Thursday   \n",
       "1   3  1275 West  71st Street  16500  41.765008 -87.657067      2   Tuesday   \n",
       "2   5   920 West  71st Street  18200  41.765153 -87.647751      2   Tuesday   \n",
       "\n",
       "  0_direction  0_volume 1_direction  1_volume  \n",
       "0        East      6900        West      7700  \n",
       "1        East      7800        West      8700  \n",
       "2        East      8800        West      9400  "
      ]
     },
     "execution_count": 18,
     "metadata": {},
     "output_type": "execute_result"
    }
   ],
   "source": [
    "# Split the 'Direction' features into four new features: two direction + corresponding volumes\n",
    "pd.options.mode.chained_assignment = None \n",
    "data_chicago_06_day['0_direction'] = data_chicago_06_day['Direction'].str.split('/').str[0].str.split(':').str[0].str[:-6].str.strip()\n",
    "data_chicago_06_day['0_volume'] = data_chicago_06_day['Direction'].str.split('/').str[0].str.split(':').str[1].astype(np.int64)\n",
    "data_chicago_06_day['1_direction'] = data_chicago_06_day['Direction'].str.split('/').str[1].str.split(':').str[0].str[:-6].str.strip()\n",
    "data_chicago_06_day['1_volume'] = data_chicago_06_day['Direction'].str.split('/ ').str[1].str.split(':').str[1].replace(np.nan, 0).astype(np.int64)\n",
    "data_chicago_06_day = data_chicago_06_day.drop('Direction', 1)\n",
    "data_chicago_06_day.head(3)"
   ]
  },
  {
   "cell_type": "code",
   "execution_count": 19,
   "metadata": {},
   "outputs": [
    {
     "data": {
      "text/plain": [
       "North    632\n",
       "East     551\n",
       "South     38\n",
       "West      30\n",
       "Name: 0_direction, dtype: int64"
      ]
     },
     "execution_count": 19,
     "metadata": {},
     "output_type": "execute_result"
    }
   ],
   "source": [
    "# check what kinds of values included in '0_direction'\n",
    "data_chicago_06_day['0_direction'].value_counts()"
   ]
  },
  {
   "cell_type": "code",
   "execution_count": 20,
   "metadata": {},
   "outputs": [
    {
     "data": {
      "text/plain": [
       "South           607\n",
       "West            523\n",
       "                 52\n",
       "Oneway South     38\n",
       "Oneway West      30\n",
       "Oneway North      1\n",
       "Name: 1_direction, dtype: int64"
      ]
     },
     "execution_count": 20,
     "metadata": {},
     "output_type": "execute_result"
    }
   ],
   "source": [
    "# check what kinds of values included in '1_direction'\n",
    "data_chicago_06_day['1_direction'].value_counts()"
   ]
  },
  {
   "cell_type": "markdown",
   "metadata": {},
   "source": [
    "It is know that there should be at most four directions. However, there are more special situations in feature['1_direction']. I will unify these values. For example, since the \"0_direction\" and \"1_direction\" are splitted from the previous feature \"direction\", they should always be the opposite. When the total volumes is same with the volumes in [\"0_direction\"], it means that volumes of the opposite direction is 0 and vice verse."
   ]
  },
  {
   "cell_type": "code",
   "execution_count": 21,
   "metadata": {},
   "outputs": [
    {
     "data": {
      "text/plain": [
       "South    632\n",
       "West     551\n",
       "North     38\n",
       "East      30\n",
       "Name: 1_direction, dtype: int64"
      ]
     },
     "execution_count": 21,
     "metadata": {},
     "output_type": "execute_result"
    }
   ],
   "source": [
    "# unify the direction in \"1_direction\"\n",
    "dic={'South':\"North\",\"North\":\"South\",\"East\":\"West\",\"West\":\"East\"}\n",
    "\n",
    "for i in range(1251):   \n",
    "    if data_chicago_06_day.loc[i,'Total']==data_chicago_06_day.loc[i,\"0_volume\"]:\n",
    "        data_chicago_06_day.loc[i,'1_volume'] = 0\n",
    "    data_chicago_06_day.loc[i,'1_direction'] = dic[data_chicago_06_day.loc[i,\"0_direction\"]]\n",
    "data_chicago_06_day['1_direction'].value_counts()"
   ]
  },
  {
   "cell_type": "code",
   "execution_count": 22,
   "metadata": {},
   "outputs": [
    {
     "data": {
      "text/plain": [
       "Ave           590\n",
       "St            400\n",
       "Rd             85\n",
       "Street         50\n",
       "Dr             50\n",
       "Blvd           43\n",
       "Broadway        7\n",
       "ST              3\n",
       "Pkwy            3\n",
       "Hwy             2\n",
       "L               2\n",
       "Ct              2\n",
       "Plaisance       2\n",
       "O               2\n",
       "pass)           1\n",
       "Plaissance      1\n",
       "(lower)         1\n",
       "Pl              1\n",
       "PL              1\n",
       "rd)             1\n",
       "CT              1\n",
       "RD              1\n",
       "83rdStreet      1\n",
       "II              1\n",
       "Name: Street, dtype: int64"
      ]
     },
     "execution_count": 22,
     "metadata": {},
     "output_type": "execute_result"
    }
   ],
   "source": [
    "# Check the abbreviation of the name of \"Street\" \n",
    "data_chicago_06_day['Street'].str.split(' ').str[-1].value_counts()"
   ]
  },
  {
   "cell_type": "markdown",
   "metadata": {},
   "source": [
    "Based on above information, it is easily to found that there are some duplicate abbreviations and some name are not abbreviated as expected. All can be summarized as following:\n",
    "- Street: St;\n",
    "- ST: St;\n",
    "- RD: Rd;\n",
    "- CT: Ct;\n",
    "- PL: Pl;\n",
    "- Plaissance: Plaisance;\n",
    "- Western Ave (over pass): Western Ave;\n",
    "- Wacker Dr (lower):Wacker Dr;\n",
    "- Western Ave (frontage rd):vWestern Ave\n",
    "- 83rdStreet: 83rd St"
   ]
  },
  {
   "cell_type": "code",
   "execution_count": 24,
   "metadata": {},
   "outputs": [
    {
     "data": {
      "text/plain": [
       "Ave          592\n",
       "St           454\n",
       "Rd            86\n",
       "Dr            51\n",
       "Blvd          43\n",
       "Broadway       7\n",
       "Plaisance      3\n",
       "Pkwy           3\n",
       "Ct             3\n",
       "Pl             2\n",
       "Hwy            2\n",
       "O              2\n",
       "L              2\n",
       "II             1\n",
       "Name: Street, dtype: int64"
      ]
     },
     "execution_count": 24,
     "metadata": {},
     "output_type": "execute_result"
    }
   ],
   "source": [
    "# modify the abbreviations of streets\n",
    "data_chicago_06_day['Street']=data_chicago_06_day['Street'].replace({\"Western Ave (over pass)\":\"Western Ave\",\"Wacker Dr (lower)\":\"Wacker Dr\", \"Western Ave (frontage rd)\":\"Western Ave\", \"Plaissance\":\"Plaisance\"},regex=False)\n",
    "data_chicago_06_day['Street']=data_chicago_06_day['Street'].replace({'Street':'St', \"ST\":\"St\",\"RD\":\"Rd\",\"CT\":\"Ct\",\"PL\":\"Pl\"},regex = True)\n",
    "data_chicago_06_day['Street']=data_chicago_06_day['Street'].apply(lambda s: s.replace(\"83rdSt\",\"83rd  St\"))\n",
    "data_chicago_06_day['Street']=data_chicago_06_day['Street'].apply(lambda s: s.replace(\"Plaissance\",\"Plaisance\"))\n",
    "\n",
    "data_chicago_06_day['Street'].str.split(' ').str[-1].value_counts()"
   ]
  },
  {
   "cell_type": "code",
   "execution_count": 26,
   "metadata": {},
   "outputs": [
    {
     "data": {
      "text/html": [
       "<div>\n",
       "<style scoped>\n",
       "    .dataframe tbody tr th:only-of-type {\n",
       "        vertical-align: middle;\n",
       "    }\n",
       "\n",
       "    .dataframe tbody tr th {\n",
       "        vertical-align: top;\n",
       "    }\n",
       "\n",
       "    .dataframe thead th {\n",
       "        text-align: right;\n",
       "    }\n",
       "</style>\n",
       "<table border=\"1\" class=\"dataframe\">\n",
       "  <thead>\n",
       "    <tr style=\"text-align: right;\">\n",
       "      <th></th>\n",
       "      <th>ID</th>\n",
       "      <th>Address</th>\n",
       "      <th>Street</th>\n",
       "      <th>Total</th>\n",
       "      <th>Latitude</th>\n",
       "      <th>Longitude</th>\n",
       "      <th>month</th>\n",
       "      <th>day</th>\n",
       "      <th>0_direction</th>\n",
       "      <th>0_volume</th>\n",
       "      <th>1_direction</th>\n",
       "      <th>1_volume</th>\n",
       "    </tr>\n",
       "  </thead>\n",
       "  <tbody>\n",
       "    <tr>\n",
       "      <th>132</th>\n",
       "      <td>156</td>\n",
       "      <td>9621 South</td>\n",
       "      <td>Avenue L</td>\n",
       "      <td>5000</td>\n",
       "      <td>41.720702</td>\n",
       "      <td>-87.536499</td>\n",
       "      <td>3</td>\n",
       "      <td>Tuesday</td>\n",
       "      <td>North</td>\n",
       "      <td>3200</td>\n",
       "      <td>South</td>\n",
       "      <td>1800</td>\n",
       "    </tr>\n",
       "    <tr>\n",
       "      <th>133</th>\n",
       "      <td>157</td>\n",
       "      <td>10129 South</td>\n",
       "      <td>Avenue L</td>\n",
       "      <td>4200</td>\n",
       "      <td>41.711118</td>\n",
       "      <td>-87.536485</td>\n",
       "      <td>3</td>\n",
       "      <td>Tuesday</td>\n",
       "      <td>North</td>\n",
       "      <td>2100</td>\n",
       "      <td>South</td>\n",
       "      <td>2100</td>\n",
       "    </tr>\n",
       "  </tbody>\n",
       "</table>\n",
       "</div>"
      ],
      "text/plain": [
       "      ID      Address    Street  Total   Latitude  Longitude  month      day  \\\n",
       "132  156   9621 South  Avenue L   5000  41.720702 -87.536499      3  Tuesday   \n",
       "133  157  10129 South  Avenue L   4200  41.711118 -87.536485      3  Tuesday   \n",
       "\n",
       "    0_direction  0_volume 1_direction  1_volume  \n",
       "132       North      3200       South      1800  \n",
       "133       North      2100       South      2100  "
      ]
     },
     "execution_count": 26,
     "metadata": {},
     "output_type": "execute_result"
    }
   ],
   "source": [
    "data_chicago_06_day[data_chicago_06_day['Street'].str.split(' ').str[-1]=='L']"
   ]
  },
  {
   "cell_type": "code",
   "execution_count": 27,
   "metadata": {},
   "outputs": [
    {
     "data": {
      "text/html": [
       "<div>\n",
       "<style scoped>\n",
       "    .dataframe tbody tr th:only-of-type {\n",
       "        vertical-align: middle;\n",
       "    }\n",
       "\n",
       "    .dataframe tbody tr th {\n",
       "        vertical-align: top;\n",
       "    }\n",
       "\n",
       "    .dataframe thead th {\n",
       "        text-align: right;\n",
       "    }\n",
       "</style>\n",
       "<table border=\"1\" class=\"dataframe\">\n",
       "  <thead>\n",
       "    <tr style=\"text-align: right;\">\n",
       "      <th></th>\n",
       "      <th>ID</th>\n",
       "      <th>Address</th>\n",
       "      <th>Street</th>\n",
       "      <th>Total</th>\n",
       "      <th>Latitude</th>\n",
       "      <th>Longitude</th>\n",
       "      <th>month</th>\n",
       "      <th>day</th>\n",
       "      <th>0_direction</th>\n",
       "      <th>0_volume</th>\n",
       "      <th>1_direction</th>\n",
       "      <th>1_volume</th>\n",
       "    </tr>\n",
       "  </thead>\n",
       "  <tbody>\n",
       "    <tr>\n",
       "      <th>688</th>\n",
       "      <td>751</td>\n",
       "      <td>11233 South</td>\n",
       "      <td>Avenue O</td>\n",
       "      <td>16000</td>\n",
       "      <td>41.690863</td>\n",
       "      <td>-87.540104</td>\n",
       "      <td>10</td>\n",
       "      <td>Wednesday</td>\n",
       "      <td>North</td>\n",
       "      <td>8100</td>\n",
       "      <td>South</td>\n",
       "      <td>7900</td>\n",
       "    </tr>\n",
       "    <tr>\n",
       "      <th>1177</th>\n",
       "      <td>1299</td>\n",
       "      <td>10928 South</td>\n",
       "      <td>Avenue O</td>\n",
       "      <td>12400</td>\n",
       "      <td>41.696434</td>\n",
       "      <td>-87.540090</td>\n",
       "      <td>10</td>\n",
       "      <td>Wednesday</td>\n",
       "      <td>North</td>\n",
       "      <td>7000</td>\n",
       "      <td>South</td>\n",
       "      <td>5400</td>\n",
       "    </tr>\n",
       "  </tbody>\n",
       "</table>\n",
       "</div>"
      ],
      "text/plain": [
       "        ID      Address    Street  Total   Latitude  Longitude  month  \\\n",
       "688    751  11233 South  Avenue O  16000  41.690863 -87.540104     10   \n",
       "1177  1299  10928 South  Avenue O  12400  41.696434 -87.540090     10   \n",
       "\n",
       "            day 0_direction  0_volume 1_direction  1_volume  \n",
       "688   Wednesday       North      8100       South      7900  \n",
       "1177  Wednesday       North      7000       South      5400  "
      ]
     },
     "execution_count": 27,
     "metadata": {},
     "output_type": "execute_result"
    }
   ],
   "source": [
    "data_chicago_06_day[data_chicago_06_day['Street'].str.split(' ').str[-1]=='O']"
   ]
  },
  {
   "cell_type": "code",
   "execution_count": 28,
   "metadata": {},
   "outputs": [
    {
     "data": {
      "text/html": [
       "<div>\n",
       "<style scoped>\n",
       "    .dataframe tbody tr th:only-of-type {\n",
       "        vertical-align: middle;\n",
       "    }\n",
       "\n",
       "    .dataframe tbody tr th {\n",
       "        vertical-align: top;\n",
       "    }\n",
       "\n",
       "    .dataframe thead th {\n",
       "        text-align: right;\n",
       "    }\n",
       "</style>\n",
       "<table border=\"1\" class=\"dataframe\">\n",
       "  <thead>\n",
       "    <tr style=\"text-align: right;\">\n",
       "      <th></th>\n",
       "      <th>ID</th>\n",
       "      <th>Address</th>\n",
       "      <th>Street</th>\n",
       "      <th>Total</th>\n",
       "      <th>Latitude</th>\n",
       "      <th>Longitude</th>\n",
       "      <th>month</th>\n",
       "      <th>day</th>\n",
       "      <th>0_direction</th>\n",
       "      <th>0_volume</th>\n",
       "      <th>1_direction</th>\n",
       "      <th>1_volume</th>\n",
       "    </tr>\n",
       "  </thead>\n",
       "  <tbody>\n",
       "    <tr>\n",
       "      <th>341</th>\n",
       "      <td>375</td>\n",
       "      <td>2701 West</td>\n",
       "      <td>Pope John Paul II</td>\n",
       "      <td>7000</td>\n",
       "      <td>41.815579</td>\n",
       "      <td>-87.692019</td>\n",
       "      <td>5</td>\n",
       "      <td>Tuesday</td>\n",
       "      <td>West</td>\n",
       "      <td>7000</td>\n",
       "      <td>East</td>\n",
       "      <td>0</td>\n",
       "    </tr>\n",
       "  </tbody>\n",
       "</table>\n",
       "</div>"
      ],
      "text/plain": [
       "      ID    Address             Street  Total   Latitude  Longitude  month  \\\n",
       "341  375  2701 West  Pope John Paul II   7000  41.815579 -87.692019      5   \n",
       "\n",
       "         day 0_direction  0_volume 1_direction  1_volume  \n",
       "341  Tuesday        West      7000        East         0  "
      ]
     },
     "execution_count": 28,
     "metadata": {},
     "output_type": "execute_result"
    }
   ],
   "source": [
    "# check the detailed information of \"II\"\n",
    "data_chicago_06_day[data_chicago_06_day['Street'].str.split(' ').str[-1]=='II']"
   ]
  },
  {
   "cell_type": "markdown",
   "metadata": {},
   "source": [
    "After checking the detailed information of streets name ending with \"O\", \"L\", \"II\", it is easily to find that these names are different format. But since there are no duplicate names with these names in the dataset, it is ok to leave it there. "
   ]
  },
  {
   "cell_type": "markdown",
   "metadata": {},
   "source": [
    "Until now, I have finished the basic data cleaning and feature engineering. Now the data can be used to do further analysis and answer the question. However, this does not mean the data is perfect, further data filtering are still needed according to the actural situation and requirement. Let's dive in."
   ]
  },
  {
   "cell_type": "markdown",
   "metadata": {},
   "source": [
    "<a id='street'></a>\n",
    "## Q1: What is the busiest street?"
   ]
  },
  {
   "cell_type": "code",
   "execution_count": 29,
   "metadata": {},
   "outputs": [
    {
     "data": {
      "text/plain": [
       "Street\n",
       "Western Ave    1116100\n",
       "Name: Total, dtype: int64"
      ]
     },
     "execution_count": 29,
     "metadata": {},
     "output_type": "execute_result"
    }
   ],
   "source": [
    "# check the busiest street\n",
    "data_chicago_06_day.groupby('Street')['Total'].sum().sort_values(ascending = False).head(1)"
   ]
  },
  {
   "cell_type": "markdown",
   "metadata": {},
   "source": [
    "Based on all the data we have, it is easily to find that the busiest street is \"Western Ave\". However, since this is sample counts that will be taken to used to estimate the whole traffic in future, I have to check the counts distribution and if the sample is selected randomly as following."
   ]
  },
  {
   "cell_type": "code",
   "execution_count": 30,
   "metadata": {},
   "outputs": [
    {
     "data": {
      "text/plain": [
       "Western Ave    33\n",
       "Damen Ave      33\n",
       "Ashland Ave    30\n",
       "Halsted St     26\n",
       "Pulaski Rd     26\n",
       "               ..\n",
       "Higgins Rd      1\n",
       "92nd St         1\n",
       "83rd Pl         1\n",
       "109th St        1\n",
       "57th Dr         1\n",
       "Name: Street, Length: 229, dtype: int64"
      ]
     },
     "execution_count": 30,
     "metadata": {},
     "output_type": "execute_result"
    }
   ],
   "source": [
    "# Street Vs. count times\n",
    "data_chicago_06_day['Street'].value_counts()"
   ]
  },
  {
   "cell_type": "code",
   "execution_count": 31,
   "metadata": {},
   "outputs": [
    {
     "data": {
      "text/plain": [
       "(0.0, 35.0)"
      ]
     },
     "execution_count": 31,
     "metadata": {},
     "output_type": "execute_result"
    },
    {
     "data": {
      "image/png": "[encoded data removed]",
      "text/plain": [
       "<Figure size 864x360 with 2 Axes>"
      ]
     },
     "metadata": {
      "needs_background": "light"
     },
     "output_type": "display_data"
    }
   ],
   "source": [
    "# visualization of streets's name Vs. Count numbers\n",
    "fig,ax = plt.subplots(1,2,figsize=(12,5))\n",
    "\n",
    "data_chicago_06_day['Street'].value_counts().sort_values(ascending=False).head(10).plot(kind='bar',ax=ax[0])\n",
    "ax[0].set_xticklabels(ax[0].get_xticklabels(),rotation=75)\n",
    "\n",
    "data_chicago_06_day['Street'].value_counts().sort_values(ascending=False).tail(11).plot(kind='bar',ax=ax[1])\n",
    "plt.xticks(rotation=75)\n",
    "plt.ylim(0,35)"
   ]
  },
  {
   "cell_type": "markdown",
   "metadata": {},
   "source": [
    "From the above information, it is easily to find that streets are not counted randomly,for example, some streets are counted too many times compared with others, while some streets are only counted once,which has raise a severe **selection bias** problem."
   ]
  },
  {
   "cell_type": "code",
   "execution_count": 32,
   "metadata": {},
   "outputs": [
    {
     "data": {
      "text/plain": [
       "Counter({33: 2,\n",
       "         30: 1,\n",
       "         26: 2,\n",
       "         23: 1,\n",
       "         21: 1,\n",
       "         20: 1,\n",
       "         19: 2,\n",
       "         18: 1,\n",
       "         17: 3,\n",
       "         16: 1,\n",
       "         15: 2,\n",
       "         14: 3,\n",
       "         13: 5,\n",
       "         12: 5,\n",
       "         11: 5,\n",
       "         10: 7,\n",
       "         9: 12,\n",
       "         8: 7,\n",
       "         7: 12,\n",
       "         6: 13,\n",
       "         5: 7,\n",
       "         4: 12,\n",
       "         3: 18,\n",
       "         2: 25,\n",
       "         1: 81})"
      ]
     },
     "execution_count": 32,
     "metadata": {},
     "output_type": "execute_result"
    }
   ],
   "source": [
    "# The distribution of count numbers of streets\n",
    "import collections\n",
    "street_counts = data_chicago_06_day['Street'].value_counts().sort_values(ascending=False).values\n",
    "collections.Counter(street_counts)"
   ]
  },
  {
   "cell_type": "code",
   "execution_count": 33,
   "metadata": {},
   "outputs": [
    {
     "data": {
      "text/plain": [
       "Text(0, 0.5, 'Frequency')"
      ]
     },
     "execution_count": 33,
     "metadata": {},
     "output_type": "execute_result"
    },
    {
     "data": {
      "image/png": "[encoded data removed]",
      "text/plain": [
       "<Figure size 432x288 with 1 Axes>"
      ]
     },
     "metadata": {
      "needs_background": "light"
     },
     "output_type": "display_data"
    }
   ],
   "source": [
    "# Visulation of distribution of counts numbers of streets\n",
    "sns.histplot(street_counts, kde=True,bins =34)\n",
    "plt.xlabel('Count Times of Streets')\n",
    "plt.ylabel('Frequency')"
   ]
  },
  {
   "cell_type": "code",
   "execution_count": 88,
   "metadata": {},
   "outputs": [
    {
     "data": {
      "text/plain": [
       "983"
      ]
     },
     "execution_count": 88,
     "metadata": {},
     "output_type": "execute_result"
    }
   ],
   "source": [
    "# Total data after we choose count time greater or equal 6\n",
    "data_chicago_06_day.groupby('Street')['ID'].count()[data_chicago_06_day.groupby('Street')['ID'].count()>=6].values.sum()"
   ]
  },
  {
   "cell_type": "code",
   "execution_count": null,
   "metadata": {},
   "outputs": [],
   "source": [
    "## find the threshold values of count times to get the maximum data, \n",
    "final_count = {}\n",
    "\n",
    "# i is count times of street\n",
    "for i in range(1,34):\n",
    "    data_chicago_06_day_ = data_chicago_06_day.groupby('Street')['ID'].count()[data_chicago_06_day.groupby('Street')['ID'].count()>=i]\n",
    "    # how many data I can get when I set i as count times \n",
    "    final_count[i] = i * data_chicago_06_day_.shape[0]\n",
    "    \n",
    "# to get the maximum data, which count times should be chose \n",
    "print(\"The best count times of the streets is: %d\"%max(final_count, key=final_count.get))\n",
    "print(\"The maximum data we can use is: %d\" %max(final_count.values()))"
   ]
  },
  {
   "cell_type": "code",
   "execution_count": 362,
   "metadata": {},
   "outputs": [
    {
     "name": "stdout",
     "output_type": "stream",
     "text": [
      "The best count times of the streets is: 12\n",
      "The maximum data we can use is: 1032\n"
     ]
    }
   ],
   "source": [
    "final_count = {}\n",
    "\n",
    "# i is count times of street\n",
    "for i in range(1,34):\n",
    "    data_chicago_06_day_ = data_chicago_06_day.groupby('Street')['ID'].count()[data_chicago_06_day.groupby('Street')['ID'].count()>=i]\n",
    "    # how many data I can get when I set i as count times \n",
    "    final_count[i] = i * data_chicago_06_day_.shape[0]\n",
    "    \n",
    "# to get the maximum data, which count times should be chose \n",
    "print(\"The best count times of the streets is: %d\"%max(final_count, key=final_count.get))\n",
    "print(\"The maximum data we can use is: %d\" %max(final_count.values()))"
   ]
  },
  {
   "cell_type": "code",
   "execution_count": 361,
   "metadata": {},
   "outputs": [
    {
     "data": {
      "text/plain": [
       "123"
      ]
     },
     "execution_count": 361,
     "metadata": {},
     "output_type": "execute_result"
    }
   ],
   "source": [
    "data_chicago_06_day_ = data_chicago_06_day.groupby('Street')['ID'].count()[data_chicago_06_day.groupby('Street')['ID'].count()>=6]\n",
    "data_chicago_06_day_.shape[0]"
   ]
  },
  {
   "cell_type": "code",
   "execution_count": 64,
   "metadata": {},
   "outputs": [
    {
     "data": {
      "text/plain": [
       "Text(0, 0.5, 'Amounts of Data')"
      ]
     },
     "execution_count": 64,
     "metadata": {},
     "output_type": "execute_result"
    },
    {
     "data": {
      "image/png": "[encoded data removed]",
      "text/plain": [
       "<Figure size 432x288 with 1 Axes>"
      ]
     },
     "metadata": {
      "needs_background": "light"
     },
     "output_type": "display_data"
    }
   ],
   "source": [
    "# Visualization of the relationship between count times and maximum data we can use\n",
    "x = np.array(list(final_count.keys()))\n",
    "y = np.array(list(final_count.values()))\n",
    "sns.scatterplot(x=x,y=y)\n",
    "\n",
    "xmax = x[np.argmax(y)]\n",
    "ymax = y.max()\n",
    "\n",
    "plt.text(xmax,ymax+15,'Max Point:(6, 516)')\n",
    "plt.ylim(0, 570)\n",
    "plt.xlabel('Counts Times')\n",
    "plt.ylabel('Amounts of Data')"
   ]
  },
  {
   "cell_type": "markdown",
   "metadata": {},
   "source": [
    "Based on the above analysis, to get the most data and avoid data waste, I would choose 6 as the count times, which means only those strees that were recorded 6 times would be chosen for further analysis. And for those whose records history were less than 6 will be dropped, and for those whose records history were greater than 6, 6 records will be randomly chose from their total count times records. For example, \"Western Ave\" was found to be the most busiest street, because it was counted 33 times, which brought the selection bias problem. To deal with this problem, only 6 were selected randomly from 33."
   ]
  },
  {
   "cell_type": "code",
   "execution_count": 78,
   "metadata": {},
   "outputs": [
    {
     "data": {
      "text/plain": [
       "Street\n",
       "103rd St          9\n",
       "111th St          6\n",
       "26th St           8\n",
       "31st St          16\n",
       "35th St           8\n",
       "                 ..\n",
       "Wacker Dr         6\n",
       "Washington St    13\n",
       "Wells St         10\n",
       "Wentworth Ave     6\n",
       "Western Ave      33\n",
       "Name: ID, Length: 86, dtype: int64"
      ]
     },
     "execution_count": 78,
     "metadata": {},
     "output_type": "execute_result"
    }
   ],
   "source": [
    "data_chicago_06_day_street = data_chicago_06_day.groupby('Street')['ID'].count()[data_chicago_06_day.groupby('Street')['ID'].count()>=6]\n",
    "data_chicago_06_day_street"
   ]
  },
  {
   "cell_type": "code",
   "execution_count": 79,
   "metadata": {},
   "outputs": [
    {
     "data": {
      "text/plain": [
       "(516, 12)"
      ]
     },
     "execution_count": 79,
     "metadata": {},
     "output_type": "execute_result"
    }
   ],
   "source": [
    "# get the dataset in which every street are counted 6 times\n",
    "data_chicago_06_day_str = data_chicago_06_day[data_chicago_06_day['Street']==\"103rd St\"].sample(6,random_state=42)\n",
    "\n",
    "for i in data_chicago_06_day_street.index[1:]:\n",
    "    new = data_chicago_06_day[data_chicago_06_day['Street']==i].sample(6,random_state=42)    \n",
    "    data_chicago_06_day_str = pd.concat([new, data_chicago_06_day_str])\n",
    "    \n",
    "data_chicago_06_day_str.shape"
   ]
  },
  {
   "cell_type": "markdown",
   "metadata": {},
   "source": [
    "It can be found that after dealing with the selection bias problem of street, the amount of data has decresed from 1251 to 512, which means that only about 41% of the original data can be used."
   ]
  },
  {
   "cell_type": "code",
   "execution_count": 288,
   "metadata": {},
   "outputs": [
    {
     "data": {
      "text/plain": [
       "Street\n",
       "Stony Island Ave    326100\n",
       "Cicero Ave          258000\n",
       "Cumberland Ave      244000\n",
       "Name: Total, dtype: int64"
      ]
     },
     "execution_count": 288,
     "metadata": {},
     "output_type": "execute_result"
    }
   ],
   "source": [
    "# the busiest street\n",
    "data_chicago_06_day_str.groupby('Street')['Total'].sum().sort_values(ascending = False).head(3)"
   ]
  },
  {
   "cell_type": "code",
   "execution_count": 218,
   "metadata": {},
   "outputs": [
    {
     "data": {
      "text/plain": [
       "Street\n",
       "Stony Island Ave    326100\n",
       "Cicero Ave          258000\n",
       "Cumberland Ave      244000\n",
       "Name: Total, dtype: int64"
      ]
     },
     "execution_count": 218,
     "metadata": {},
     "output_type": "execute_result"
    }
   ],
   "source": [
    "# get the dataset in which every street counted 6 times but the random_state were dropped\n",
    "data_chicago_06_day_str = data_chicago_06_day[data_chicago_06_day['Street']==\"103rd St\"].sample(6)\n",
    "\n",
    "for i in data_chicago_06_day_street.index[1:]:\n",
    "    new = data_chicago_06_day[data_chicago_06_day['Street']==i].sample(6)    \n",
    "    data_chicago_06_day_str = pd.concat([new, data_chicago_06_day_str])\n",
    "    \n",
    "data_chicago_06_day_str.groupby('Street')['Total'].sum().sort_values(ascending = False).head(3)"
   ]
  },
  {
   "cell_type": "code",
   "execution_count": 219,
   "metadata": {},
   "outputs": [
    {
     "data": {
      "text/plain": [
       "Street\n",
       "Cicero Ave        375600\n",
       "Irving Park Rd    350000\n",
       "Ashland Ave       343700\n",
       "Name: Total, dtype: int64"
      ]
     },
     "execution_count": 219,
     "metadata": {},
     "output_type": "execute_result"
    }
   ],
   "source": [
    "# get the dataset in which every street are counted 10 times\n",
    "data_chicago_06_day_street_2 = data_chicago_06_day.groupby('Street')['ID'].count()[data_chicago_06_day.groupby('Street')['ID'].count()>=10]\n",
    "\n",
    "data_chicago_06_day_str_2 = data_chicago_06_day[data_chicago_06_day['Street']==\"31st St\"].sample(10)\n",
    "\n",
    "for i in data_chicago_06_day_street_2.index[1:]:\n",
    "    new = data_chicago_06_day[data_chicago_06_day['Street']==i].sample(10)    \n",
    "    data_chicago_06_day_str_2 = pd.concat([new, data_chicago_06_day_str_2])\n",
    "    \n",
    "data_chicago_06_day_str_2.groupby('Street')['Total'].sum().sort_values(ascending = False).head(3)"
   ]
  },
  {
   "cell_type": "code",
   "execution_count": 220,
   "metadata": {},
   "outputs": [
    {
     "data": {
      "text/plain": [
       "Street\n",
       "Western Ave    592400\n",
       "Ashland Ave    573200\n",
       "Pulaski Rd     525200\n",
       "Name: Total, dtype: int64"
      ]
     },
     "execution_count": 220,
     "metadata": {},
     "output_type": "execute_result"
    }
   ],
   "source": [
    "# get the dataset in which every street are counted 18 times\n",
    "data_chicago_06_day_street_3 = data_chicago_06_day.groupby('Street')['ID'].count()[data_chicago_06_day.groupby('Street')['ID'].count()>=18]\n",
    "\n",
    "data_chicago_06_day_str_3 = data_chicago_06_day[data_chicago_06_day['Street']==\"Ashland Ave\"].sample(18)\n",
    "\n",
    "for i in data_chicago_06_day_street_3.index[1:]:\n",
    "    new = data_chicago_06_day[data_chicago_06_day['Street']==i].sample(18)    \n",
    "    data_chicago_06_day_str_3 = pd.concat([new, data_chicago_06_day_str_3])\n",
    "    \n",
    "data_chicago_06_day_str_3.groupby('Street')['Total'].sum().sort_values(ascending = False).head(3)"
   ]
  },
  {
   "cell_type": "markdown",
   "metadata": {},
   "source": [
    "**Answer to Q1:**\n",
    "\n",
    "Based on the current 516 data, when I set the count times to be 6, **the busiest street on workday in Chicago in 2006 is \"Stony Isaland Ave\"**, which was only relatively stable. Since the sample are selected randomly, when I chose another sample from the same street, there are great possibilities that both the busiest and second busiest streets changed. \n",
    "\n",
    "When I increased the **count times to be 10**, the busiest street will change to be **\"Cicero Ave\"** and when I further increased the **count times to be 18**, the busiest street will then change to be **\"Western Ave\"**. \n",
    "\n",
    "\n",
    "And when count times is larger than 10,both the busiest and second busiest streets are relatively more stable and change little compared with when count times to be 6. So, this further demonstrated the importance of count times, **the more the count times is, the data is more statistical significance and the busiest data will be more stable**."
   ]
  },
  {
   "cell_type": "markdown",
   "metadata": {},
   "source": [
    "If more data can be collected, such as more data on weekend and specific count times for every street, we can get more further analysis. For example, we can know what is the busiest street on workday and weekend, what is the busiest time in a day, what is the busiest season in a year, how the traffic changed compared with the same time in the last year etc.."
   ]
  },
  {
   "cell_type": "markdown",
   "metadata": {},
   "source": [
    "<a id='month'></a>\n",
    "## Q2: What is the busiest month?"
   ]
  },
  {
   "cell_type": "code",
   "execution_count": 229,
   "metadata": {},
   "outputs": [
    {
     "data": {
      "text/plain": [
       "10    153\n",
       "8      99\n",
       "3      95\n",
       "9      92\n",
       "11     31\n",
       "4      25\n",
       "5      13\n",
       "2       6\n",
       "12      2\n",
       "Name: month, dtype: int64"
      ]
     },
     "execution_count": 229,
     "metadata": {},
     "output_type": "execute_result"
    }
   ],
   "source": [
    "data_chicago_06_day_str['month'].value_counts()"
   ]
  },
  {
   "cell_type": "code",
   "execution_count": 231,
   "metadata": {},
   "outputs": [
    {
     "data": {
      "text/plain": [
       "<seaborn.axisgrid.FacetGrid at 0x210014e8430>"
      ]
     },
     "execution_count": 231,
     "metadata": {},
     "output_type": "execute_result"
    },
    {
     "data": {
      "image/png": "[encoded data removed]",
      "text/plain": [
       "<Figure size 360x360 with 1 Axes>"
      ]
     },
     "metadata": {
      "needs_background": "light"
     },
     "output_type": "display_data"
    }
   ],
   "source": [
    "sns.displot(data_chicago_06_day_str['month'],bins =12,kde=True)"
   ]
  },
  {
   "cell_type": "markdown",
   "metadata": {},
   "source": [
    "Since the counts are not distributed uniformly in each month, most were collected in Mar., Aug., Sep., and Oct., to avoid selection bias which can bring false result, I would like to choose these four month as representatve and check which month is the busiest. However, since the count times in these 4 monthes also showed some difference, such as the count numbers in March are nearly 62% of that in Oct., to avoid the possible selection bias, I would like to choose 100 randomly from Oct."
   ]
  },
  {
   "cell_type": "code",
   "execution_count": 241,
   "metadata": {},
   "outputs": [
    {
     "data": {
      "text/plain": [
       "(439, 12)"
      ]
     },
     "execution_count": 241,
     "metadata": {},
     "output_type": "execute_result"
    }
   ],
   "source": [
    "# due to the selection bias of month, I will only choose the busiest month from 3,8,9,10\n",
    "data_chicago_06_day_str_month = data_chicago_06_day_str[data_chicago_06_day_str['month'].isin([3,8,9,10])]\n",
    "data_chicago_06_day_str_month.shape"
   ]
  },
  {
   "cell_type": "code",
   "execution_count": 242,
   "metadata": {},
   "outputs": [
    {
     "data": {
      "text/plain": [
       "(386, 12)"
      ]
     },
     "execution_count": 242,
     "metadata": {},
     "output_type": "execute_result"
    }
   ],
   "source": [
    "# due to too much data in oct, I will randomly choose 100 from 153 data\n",
    "data_chicago_06_day_str_10 = data_chicago_06_day_str[data_chicago_06_day_str['month']==10].sample(100)\n",
    "\n",
    "data_chicago_06_day_str_mon = pd.concat([data_chicago_06_day_str[data_chicago_06_day_str['month'].isin([3,8,9])],data_chicago_06_day_str_10])\n",
    "data_chicago_06_day_str_mon.shape"
   ]
  },
  {
   "cell_type": "code",
   "execution_count": 251,
   "metadata": {},
   "outputs": [
    {
     "data": {
      "text/plain": [
       "month\n",
       "8     2414000\n",
       "10    2008600\n",
       "3     1754600\n",
       "9     1557300\n",
       "Name: Total, dtype: int64"
      ]
     },
     "execution_count": 251,
     "metadata": {},
     "output_type": "execute_result"
    }
   ],
   "source": [
    "# the busiest month \n",
    "data_chicago_06_day_str_mon.groupby('month')[\"Total\"].sum().sort_values(ascending = False)"
   ]
  },
  {
   "cell_type": "markdown",
   "metadata": {},
   "source": [
    "**Answer to Q2:**\n",
    "\n",
    "Due to the shortage of data and severe selection bias problem, the busiest month currently can only be chosen from 3,8,9 and 10. Finally, it was found that the busiest month of chicago on workday in 2006 is August on workday in Chicago in 2006."
   ]
  },
  {
   "cell_type": "markdown",
   "metadata": {},
   "source": [
    "<a id='direction'></a>\n",
    "## Q3: Which direction is the busiest one(N,S,E,W)?"
   ]
  },
  {
   "cell_type": "code",
   "execution_count": 245,
   "metadata": {},
   "outputs": [
    {
     "data": {
      "text/plain": [
       "(516, 12)"
      ]
     },
     "execution_count": 245,
     "metadata": {},
     "output_type": "execute_result"
    }
   ],
   "source": [
    "# rename the dataframe to make it easier to handle\n",
    "data_final = data_chicago_06_day_str"
   ]
  },
  {
   "cell_type": "code",
   "execution_count": 246,
   "metadata": {},
   "outputs": [
    {
     "data": {
      "text/plain": [
       "(1032, 10)"
      ]
     },
     "execution_count": 246,
     "metadata": {},
     "output_type": "execute_result"
    }
   ],
   "source": [
    "# concatenate the \"0_direction\" and \"1_direction\"\n",
    "data_final_0 = data_final.drop(['1_direction',\"1_volume\"],axis=1)\n",
    "data_final_0 = data_final_0.rename(columns = {'0_direction':\"direction\",\"0_volume\":\"volume\"})\n",
    "\n",
    "data_final_1 = data_final.drop(['0_direction',\"0_volume\"],axis=1)\n",
    "data_final_1 = data_final_0.rename(columns = {'1_direction':\"direction\",\"1_volume\":\"volume\"})\n",
    "\n",
    "data_final_dir = pd.concat([data_final_0,data_final_1])\n",
    "data_final_dir.shape"
   ]
  },
  {
   "cell_type": "code",
   "execution_count": 247,
   "metadata": {},
   "outputs": [
    {
     "data": {
      "text/plain": [
       "direction\n",
       "East     5060600\n",
       "North    4852000\n",
       "West      363800\n",
       "South     351400\n",
       "Name: volume, dtype: int64"
      ]
     },
     "execution_count": 247,
     "metadata": {},
     "output_type": "execute_result"
    }
   ],
   "source": [
    "# get the busiest direction\n",
    "data_final_dir.groupby('direction')['volume'].sum().sort_values(ascending = False)"
   ]
  },
  {
   "cell_type": "markdown",
   "metadata": {},
   "source": [
    "**Answer to Q3:**\n",
    "\n",
    "The busiest direction on the workday in Chicage in 2006 is the East direction."
   ]
  },
  {
   "cell_type": "markdown",
   "metadata": {},
   "source": [
    "<a id='else'></a>\n",
    "## Q4: Which else?\n",
    "- What is the busiest street in the busiest month?\n",
    "- What is the busiet street in the busiest direction?\n",
    "- What is the busiest street in each direction?\n",
    "- What's the situation when compared east-west direction with south-north direction?"
   ]
  },
  {
   "cell_type": "markdown",
   "metadata": {},
   "source": [
    "<a id='4.1'></a>\n",
    "### Q4.1: What is the busiest street in the busiest month?"
   ]
  },
  {
   "cell_type": "code",
   "execution_count": 258,
   "metadata": {
    "scrolled": true
   },
   "outputs": [
    {
     "data": {
      "text/plain": [
       "Street\n",
       "Fullerton Ave     165300\n",
       "Irving Park Rd    158800\n",
       "Devon Ave         151100\n",
       "Name: Total, dtype: int64"
      ]
     },
     "execution_count": 258,
     "metadata": {},
     "output_type": "execute_result"
    }
   ],
   "source": [
    "# the busiest street in the busiest month\n",
    "data_chicago_06_day_str_8 = data_chicago_06_day_str_mon[data_chicago_06_day_str_mon['month']==8]\n",
    "data_chicago_06_day_str_8.groupby('Street')['Total'].sum().sort_values(ascending = False).head(3)"
   ]
  },
  {
   "cell_type": "markdown",
   "metadata": {},
   "source": [
    "**Answer to Q4.1:**\n",
    "\n",
    "The busiest street in the busiest month on weekday in Chicago in 2006 is \"Fullerton Ave\"."
   ]
  },
  {
   "cell_type": "markdown",
   "metadata": {},
   "source": [
    "<a id='4.2'></a>\n",
    "### Q4.2: What is the busiest street in the busiest direction?"
   ]
  },
  {
   "cell_type": "code",
   "execution_count": 262,
   "metadata": {},
   "outputs": [
    {
     "data": {
      "text/plain": [
       "Street\n",
       "North Ave         210400\n",
       "Irving Park Rd    210000\n",
       "Fullerton Ave     201000\n",
       "Name: volume, dtype: int64"
      ]
     },
     "execution_count": 262,
     "metadata": {},
     "output_type": "execute_result"
    }
   ],
   "source": [
    "# the busiest street is \"east\"\n",
    "data_final_dir[data_final_dir['direction']=='East'].groupby('Street')['volume'].sum().sort_values(ascending = False).head(3)"
   ]
  },
  {
   "cell_type": "markdown",
   "metadata": {},
   "source": [
    "**Answer to Q4.2:**\n",
    "\n",
    "The busiest street in the busiest direction on weekday in Chicago in 2006 is \"North Ave\"."
   ]
  },
  {
   "cell_type": "markdown",
   "metadata": {},
   "source": [
    "<a id='4.3'></a>\n",
    "### Q4.3: What is the busiest street in each direction?"
   ]
  },
  {
   "cell_type": "code",
   "execution_count": 281,
   "metadata": {},
   "outputs": [
    {
     "data": {
      "text/html": [
       "<div>\n",
       "<style scoped>\n",
       "    .dataframe tbody tr th:only-of-type {\n",
       "        vertical-align: middle;\n",
       "    }\n",
       "\n",
       "    .dataframe tbody tr th {\n",
       "        vertical-align: top;\n",
       "    }\n",
       "\n",
       "    .dataframe thead th {\n",
       "        text-align: right;\n",
       "    }\n",
       "</style>\n",
       "<table border=\"1\" class=\"dataframe\">\n",
       "  <thead>\n",
       "    <tr style=\"text-align: right;\">\n",
       "      <th></th>\n",
       "      <th></th>\n",
       "      <th>volume</th>\n",
       "    </tr>\n",
       "    <tr>\n",
       "      <th>direction</th>\n",
       "      <th>Street</th>\n",
       "      <th></th>\n",
       "    </tr>\n",
       "  </thead>\n",
       "  <tbody>\n",
       "    <tr>\n",
       "      <th rowspan=\"3\" valign=\"top\">West</th>\n",
       "      <th>Randolph St</th>\n",
       "      <td>140600</td>\n",
       "    </tr>\n",
       "    <tr>\n",
       "      <th>Adams St</th>\n",
       "      <td>117400</td>\n",
       "    </tr>\n",
       "    <tr>\n",
       "      <th>Madison St</th>\n",
       "      <td>69000</td>\n",
       "    </tr>\n",
       "    <tr>\n",
       "      <th rowspan=\"3\" valign=\"top\">South</th>\n",
       "      <th>Clark St</th>\n",
       "      <td>176400</td>\n",
       "    </tr>\n",
       "    <tr>\n",
       "      <th>Wells St</th>\n",
       "      <td>85200</td>\n",
       "    </tr>\n",
       "    <tr>\n",
       "      <th>Wabash Ave</th>\n",
       "      <td>74200</td>\n",
       "    </tr>\n",
       "    <tr>\n",
       "      <th rowspan=\"3\" valign=\"top\">North</th>\n",
       "      <th>Stony Island Ave</th>\n",
       "      <td>346400</td>\n",
       "    </tr>\n",
       "    <tr>\n",
       "      <th>Cicero Ave</th>\n",
       "      <td>259000</td>\n",
       "    </tr>\n",
       "    <tr>\n",
       "      <th>Cumberland Ave</th>\n",
       "      <td>244400</td>\n",
       "    </tr>\n",
       "    <tr>\n",
       "      <th rowspan=\"3\" valign=\"top\">East</th>\n",
       "      <th>North Ave</th>\n",
       "      <td>210400</td>\n",
       "    </tr>\n",
       "    <tr>\n",
       "      <th>Irving Park Rd</th>\n",
       "      <td>210000</td>\n",
       "    </tr>\n",
       "    <tr>\n",
       "      <th>Fullerton Ave</th>\n",
       "      <td>201000</td>\n",
       "    </tr>\n",
       "  </tbody>\n",
       "</table>\n",
       "</div>"
      ],
      "text/plain": [
       "                            volume\n",
       "direction Street                  \n",
       "West      Randolph St       140600\n",
       "          Adams St          117400\n",
       "          Madison St         69000\n",
       "South     Clark St          176400\n",
       "          Wells St           85200\n",
       "          Wabash Ave         74200\n",
       "North     Stony Island Ave  346400\n",
       "          Cicero Ave        259000\n",
       "          Cumberland Ave    244400\n",
       "East      North Ave         210400\n",
       "          Irving Park Rd    210000\n",
       "          Fullerton Ave     201000"
      ]
     },
     "execution_count": 281,
     "metadata": {},
     "output_type": "execute_result"
    }
   ],
   "source": [
    "# top 3 busiest streets in each direction\n",
    "pd.DataFrame(data_final_dir.groupby(['direction',\"Street\"])['volume'].sum()).sort_values(['direction','volume'],ascending = False).groupby('direction').head(3)"
   ]
  },
  {
   "cell_type": "markdown",
   "metadata": {},
   "source": [
    "<a id='4.4'></a>\n",
    "### Q4.4: What's the situation when compared East-West direction with South-North direction?"
   ]
  },
  {
   "cell_type": "code",
   "execution_count": 285,
   "metadata": {},
   "outputs": [
    {
     "data": {
      "text/plain": [
       "5424400"
      ]
     },
     "execution_count": 285,
     "metadata": {},
     "output_type": "execute_result"
    }
   ],
   "source": [
    "# dataset in east-west direction\n",
    "data_final_ew = data_final_dir[(data_final_dir['direction']=='East') | (data_final_dir['direction']=='West')]\n",
    "data_final_ew['volume'].sum()"
   ]
  },
  {
   "cell_type": "code",
   "execution_count": 286,
   "metadata": {},
   "outputs": [
    {
     "data": {
      "text/plain": [
       "5203400"
      ]
     },
     "execution_count": 286,
     "metadata": {},
     "output_type": "execute_result"
    }
   ],
   "source": [
    "# dataset in south-north direction\n",
    "data_final_sn = data_final_dir[(data_final_dir['direction']=='South') | (data_final_dir['direction']=='North')]\n",
    "data_final_sn['volume'].sum()"
   ]
  },
  {
   "cell_type": "markdown",
   "metadata": {},
   "source": [
    "**Answer to Q4.4:**\n",
    "\n",
    "The East-West direction is busier than those in South-North direction."
   ]
  },
  {
   "cell_type": "markdown",
   "metadata": {},
   "source": [
    "<a id='summary'></a>\n",
    "## Summary of Preprocessing Data"
   ]
  },
  {
   "cell_type": "markdown",
   "metadata": {},
   "source": [
    "According to the above analysis, I have performed the following to prepare the data:\n",
    "\n",
    "1). Cleaning the data\n",
    "- Convert the data type;\n",
    "- Replace the NaN values using 0 instead of dropping them;\n",
    "- Split the string to get the specific information;\n",
    "- Unify the abbreviation names in the feature;\n",
    "\n",
    "\n",
    "2). Engineering feature\n",
    "- Convert the latitude and longitude to detailed city or address;\n",
    "- Transfer date to the year, month and day;\n",
    "- Split the feature to get more detailed information;\n",
    "- Concatenate the direction feature in the same column;\n",
    "\n",
    "\n",
    "3). Dealing with selection bias\n",
    "\n",
    "- There are a lot of selection bias problems in this dataset, such as city, year, month, day, street etc. \n",
    "\n",
    "\n",
    "- For some of them, it is easier to just keep the majority data since very few data differed from them. For example, I prefer this traffic analysis will focus on Chicago instead of Cook County since 99 % data belongs to the city of Chicago. And I also choose the study will be in 2006 since less than 1% data belonged to 2007. And I also choose this analysis will only focus on workday since there are less than 0.5% data focusing on weekend. \n",
    "\n",
    "\n",
    "- Then to get better understanding of the data, the distribution of street count times were studied. I randomly choose parts of streets count times to avoid the streets selection bias problem."
   ]
  },
  {
   "cell_type": "markdown",
   "metadata": {},
   "source": [
    "<a id='result'></a>\n",
    "## Results and Insights"
   ]
  },
  {
   "cell_type": "markdown",
   "metadata": {},
   "source": [
    "In this project, I processed the traffic data and analyzed city, year, month, day and streets distribution etc.. The listed questions have been successfully answered as above. At the same time I also explored 4 more questions (also listed as above).\n",
    "\n",
    "Herein, I will demonstrate other findings and insights I got from the data. The data has severe **selection bias** problems. For example, most data were collected from Tuesday to Thursday, some were from Monday, but there are no data on Saturday. Because weekday and weekend are especially important for traffic data. So such day distribution easily brought bias to Tuesday, Wednesday and Thursday. Currently, I combined all them together as workday. But if more data on Friday, Saturday and Sunday can be collected. That will give more accurate analysis, which means we can not only get the traffic situation on workday and weekend, but on spefic workday and time.\n",
    "\n",
    "The month also has the same problem with the day. Most data are concentrated on March, August, September and October. So, the analysis about the busiest month is actually not reliable enough. Although I dealt with using randomly selecting sample, the main problem there is not enough data. The streets distribution showed the most serious selection bias problem. Some of streets were counted more than 30 times where others were only counted once, which brought great bias to some streets. I analyzed the count times distribution and dropped those streets whose counts times were little and randomly selected some sample from those counted too much. To some extent, this can reduce the selection bias problems. But getting more data and relatively almost same count times for each street is important to get more accurate analysis.\n",
    "\n",
    "If we can get more data, I think there are many other important things we can do. Firstly, we can analyze the effects of month, day, time on the traffic. Then, we can combined the factors together, and get deeper insights."
   ]
  },
  {
   "cell_type": "markdown",
   "metadata": {},
   "source": [
    "-- END --"
   ]
  }
 ],
 "metadata": {
  "kernelspec": {
   "display_name": "Python 3",
   "language": "python",
   "name": "python3"
  },
  "language_info": {
   "codemirror_mode": {
    "name": "ipython",
    "version": 3
   },
   "file_extension": ".py",
   "mimetype": "text/x-python",
   "name": "python",
   "nbconvert_exporter": "python",
   "pygments_lexer": "ipython3",
   "version": "3.8.3"
  }
 },
 "nbformat": 4,
 "nbformat_minor": 4
}
